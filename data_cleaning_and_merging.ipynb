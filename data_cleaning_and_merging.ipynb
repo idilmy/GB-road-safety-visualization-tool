{
 "cells": [
  {
   "cell_type": "code",
   "execution_count": 3,
   "id": "879d4b51",
   "metadata": {
    "ExecuteTime": {
     "end_time": "2024-05-20T14:09:16.211759700Z",
     "start_time": "2024-05-20T14:09:13.570401100Z"
    }
   },
   "outputs": [],
   "source": [
    "import numpy as np\n",
    "import pandas as pd\n",
    "import scipy.stats as stats\n",
    "import re\n",
    "\n",
    "# display all the attributes\n",
    "pd.set_option('display.max_columns', None)"
   ]
  },
  {
   "cell_type": "code",
   "execution_count": 4,
   "id": "923ad7dd",
   "metadata": {
    "ExecuteTime": {
     "end_time": "2024-05-20T14:09:19.392535100Z",
     "start_time": "2024-05-20T14:09:18.011382Z"
    }
   },
   "outputs": [
    {
     "name": "stderr",
     "output_type": "stream",
     "text": [
      "C:\\Users\\20221803\\AppData\\Local\\Temp\\ipykernel_19524\\3151081040.py:1: DtypeWarning: Columns (0,2) have mixed types. Specify dtype option on import or set low_memory=False.\n",
      "  dataset1 = pd.read_csv(\"datasets/dft-road-casualty-statistics-casualty-2022.csv\")\n",
      "C:\\Users\\20221803\\AppData\\Local\\Temp\\ipykernel_19524\\3151081040.py:2: DtypeWarning: Columns (0,2) have mixed types. Specify dtype option on import or set low_memory=False.\n",
      "  dataset2 = pd.read_csv(\"datasets/dft-road-casualty-statistics-collision-2022.csv\")\n",
      "C:\\Users\\20221803\\AppData\\Local\\Temp\\ipykernel_19524\\3151081040.py:3: DtypeWarning: Columns (0,2) have mixed types. Specify dtype option on import or set low_memory=False.\n",
      "  dataset3 = pd.read_csv(\"datasets/dft-road-casualty-statistics-vehicle-2022.csv\")\n"
     ]
    },
    {
     "data": {
      "text/plain": "       accident_index  accident_year_x accident_reference_x  \\\n0       2022010352073             2022             10352073   \n1       2022010352073             2022             10352073   \n2       2022010352573             2022             10352573   \n3       2022010352573             2022             10352573   \n4       2022010352575             2022             10352575   \n...               ...              ...                  ...   \n223235  2022991312498             2022            991312498   \n223236  2022991312498             2022            991312498   \n223237  2022991315177             2022            991315177   \n223238  2022991321308             2022            991321308   \n223239  2022991322411             2022            991322411   \n\n        location_easting_osgr  location_northing_osgr  longitude   latitude  \\\n0                    525199.0                177928.0  -0.198224  51.486454   \n1                    525199.0                177928.0  -0.198224  51.486454   \n2                    546214.0                179866.0   0.105042  51.498830   \n3                    546214.0                179866.0   0.105042  51.498830   \n4                    551119.0                174789.0   0.173482  51.451924   \n...                       ...                     ...        ...        ...   \n223235               127459.0                663067.0  -6.348650  55.783849   \n223236               127459.0                663067.0  -6.348650  55.783849   \n223237               254396.0                663549.0  -4.326930  55.843114   \n223238               325409.0                677054.0  -3.196963  55.980648   \n223239               324745.0                673696.0  -3.206662  55.950381   \n\n        police_force  accident_severity  number_of_vehicles  \\\n0                  1                  3                   2   \n1                  1                  3                   2   \n2                  1                  3                   2   \n3                  1                  3                   2   \n4                  1                  3                   2   \n...              ...                ...                 ...   \n223235            99                  2                   3   \n223236            99                  2                   3   \n223237            99                  3                   1   \n223238            99                  2                   1   \n223239            99                  2                   1   \n\n        number_of_casualties        date  day_of_week   time  \\\n0                          1  05/01/2022            4  16:40   \n1                          1  05/01/2022            4  16:40   \n2                          1  01/01/2022            7  01:17   \n3                          1  01/01/2022            7  01:17   \n4                          1  01/01/2022            7  01:15   \n...                      ...         ...          ...    ...   \n223235                     1  12/11/2022            7  21:35   \n223236                     1  12/11/2022            7  21:35   \n223237                     1  01/07/2022            6  11:44   \n223238                     1  02/12/2022            6  16:45   \n223239                     1  23/11/2022            4  19:05   \n\n        local_authority_district local_authority_ons_district  \\\n0                             -1                    E09000013   \n1                             -1                    E09000013   \n2                             -1                    E09000011   \n3                             -1                    E09000011   \n4                             -1                    E09000004   \n...                          ...                          ...   \n223235                        -1                    S12000035   \n223236                        -1                    S12000035   \n223237                        -1                    S12000049   \n223238                        -1                    S12000036   \n223239                        -1                    S12000036   \n\n       local_authority_highway  first_road_class  first_road_number  \\\n0                    E09000013                 3               3218   \n1                    E09000013                 3               3218   \n2                    E09000011                 3               2016   \n3                    E09000011                 3               2016   \n4                    E09000004                 3                207   \n...                        ...               ...                ...   \n223235               S12000035                 3                847   \n223236               S12000035                 3                847   \n223237               S12000049                 6                  0   \n223238               S12000036                 3                901   \n223239               S12000036                 3                  8   \n\n        road_type  speed_limit  junction_detail  junction_control  \\\n0               6           30                6                 4   \n1               6           30                6                 4   \n2               3           50                6                 2   \n3               3           50                6                 2   \n4               6           30                9                 4   \n...           ...          ...              ...               ...   \n223235          6           60                0                -1   \n223236          6           60                0                -1   \n223237          6           30                6                 2   \n223238          6           30                3                 4   \n223239          3           20                0                -1   \n\n        second_road_class  second_road_number  \\\n0                       6                   0   \n1                       6                   0   \n2                       6                   0   \n3                       6                   0   \n4                       6                   0   \n...                   ...                 ...   \n223235                  0                  -1   \n223236                  0                  -1   \n223237                  6                   0   \n223238                  3                 901   \n223239                  0                  -1   \n\n        pedestrian_crossing_human_control  \\\n0                                       0   \n1                                       0   \n2                                       0   \n3                                       0   \n4                                       0   \n...                                   ...   \n223235                                  0   \n223236                                  0   \n223237                                  0   \n223238                                  0   \n223239                                  0   \n\n        pedestrian_crossing_physical_facilities  light_conditions  \\\n0                                             0                 4   \n1                                             0                 4   \n2                                             4                 4   \n3                                             4                 4   \n4                                             0                 4   \n...                                         ...               ...   \n223235                                        0                 6   \n223236                                        0                 6   \n223237                                        5                 1   \n223238                                        8                 4   \n223239                                        0                 4   \n\n        weather_conditions  road_surface_conditions  \\\n0                        1                        1   \n1                        1                        1   \n2                        1                        1   \n3                        1                        1   \n4                        1                        1   \n...                    ...                      ...   \n223235                   1                        1   \n223236                   1                        1   \n223237                   1                        1   \n223238                   1                        1   \n223239                   1                        2   \n\n        special_conditions_at_site  carriageway_hazards  urban_or_rural_area  \\\n0                                0                    0                    1   \n1                                0                    0                    1   \n2                                0                    0                    2   \n3                                0                    0                    2   \n4                                0                    0                    1   \n...                            ...                  ...                  ...   \n223235                           0                    0                    2   \n223236                           0                    0                    2   \n223237                           0                    0                    1   \n223238                           0                    0                    1   \n223239                           0                    0                    1   \n\n        did_police_officer_attend_scene_of_accident  trunk_road_flag  \\\n0                                                 1                2   \n1                                                 1                2   \n2                                                 1                2   \n3                                                 1                2   \n4                                                 1                2   \n...                                             ...              ...   \n223235                                            1               -1   \n223236                                            1               -1   \n223237                                            2               -1   \n223238                                            1               -1   \n223239                                            1               -1   \n\n       lsoa_of_accident_location  accident_year_y accident_reference_y  \\\n0                      E01001883           2022.0             10352073   \n1                      E01001883           2022.0             10352073   \n2                      E01033745           2022.0             10352573   \n3                      E01033745           2022.0             10352573   \n4                      E01000378           2022.0             10352575   \n...                          ...              ...                  ...   \n223235                        -1           2022.0            991312498   \n223236                        -1           2022.0            991312498   \n223237                        -1           2022.0            991315177   \n223238                        -1           2022.0            991321308   \n223239                        -1           2022.0            991322411   \n\n        vehicle_reference_x  vehicle_type  towing_and_articulation  \\\n0                       1.0          19.0                      0.0   \n1                       2.0           3.0                      0.0   \n2                       1.0           9.0                      0.0   \n3                       2.0           9.0                      0.0   \n4                       1.0           9.0                      0.0   \n...                     ...           ...                      ...   \n223235                  2.0          19.0                      0.0   \n223236                  3.0           9.0                      0.0   \n223237                  1.0           9.0                      0.0   \n223238                  1.0           9.0                      0.0   \n223239                  1.0           8.0                      0.0   \n\n        vehicle_manoeuvre  vehicle_direction_from  vehicle_direction_to  \\\n0                     9.0                     3.0                   8.0   \n1                    18.0                     1.0                   5.0   \n2                    18.0                     7.0                   3.0   \n3                    13.0                     7.0                   3.0   \n4                    18.0                     4.0                   8.0   \n...                   ...                     ...                   ...   \n223235               18.0                     8.0                   1.0   \n223236                2.0                     8.0                   1.0   \n223237                5.0                     8.0                   4.0   \n223238               18.0                     3.0                   7.0   \n223239               18.0                     7.0                   3.0   \n\n        vehicle_location_restricted_lane  junction_location  \\\n0                                    0.0                1.0   \n1                                    0.0                1.0   \n2                                    0.0                6.0   \n3                                    0.0                6.0   \n4                                    0.0                2.0   \n...                                  ...                ...   \n223235                               0.0                0.0   \n223236                               0.0                0.0   \n223237                               0.0                2.0   \n223238                               0.0                1.0   \n223239                               0.0                0.0   \n\n        skidding_and_overturning  hit_object_in_carriageway  \\\n0                            0.0                        0.0   \n1                            0.0                        0.0   \n2                            0.0                        0.0   \n3                            0.0                        0.0   \n4                            0.0                        0.0   \n...                          ...                        ...   \n223235                       0.0                        0.0   \n223236                       0.0                        0.0   \n223237                       0.0                        0.0   \n223238                      -1.0                       -1.0   \n223239                       0.0                        0.0   \n\n        vehicle_leaving_carriageway  hit_object_off_carriageway  \\\n0                               0.0                         0.0   \n1                               0.0                         0.0   \n2                               1.0                         1.0   \n3                               0.0                         0.0   \n4                               0.0                         0.0   \n...                             ...                         ...   \n223235                          0.0                         0.0   \n223236                          0.0                         0.0   \n223237                          0.0                         0.0   \n223238                         -1.0                         0.0   \n223239                          0.0                         0.0   \n\n        first_point_of_impact  vehicle_left_hand_drive  \\\n0                         1.0                      2.0   \n1                         1.0                      1.0   \n2                         1.0                      1.0   \n3                         1.0                      1.0   \n4                         1.0                      1.0   \n...                       ...                      ...   \n223235                    1.0                      1.0   \n223236                    1.0                      1.0   \n223237                    4.0                      1.0   \n223238                    1.0                      1.0   \n223239                    4.0                      1.0   \n\n        journey_purpose_of_driver  sex_of_driver  age_of_driver  \\\n0                             2.0            1.0           48.0   \n1                             2.0            1.0           17.0   \n2                             6.0            2.0           42.0   \n3                             6.0            3.0           -1.0   \n4                             6.0            1.0           20.0   \n...                           ...            ...            ...   \n223235                        5.0            1.0           43.0   \n223236                        5.0            1.0           62.0   \n223237                        6.0            1.0           61.0   \n223238                        5.0            1.0           77.0   \n223239                        1.0            1.0           60.0   \n\n        age_band_of_driver  engine_capacity_cc  propulsion_code  \\\n0                      8.0              1461.0              2.0   \n1                      4.0               125.0              1.0   \n2                      7.0                -1.0             -1.0   \n3                     -1.0                -1.0             -1.0   \n4                      4.0              1896.0              2.0   \n...                    ...                 ...              ...   \n223235                 7.0              1968.0              2.0   \n223236                 9.0              1229.0              1.0   \n223237                 9.0              1497.0              8.0   \n223238                11.0              1794.0              1.0   \n223239                 9.0              1997.0              2.0   \n\n        age_of_vehicle  generic_make_model  driver_imd_decile  \\\n0                  4.0      RENAULT KANGOO                7.0   \n1                  1.0        HONDA FSH125                1.0   \n2                 -1.0                  -1                5.0   \n3                 -1.0                  -1               -1.0   \n4                 15.0     VOLKSWAGEN GOLF                8.0   \n...                ...                 ...                ...   \n223235             0.0  VOLKSWAGEN CRAFTER                6.0   \n223236            12.0      VAUXHALL CORSA                6.0   \n223237            10.0        TOYOTA YARIS                3.0   \n223238            17.0      TOYOTA AVENSIS               10.0   \n223239             7.0          PEUGEOT E7               -1.0   \n\n        driver_home_area_type lsoa_of_driver  accident_year  \\\n0                         1.0      E01002687         2022.0   \n1                         1.0      E01001364         2022.0   \n2                         1.0      E01000338         2022.0   \n3                        -1.0             -1         2022.0   \n4                         1.0      E01000390         2022.0   \n...                       ...            ...            ...   \n223235                    3.0             -1            NaN   \n223236                    3.0             -1            NaN   \n223237                    1.0             -1            NaN   \n223238                    1.0             -1            NaN   \n223239                   -1.0             -1            NaN   \n\n       accident_reference  vehicle_reference_y  casualty_reference  \\\n0                10352073                  2.0                 1.0   \n1                10352073                  2.0                 1.0   \n2                10352573                  1.0                 1.0   \n3                10352573                  1.0                 1.0   \n4                10352575                  1.0                 1.0   \n...                   ...                  ...                 ...   \n223235                NaN                  NaN                 NaN   \n223236                NaN                  NaN                 NaN   \n223237                NaN                  NaN                 NaN   \n223238                NaN                  NaN                 NaN   \n223239                NaN                  NaN                 NaN   \n\n        casualty_class  sex_of_casualty  age_of_casualty  \\\n0                  1.0              1.0             17.0   \n1                  1.0              1.0             17.0   \n2                  1.0              2.0             42.0   \n3                  1.0              2.0             42.0   \n4                  1.0              1.0             20.0   \n...                ...              ...              ...   \n223235             NaN              NaN              NaN   \n223236             NaN              NaN              NaN   \n223237             NaN              NaN              NaN   \n223238             NaN              NaN              NaN   \n223239             NaN              NaN              NaN   \n\n        age_band_of_casualty  casualty_severity  pedestrian_location  \\\n0                        4.0                3.0                  0.0   \n1                        4.0                3.0                  0.0   \n2                        7.0                3.0                  0.0   \n3                        7.0                3.0                  0.0   \n4                        4.0                3.0                  0.0   \n...                      ...                ...                  ...   \n223235                   NaN                NaN                  NaN   \n223236                   NaN                NaN                  NaN   \n223237                   NaN                NaN                  NaN   \n223238                   NaN                NaN                  NaN   \n223239                   NaN                NaN                  NaN   \n\n        pedestrian_movement  car_passenger  bus_or_coach_passenger  \\\n0                       0.0            0.0                     0.0   \n1                       0.0            0.0                     0.0   \n2                       0.0            0.0                     0.0   \n3                       0.0            0.0                     0.0   \n4                       0.0            0.0                     0.0   \n...                     ...            ...                     ...   \n223235                  NaN            NaN                     NaN   \n223236                  NaN            NaN                     NaN   \n223237                  NaN            NaN                     NaN   \n223238                  NaN            NaN                     NaN   \n223239                  NaN            NaN                     NaN   \n\n        pedestrian_road_maintenance_worker  casualty_type  \\\n0                                      0.0            3.0   \n1                                      0.0            3.0   \n2                                      0.0            9.0   \n3                                      0.0            9.0   \n4                                      0.0            9.0   \n...                                    ...            ...   \n223235                                 NaN            NaN   \n223236                                 NaN            NaN   \n223237                                 NaN            NaN   \n223238                                 NaN            NaN   \n223239                                 NaN            NaN   \n\n        casualty_home_area_type  casualty_imd_decile lsoa_of_casualty  \n0                           1.0                  1.0        E01001364  \n1                           1.0                  1.0        E01001364  \n2                           1.0                  5.0        E01000338  \n3                           1.0                  5.0        E01000338  \n4                           1.0                  8.0        E01000390  \n...                         ...                  ...              ...  \n223235                      NaN                  NaN              NaN  \n223236                      NaN                  NaN              NaN  \n223237                      NaN                  NaN              NaN  \n223238                      NaN                  NaN              NaN  \n223239                      NaN                  NaN              NaN  \n\n[223240 rows x 81 columns]",
      "text/html": "<div>\n<style scoped>\n    .dataframe tbody tr th:only-of-type {\n        vertical-align: middle;\n    }\n\n    .dataframe tbody tr th {\n        vertical-align: top;\n    }\n\n    .dataframe thead th {\n        text-align: right;\n    }\n</style>\n<table border=\"1\" class=\"dataframe\">\n  <thead>\n    <tr style=\"text-align: right;\">\n      <th></th>\n      <th>accident_index</th>\n      <th>accident_year_x</th>\n      <th>accident_reference_x</th>\n      <th>location_easting_osgr</th>\n      <th>location_northing_osgr</th>\n      <th>longitude</th>\n      <th>latitude</th>\n      <th>police_force</th>\n      <th>accident_severity</th>\n      <th>number_of_vehicles</th>\n      <th>number_of_casualties</th>\n      <th>date</th>\n      <th>day_of_week</th>\n      <th>time</th>\n      <th>local_authority_district</th>\n      <th>local_authority_ons_district</th>\n      <th>local_authority_highway</th>\n      <th>first_road_class</th>\n      <th>first_road_number</th>\n      <th>road_type</th>\n      <th>speed_limit</th>\n      <th>junction_detail</th>\n      <th>junction_control</th>\n      <th>second_road_class</th>\n      <th>second_road_number</th>\n      <th>pedestrian_crossing_human_control</th>\n      <th>pedestrian_crossing_physical_facilities</th>\n      <th>light_conditions</th>\n      <th>weather_conditions</th>\n      <th>road_surface_conditions</th>\n      <th>special_conditions_at_site</th>\n      <th>carriageway_hazards</th>\n      <th>urban_or_rural_area</th>\n      <th>did_police_officer_attend_scene_of_accident</th>\n      <th>trunk_road_flag</th>\n      <th>lsoa_of_accident_location</th>\n      <th>accident_year_y</th>\n      <th>accident_reference_y</th>\n      <th>vehicle_reference_x</th>\n      <th>vehicle_type</th>\n      <th>towing_and_articulation</th>\n      <th>vehicle_manoeuvre</th>\n      <th>vehicle_direction_from</th>\n      <th>vehicle_direction_to</th>\n      <th>vehicle_location_restricted_lane</th>\n      <th>junction_location</th>\n      <th>skidding_and_overturning</th>\n      <th>hit_object_in_carriageway</th>\n      <th>vehicle_leaving_carriageway</th>\n      <th>hit_object_off_carriageway</th>\n      <th>first_point_of_impact</th>\n      <th>vehicle_left_hand_drive</th>\n      <th>journey_purpose_of_driver</th>\n      <th>sex_of_driver</th>\n      <th>age_of_driver</th>\n      <th>age_band_of_driver</th>\n      <th>engine_capacity_cc</th>\n      <th>propulsion_code</th>\n      <th>age_of_vehicle</th>\n      <th>generic_make_model</th>\n      <th>driver_imd_decile</th>\n      <th>driver_home_area_type</th>\n      <th>lsoa_of_driver</th>\n      <th>accident_year</th>\n      <th>accident_reference</th>\n      <th>vehicle_reference_y</th>\n      <th>casualty_reference</th>\n      <th>casualty_class</th>\n      <th>sex_of_casualty</th>\n      <th>age_of_casualty</th>\n      <th>age_band_of_casualty</th>\n      <th>casualty_severity</th>\n      <th>pedestrian_location</th>\n      <th>pedestrian_movement</th>\n      <th>car_passenger</th>\n      <th>bus_or_coach_passenger</th>\n      <th>pedestrian_road_maintenance_worker</th>\n      <th>casualty_type</th>\n      <th>casualty_home_area_type</th>\n      <th>casualty_imd_decile</th>\n      <th>lsoa_of_casualty</th>\n    </tr>\n  </thead>\n  <tbody>\n    <tr>\n      <th>0</th>\n      <td>2022010352073</td>\n      <td>2022</td>\n      <td>10352073</td>\n      <td>525199.0</td>\n      <td>177928.0</td>\n      <td>-0.198224</td>\n      <td>51.486454</td>\n      <td>1</td>\n      <td>3</td>\n      <td>2</td>\n      <td>1</td>\n      <td>05/01/2022</td>\n      <td>4</td>\n      <td>16:40</td>\n      <td>-1</td>\n      <td>E09000013</td>\n      <td>E09000013</td>\n      <td>3</td>\n      <td>3218</td>\n      <td>6</td>\n      <td>30</td>\n      <td>6</td>\n      <td>4</td>\n      <td>6</td>\n      <td>0</td>\n      <td>0</td>\n      <td>0</td>\n      <td>4</td>\n      <td>1</td>\n      <td>1</td>\n      <td>0</td>\n      <td>0</td>\n      <td>1</td>\n      <td>1</td>\n      <td>2</td>\n      <td>E01001883</td>\n      <td>2022.0</td>\n      <td>10352073</td>\n      <td>1.0</td>\n      <td>19.0</td>\n      <td>0.0</td>\n      <td>9.0</td>\n      <td>3.0</td>\n      <td>8.0</td>\n      <td>0.0</td>\n      <td>1.0</td>\n      <td>0.0</td>\n      <td>0.0</td>\n      <td>0.0</td>\n      <td>0.0</td>\n      <td>1.0</td>\n      <td>2.0</td>\n      <td>2.0</td>\n      <td>1.0</td>\n      <td>48.0</td>\n      <td>8.0</td>\n      <td>1461.0</td>\n      <td>2.0</td>\n      <td>4.0</td>\n      <td>RENAULT KANGOO</td>\n      <td>7.0</td>\n      <td>1.0</td>\n      <td>E01002687</td>\n      <td>2022.0</td>\n      <td>10352073</td>\n      <td>2.0</td>\n      <td>1.0</td>\n      <td>1.0</td>\n      <td>1.0</td>\n      <td>17.0</td>\n      <td>4.0</td>\n      <td>3.0</td>\n      <td>0.0</td>\n      <td>0.0</td>\n      <td>0.0</td>\n      <td>0.0</td>\n      <td>0.0</td>\n      <td>3.0</td>\n      <td>1.0</td>\n      <td>1.0</td>\n      <td>E01001364</td>\n    </tr>\n    <tr>\n      <th>1</th>\n      <td>2022010352073</td>\n      <td>2022</td>\n      <td>10352073</td>\n      <td>525199.0</td>\n      <td>177928.0</td>\n      <td>-0.198224</td>\n      <td>51.486454</td>\n      <td>1</td>\n      <td>3</td>\n      <td>2</td>\n      <td>1</td>\n      <td>05/01/2022</td>\n      <td>4</td>\n      <td>16:40</td>\n      <td>-1</td>\n      <td>E09000013</td>\n      <td>E09000013</td>\n      <td>3</td>\n      <td>3218</td>\n      <td>6</td>\n      <td>30</td>\n      <td>6</td>\n      <td>4</td>\n      <td>6</td>\n      <td>0</td>\n      <td>0</td>\n      <td>0</td>\n      <td>4</td>\n      <td>1</td>\n      <td>1</td>\n      <td>0</td>\n      <td>0</td>\n      <td>1</td>\n      <td>1</td>\n      <td>2</td>\n      <td>E01001883</td>\n      <td>2022.0</td>\n      <td>10352073</td>\n      <td>2.0</td>\n      <td>3.0</td>\n      <td>0.0</td>\n      <td>18.0</td>\n      <td>1.0</td>\n      <td>5.0</td>\n      <td>0.0</td>\n      <td>1.0</td>\n      <td>0.0</td>\n      <td>0.0</td>\n      <td>0.0</td>\n      <td>0.0</td>\n      <td>1.0</td>\n      <td>1.0</td>\n      <td>2.0</td>\n      <td>1.0</td>\n      <td>17.0</td>\n      <td>4.0</td>\n      <td>125.0</td>\n      <td>1.0</td>\n      <td>1.0</td>\n      <td>HONDA FSH125</td>\n      <td>1.0</td>\n      <td>1.0</td>\n      <td>E01001364</td>\n      <td>2022.0</td>\n      <td>10352073</td>\n      <td>2.0</td>\n      <td>1.0</td>\n      <td>1.0</td>\n      <td>1.0</td>\n      <td>17.0</td>\n      <td>4.0</td>\n      <td>3.0</td>\n      <td>0.0</td>\n      <td>0.0</td>\n      <td>0.0</td>\n      <td>0.0</td>\n      <td>0.0</td>\n      <td>3.0</td>\n      <td>1.0</td>\n      <td>1.0</td>\n      <td>E01001364</td>\n    </tr>\n    <tr>\n      <th>2</th>\n      <td>2022010352573</td>\n      <td>2022</td>\n      <td>10352573</td>\n      <td>546214.0</td>\n      <td>179866.0</td>\n      <td>0.105042</td>\n      <td>51.498830</td>\n      <td>1</td>\n      <td>3</td>\n      <td>2</td>\n      <td>1</td>\n      <td>01/01/2022</td>\n      <td>7</td>\n      <td>01:17</td>\n      <td>-1</td>\n      <td>E09000011</td>\n      <td>E09000011</td>\n      <td>3</td>\n      <td>2016</td>\n      <td>3</td>\n      <td>50</td>\n      <td>6</td>\n      <td>2</td>\n      <td>6</td>\n      <td>0</td>\n      <td>0</td>\n      <td>4</td>\n      <td>4</td>\n      <td>1</td>\n      <td>1</td>\n      <td>0</td>\n      <td>0</td>\n      <td>2</td>\n      <td>1</td>\n      <td>2</td>\n      <td>E01033745</td>\n      <td>2022.0</td>\n      <td>10352573</td>\n      <td>1.0</td>\n      <td>9.0</td>\n      <td>0.0</td>\n      <td>18.0</td>\n      <td>7.0</td>\n      <td>3.0</td>\n      <td>0.0</td>\n      <td>6.0</td>\n      <td>0.0</td>\n      <td>0.0</td>\n      <td>1.0</td>\n      <td>1.0</td>\n      <td>1.0</td>\n      <td>1.0</td>\n      <td>6.0</td>\n      <td>2.0</td>\n      <td>42.0</td>\n      <td>7.0</td>\n      <td>-1.0</td>\n      <td>-1.0</td>\n      <td>-1.0</td>\n      <td>-1</td>\n      <td>5.0</td>\n      <td>1.0</td>\n      <td>E01000338</td>\n      <td>2022.0</td>\n      <td>10352573</td>\n      <td>1.0</td>\n      <td>1.0</td>\n      <td>1.0</td>\n      <td>2.0</td>\n      <td>42.0</td>\n      <td>7.0</td>\n      <td>3.0</td>\n      <td>0.0</td>\n      <td>0.0</td>\n      <td>0.0</td>\n      <td>0.0</td>\n      <td>0.0</td>\n      <td>9.0</td>\n      <td>1.0</td>\n      <td>5.0</td>\n      <td>E01000338</td>\n    </tr>\n    <tr>\n      <th>3</th>\n      <td>2022010352573</td>\n      <td>2022</td>\n      <td>10352573</td>\n      <td>546214.0</td>\n      <td>179866.0</td>\n      <td>0.105042</td>\n      <td>51.498830</td>\n      <td>1</td>\n      <td>3</td>\n      <td>2</td>\n      <td>1</td>\n      <td>01/01/2022</td>\n      <td>7</td>\n      <td>01:17</td>\n      <td>-1</td>\n      <td>E09000011</td>\n      <td>E09000011</td>\n      <td>3</td>\n      <td>2016</td>\n      <td>3</td>\n      <td>50</td>\n      <td>6</td>\n      <td>2</td>\n      <td>6</td>\n      <td>0</td>\n      <td>0</td>\n      <td>4</td>\n      <td>4</td>\n      <td>1</td>\n      <td>1</td>\n      <td>0</td>\n      <td>0</td>\n      <td>2</td>\n      <td>1</td>\n      <td>2</td>\n      <td>E01033745</td>\n      <td>2022.0</td>\n      <td>10352573</td>\n      <td>2.0</td>\n      <td>9.0</td>\n      <td>0.0</td>\n      <td>13.0</td>\n      <td>7.0</td>\n      <td>3.0</td>\n      <td>0.0</td>\n      <td>6.0</td>\n      <td>0.0</td>\n      <td>0.0</td>\n      <td>0.0</td>\n      <td>0.0</td>\n      <td>1.0</td>\n      <td>1.0</td>\n      <td>6.0</td>\n      <td>3.0</td>\n      <td>-1.0</td>\n      <td>-1.0</td>\n      <td>-1.0</td>\n      <td>-1.0</td>\n      <td>-1.0</td>\n      <td>-1</td>\n      <td>-1.0</td>\n      <td>-1.0</td>\n      <td>-1</td>\n      <td>2022.0</td>\n      <td>10352573</td>\n      <td>1.0</td>\n      <td>1.0</td>\n      <td>1.0</td>\n      <td>2.0</td>\n      <td>42.0</td>\n      <td>7.0</td>\n      <td>3.0</td>\n      <td>0.0</td>\n      <td>0.0</td>\n      <td>0.0</td>\n      <td>0.0</td>\n      <td>0.0</td>\n      <td>9.0</td>\n      <td>1.0</td>\n      <td>5.0</td>\n      <td>E01000338</td>\n    </tr>\n    <tr>\n      <th>4</th>\n      <td>2022010352575</td>\n      <td>2022</td>\n      <td>10352575</td>\n      <td>551119.0</td>\n      <td>174789.0</td>\n      <td>0.173482</td>\n      <td>51.451924</td>\n      <td>1</td>\n      <td>3</td>\n      <td>2</td>\n      <td>1</td>\n      <td>01/01/2022</td>\n      <td>7</td>\n      <td>01:15</td>\n      <td>-1</td>\n      <td>E09000004</td>\n      <td>E09000004</td>\n      <td>3</td>\n      <td>207</td>\n      <td>6</td>\n      <td>30</td>\n      <td>9</td>\n      <td>4</td>\n      <td>6</td>\n      <td>0</td>\n      <td>0</td>\n      <td>0</td>\n      <td>4</td>\n      <td>1</td>\n      <td>1</td>\n      <td>0</td>\n      <td>0</td>\n      <td>1</td>\n      <td>1</td>\n      <td>2</td>\n      <td>E01000378</td>\n      <td>2022.0</td>\n      <td>10352575</td>\n      <td>1.0</td>\n      <td>9.0</td>\n      <td>0.0</td>\n      <td>18.0</td>\n      <td>4.0</td>\n      <td>8.0</td>\n      <td>0.0</td>\n      <td>2.0</td>\n      <td>0.0</td>\n      <td>0.0</td>\n      <td>0.0</td>\n      <td>0.0</td>\n      <td>1.0</td>\n      <td>1.0</td>\n      <td>6.0</td>\n      <td>1.0</td>\n      <td>20.0</td>\n      <td>4.0</td>\n      <td>1896.0</td>\n      <td>2.0</td>\n      <td>15.0</td>\n      <td>VOLKSWAGEN GOLF</td>\n      <td>8.0</td>\n      <td>1.0</td>\n      <td>E01000390</td>\n      <td>2022.0</td>\n      <td>10352575</td>\n      <td>1.0</td>\n      <td>1.0</td>\n      <td>1.0</td>\n      <td>1.0</td>\n      <td>20.0</td>\n      <td>4.0</td>\n      <td>3.0</td>\n      <td>0.0</td>\n      <td>0.0</td>\n      <td>0.0</td>\n      <td>0.0</td>\n      <td>0.0</td>\n      <td>9.0</td>\n      <td>1.0</td>\n      <td>8.0</td>\n      <td>E01000390</td>\n    </tr>\n    <tr>\n      <th>...</th>\n      <td>...</td>\n      <td>...</td>\n      <td>...</td>\n      <td>...</td>\n      <td>...</td>\n      <td>...</td>\n      <td>...</td>\n      <td>...</td>\n      <td>...</td>\n      <td>...</td>\n      <td>...</td>\n      <td>...</td>\n      <td>...</td>\n      <td>...</td>\n      <td>...</td>\n      <td>...</td>\n      <td>...</td>\n      <td>...</td>\n      <td>...</td>\n      <td>...</td>\n      <td>...</td>\n      <td>...</td>\n      <td>...</td>\n      <td>...</td>\n      <td>...</td>\n      <td>...</td>\n      <td>...</td>\n      <td>...</td>\n      <td>...</td>\n      <td>...</td>\n      <td>...</td>\n      <td>...</td>\n      <td>...</td>\n      <td>...</td>\n      <td>...</td>\n      <td>...</td>\n      <td>...</td>\n      <td>...</td>\n      <td>...</td>\n      <td>...</td>\n      <td>...</td>\n      <td>...</td>\n      <td>...</td>\n      <td>...</td>\n      <td>...</td>\n      <td>...</td>\n      <td>...</td>\n      <td>...</td>\n      <td>...</td>\n      <td>...</td>\n      <td>...</td>\n      <td>...</td>\n      <td>...</td>\n      <td>...</td>\n      <td>...</td>\n      <td>...</td>\n      <td>...</td>\n      <td>...</td>\n      <td>...</td>\n      <td>...</td>\n      <td>...</td>\n      <td>...</td>\n      <td>...</td>\n      <td>...</td>\n      <td>...</td>\n      <td>...</td>\n      <td>...</td>\n      <td>...</td>\n      <td>...</td>\n      <td>...</td>\n      <td>...</td>\n      <td>...</td>\n      <td>...</td>\n      <td>...</td>\n      <td>...</td>\n      <td>...</td>\n      <td>...</td>\n      <td>...</td>\n      <td>...</td>\n      <td>...</td>\n      <td>...</td>\n    </tr>\n    <tr>\n      <th>223235</th>\n      <td>2022991312498</td>\n      <td>2022</td>\n      <td>991312498</td>\n      <td>127459.0</td>\n      <td>663067.0</td>\n      <td>-6.348650</td>\n      <td>55.783849</td>\n      <td>99</td>\n      <td>2</td>\n      <td>3</td>\n      <td>1</td>\n      <td>12/11/2022</td>\n      <td>7</td>\n      <td>21:35</td>\n      <td>-1</td>\n      <td>S12000035</td>\n      <td>S12000035</td>\n      <td>3</td>\n      <td>847</td>\n      <td>6</td>\n      <td>60</td>\n      <td>0</td>\n      <td>-1</td>\n      <td>0</td>\n      <td>-1</td>\n      <td>0</td>\n      <td>0</td>\n      <td>6</td>\n      <td>1</td>\n      <td>1</td>\n      <td>0</td>\n      <td>0</td>\n      <td>2</td>\n      <td>1</td>\n      <td>-1</td>\n      <td>-1</td>\n      <td>2022.0</td>\n      <td>991312498</td>\n      <td>2.0</td>\n      <td>19.0</td>\n      <td>0.0</td>\n      <td>18.0</td>\n      <td>8.0</td>\n      <td>1.0</td>\n      <td>0.0</td>\n      <td>0.0</td>\n      <td>0.0</td>\n      <td>0.0</td>\n      <td>0.0</td>\n      <td>0.0</td>\n      <td>1.0</td>\n      <td>1.0</td>\n      <td>5.0</td>\n      <td>1.0</td>\n      <td>43.0</td>\n      <td>7.0</td>\n      <td>1968.0</td>\n      <td>2.0</td>\n      <td>0.0</td>\n      <td>VOLKSWAGEN CRAFTER</td>\n      <td>6.0</td>\n      <td>3.0</td>\n      <td>-1</td>\n      <td>NaN</td>\n      <td>NaN</td>\n      <td>NaN</td>\n      <td>NaN</td>\n      <td>NaN</td>\n      <td>NaN</td>\n      <td>NaN</td>\n      <td>NaN</td>\n      <td>NaN</td>\n      <td>NaN</td>\n      <td>NaN</td>\n      <td>NaN</td>\n      <td>NaN</td>\n      <td>NaN</td>\n      <td>NaN</td>\n      <td>NaN</td>\n      <td>NaN</td>\n      <td>NaN</td>\n    </tr>\n    <tr>\n      <th>223236</th>\n      <td>2022991312498</td>\n      <td>2022</td>\n      <td>991312498</td>\n      <td>127459.0</td>\n      <td>663067.0</td>\n      <td>-6.348650</td>\n      <td>55.783849</td>\n      <td>99</td>\n      <td>2</td>\n      <td>3</td>\n      <td>1</td>\n      <td>12/11/2022</td>\n      <td>7</td>\n      <td>21:35</td>\n      <td>-1</td>\n      <td>S12000035</td>\n      <td>S12000035</td>\n      <td>3</td>\n      <td>847</td>\n      <td>6</td>\n      <td>60</td>\n      <td>0</td>\n      <td>-1</td>\n      <td>0</td>\n      <td>-1</td>\n      <td>0</td>\n      <td>0</td>\n      <td>6</td>\n      <td>1</td>\n      <td>1</td>\n      <td>0</td>\n      <td>0</td>\n      <td>2</td>\n      <td>1</td>\n      <td>-1</td>\n      <td>-1</td>\n      <td>2022.0</td>\n      <td>991312498</td>\n      <td>3.0</td>\n      <td>9.0</td>\n      <td>0.0</td>\n      <td>2.0</td>\n      <td>8.0</td>\n      <td>1.0</td>\n      <td>0.0</td>\n      <td>0.0</td>\n      <td>0.0</td>\n      <td>0.0</td>\n      <td>0.0</td>\n      <td>0.0</td>\n      <td>1.0</td>\n      <td>1.0</td>\n      <td>5.0</td>\n      <td>1.0</td>\n      <td>62.0</td>\n      <td>9.0</td>\n      <td>1229.0</td>\n      <td>1.0</td>\n      <td>12.0</td>\n      <td>VAUXHALL CORSA</td>\n      <td>6.0</td>\n      <td>3.0</td>\n      <td>-1</td>\n      <td>NaN</td>\n      <td>NaN</td>\n      <td>NaN</td>\n      <td>NaN</td>\n      <td>NaN</td>\n      <td>NaN</td>\n      <td>NaN</td>\n      <td>NaN</td>\n      <td>NaN</td>\n      <td>NaN</td>\n      <td>NaN</td>\n      <td>NaN</td>\n      <td>NaN</td>\n      <td>NaN</td>\n      <td>NaN</td>\n      <td>NaN</td>\n      <td>NaN</td>\n      <td>NaN</td>\n    </tr>\n    <tr>\n      <th>223237</th>\n      <td>2022991315177</td>\n      <td>2022</td>\n      <td>991315177</td>\n      <td>254396.0</td>\n      <td>663549.0</td>\n      <td>-4.326930</td>\n      <td>55.843114</td>\n      <td>99</td>\n      <td>3</td>\n      <td>1</td>\n      <td>1</td>\n      <td>01/07/2022</td>\n      <td>6</td>\n      <td>11:44</td>\n      <td>-1</td>\n      <td>S12000049</td>\n      <td>S12000049</td>\n      <td>6</td>\n      <td>0</td>\n      <td>6</td>\n      <td>30</td>\n      <td>6</td>\n      <td>2</td>\n      <td>6</td>\n      <td>0</td>\n      <td>0</td>\n      <td>5</td>\n      <td>1</td>\n      <td>1</td>\n      <td>1</td>\n      <td>0</td>\n      <td>0</td>\n      <td>1</td>\n      <td>2</td>\n      <td>-1</td>\n      <td>-1</td>\n      <td>2022.0</td>\n      <td>991315177</td>\n      <td>1.0</td>\n      <td>9.0</td>\n      <td>0.0</td>\n      <td>5.0</td>\n      <td>8.0</td>\n      <td>4.0</td>\n      <td>0.0</td>\n      <td>2.0</td>\n      <td>0.0</td>\n      <td>0.0</td>\n      <td>0.0</td>\n      <td>0.0</td>\n      <td>4.0</td>\n      <td>1.0</td>\n      <td>6.0</td>\n      <td>1.0</td>\n      <td>61.0</td>\n      <td>9.0</td>\n      <td>1497.0</td>\n      <td>8.0</td>\n      <td>10.0</td>\n      <td>TOYOTA YARIS</td>\n      <td>3.0</td>\n      <td>1.0</td>\n      <td>-1</td>\n      <td>NaN</td>\n      <td>NaN</td>\n      <td>NaN</td>\n      <td>NaN</td>\n      <td>NaN</td>\n      <td>NaN</td>\n      <td>NaN</td>\n      <td>NaN</td>\n      <td>NaN</td>\n      <td>NaN</td>\n      <td>NaN</td>\n      <td>NaN</td>\n      <td>NaN</td>\n      <td>NaN</td>\n      <td>NaN</td>\n      <td>NaN</td>\n      <td>NaN</td>\n      <td>NaN</td>\n    </tr>\n    <tr>\n      <th>223238</th>\n      <td>2022991321308</td>\n      <td>2022</td>\n      <td>991321308</td>\n      <td>325409.0</td>\n      <td>677054.0</td>\n      <td>-3.196963</td>\n      <td>55.980648</td>\n      <td>99</td>\n      <td>2</td>\n      <td>1</td>\n      <td>1</td>\n      <td>02/12/2022</td>\n      <td>6</td>\n      <td>16:45</td>\n      <td>-1</td>\n      <td>S12000036</td>\n      <td>S12000036</td>\n      <td>3</td>\n      <td>901</td>\n      <td>6</td>\n      <td>30</td>\n      <td>3</td>\n      <td>4</td>\n      <td>3</td>\n      <td>901</td>\n      <td>0</td>\n      <td>8</td>\n      <td>4</td>\n      <td>1</td>\n      <td>1</td>\n      <td>0</td>\n      <td>0</td>\n      <td>1</td>\n      <td>1</td>\n      <td>-1</td>\n      <td>-1</td>\n      <td>2022.0</td>\n      <td>991321308</td>\n      <td>1.0</td>\n      <td>9.0</td>\n      <td>0.0</td>\n      <td>18.0</td>\n      <td>3.0</td>\n      <td>7.0</td>\n      <td>0.0</td>\n      <td>1.0</td>\n      <td>-1.0</td>\n      <td>-1.0</td>\n      <td>-1.0</td>\n      <td>0.0</td>\n      <td>1.0</td>\n      <td>1.0</td>\n      <td>5.0</td>\n      <td>1.0</td>\n      <td>77.0</td>\n      <td>11.0</td>\n      <td>1794.0</td>\n      <td>1.0</td>\n      <td>17.0</td>\n      <td>TOYOTA AVENSIS</td>\n      <td>10.0</td>\n      <td>1.0</td>\n      <td>-1</td>\n      <td>NaN</td>\n      <td>NaN</td>\n      <td>NaN</td>\n      <td>NaN</td>\n      <td>NaN</td>\n      <td>NaN</td>\n      <td>NaN</td>\n      <td>NaN</td>\n      <td>NaN</td>\n      <td>NaN</td>\n      <td>NaN</td>\n      <td>NaN</td>\n      <td>NaN</td>\n      <td>NaN</td>\n      <td>NaN</td>\n      <td>NaN</td>\n      <td>NaN</td>\n      <td>NaN</td>\n    </tr>\n    <tr>\n      <th>223239</th>\n      <td>2022991322411</td>\n      <td>2022</td>\n      <td>991322411</td>\n      <td>324745.0</td>\n      <td>673696.0</td>\n      <td>-3.206662</td>\n      <td>55.950381</td>\n      <td>99</td>\n      <td>2</td>\n      <td>1</td>\n      <td>1</td>\n      <td>23/11/2022</td>\n      <td>4</td>\n      <td>19:05</td>\n      <td>-1</td>\n      <td>S12000036</td>\n      <td>S12000036</td>\n      <td>3</td>\n      <td>8</td>\n      <td>3</td>\n      <td>20</td>\n      <td>0</td>\n      <td>-1</td>\n      <td>0</td>\n      <td>-1</td>\n      <td>0</td>\n      <td>0</td>\n      <td>4</td>\n      <td>1</td>\n      <td>2</td>\n      <td>0</td>\n      <td>0</td>\n      <td>1</td>\n      <td>1</td>\n      <td>-1</td>\n      <td>-1</td>\n      <td>2022.0</td>\n      <td>991322411</td>\n      <td>1.0</td>\n      <td>8.0</td>\n      <td>0.0</td>\n      <td>18.0</td>\n      <td>7.0</td>\n      <td>3.0</td>\n      <td>0.0</td>\n      <td>0.0</td>\n      <td>0.0</td>\n      <td>0.0</td>\n      <td>0.0</td>\n      <td>0.0</td>\n      <td>4.0</td>\n      <td>1.0</td>\n      <td>1.0</td>\n      <td>1.0</td>\n      <td>60.0</td>\n      <td>9.0</td>\n      <td>1997.0</td>\n      <td>2.0</td>\n      <td>7.0</td>\n      <td>PEUGEOT E7</td>\n      <td>-1.0</td>\n      <td>-1.0</td>\n      <td>-1</td>\n      <td>NaN</td>\n      <td>NaN</td>\n      <td>NaN</td>\n      <td>NaN</td>\n      <td>NaN</td>\n      <td>NaN</td>\n      <td>NaN</td>\n      <td>NaN</td>\n      <td>NaN</td>\n      <td>NaN</td>\n      <td>NaN</td>\n      <td>NaN</td>\n      <td>NaN</td>\n      <td>NaN</td>\n      <td>NaN</td>\n      <td>NaN</td>\n      <td>NaN</td>\n      <td>NaN</td>\n    </tr>\n  </tbody>\n</table>\n<p>223240 rows × 81 columns</p>\n</div>"
     },
     "execution_count": 4,
     "metadata": {},
     "output_type": "execute_result"
    }
   ],
   "source": [
    "dataset1 = pd.read_csv(\"datasets/dft-road-casualty-statistics-casualty-2022.csv\")\n",
    "dataset2 = pd.read_csv(\"datasets/dft-road-casualty-statistics-collision-2022.csv\")\n",
    "dataset3 = pd.read_csv(\"datasets/dft-road-casualty-statistics-vehicle-2022.csv\")\n",
    "\n",
    "# Merge collision data with vehicle data\n",
    "collision_vehicle_merged = pd.merge(dataset2, dataset3, on=\"accident_index\", how=\"left\")\n",
    "\n",
    "# Merge the result with casualty data\n",
    "df = pd.merge(collision_vehicle_merged, dataset1, on=\"accident_index\", how=\"left\")\n",
    "\n",
    "# Save the merged data to a new CSV file\n",
    "df\n"
   ]
  },
  {
   "cell_type": "code",
   "execution_count": 80,
   "id": "ad24f4a4",
   "metadata": {
    "ExecuteTime": {
     "end_time": "2024-05-11T10:43:55.802825400Z",
     "start_time": "2024-05-11T10:43:53.328036300Z"
    }
   },
   "outputs": [
    {
     "name": "stdout",
     "output_type": "stream",
     "text": [
      "{'accident_index': (106004, 0), 'vehicle_reference': (17, 0)}\n",
      "{'accident_index': (106004, 0), 'vehicle_reference': (24, 0)}\n",
      "{'accident_index': (106004, 0)}\n"
     ]
    }
   ],
   "source": [
    "\n",
    "# Check for unique values and nulls\n",
    "def check_keys(df, key_columns):\n",
    "    return {key: (df[key].nunique(), df[key].isnull().sum()) for key in key_columns}\n",
    "\n",
    "print(check_keys(dataset1, ['accident_index', 'vehicle_reference']))\n",
    "print(check_keys(dataset3, ['accident_index', 'vehicle_reference']))\n",
    "print(check_keys(dataset2, ['accident_index']))"
   ]
  },
  {
   "cell_type": "code",
   "execution_count": 81,
   "id": "cabd5757",
   "metadata": {
    "ExecuteTime": {
     "end_time": "2024-05-11T10:43:55.803824100Z",
     "start_time": "2024-05-11T10:43:53.390201200Z"
    }
   },
   "outputs": [
    {
     "data": {
      "text/plain": "       accident_index  accident_year accident_reference  vehicle_reference  \\\n0       2022010352073           2022           10352073                  2   \n1       2022010352573           2022           10352573                  1   \n2       2022010352575           2022           10352575                  1   \n3       2022010352578           2022           10352578                  1   \n4       2022010352578           2022           10352578                  1   \n...               ...            ...                ...                ...   \n135475  2022991311627           2022          991311627                  1   \n135476  2022991312498           2022          991312498                  1   \n135477  2022991315177           2022          991315177                  1   \n135478  2022991321308           2022          991321308                  1   \n135479  2022991322411           2022          991322411                  1   \n\n        casualty_reference  casualty_class  sex_of_casualty  age_of_casualty  \\\n0                        1               1                1               17   \n1                        1               1                2               42   \n2                        1               1                1               20   \n3                        1               1                1               46   \n4                        2               2                1               45   \n...                    ...             ...              ...              ...   \n135475                   1               3                2               69   \n135476                   1               1                1               36   \n135477                   1               3                1               21   \n135478                   1               3                2               28   \n135479                   1               3                2               20   \n\n        age_band_of_casualty  casualty_severity  pedestrian_location  \\\n0                          4                  3                    0   \n1                          7                  3                    0   \n2                          4                  3                    0   \n3                          8                  3                    0   \n4                          7                  3                    0   \n...                      ...                ...                  ...   \n135475                    10                  2                    4   \n135476                     7                  2                    0   \n135477                     5                  3                   10   \n135478                     6                  2                    8   \n135479                     4                  2                    5   \n\n        pedestrian_movement  car_passenger  bus_or_coach_passenger  \\\n0                         0              0                       0   \n1                         0              0                       0   \n2                         0              0                       0   \n3                         0              0                       0   \n4                         0              1                       0   \n...                     ...            ...                     ...   \n135475                    1              0                       0   \n135476                    0              0                       0   \n135477                    9              0                       0   \n135478                    5              0                       0   \n135479                    2              0                       0   \n\n        pedestrian_road_maintenance_worker  casualty_type  \\\n0                                        0              3   \n1                                        0              9   \n2                                        0              9   \n3                                        0              9   \n4                                        0              9   \n...                                    ...            ...   \n135475                                   2              0   \n135476                                   0             19   \n135477                                   2              0   \n135478                                   2              0   \n135479                                   2              0   \n\n        casualty_home_area_type  casualty_imd_decile lsoa_of_casualty  \n0                             1                    1        E01001364  \n1                             1                    5        E01000338  \n2                             1                    8        E01000390  \n3                             1                    3        E01004666  \n4                             1                    3        E01004666  \n...                         ...                  ...              ...  \n135475                       -1                   -1               -1  \n135476                        3                    6               -1  \n135477                       -1                   -1               -1  \n135478                       -1                   -1               -1  \n135479                        1                    3               -1  \n\n[135480 rows x 19 columns]",
      "text/html": "<div>\n<style scoped>\n    .dataframe tbody tr th:only-of-type {\n        vertical-align: middle;\n    }\n\n    .dataframe tbody tr th {\n        vertical-align: top;\n    }\n\n    .dataframe thead th {\n        text-align: right;\n    }\n</style>\n<table border=\"1\" class=\"dataframe\">\n  <thead>\n    <tr style=\"text-align: right;\">\n      <th></th>\n      <th>accident_index</th>\n      <th>accident_year</th>\n      <th>accident_reference</th>\n      <th>vehicle_reference</th>\n      <th>casualty_reference</th>\n      <th>casualty_class</th>\n      <th>sex_of_casualty</th>\n      <th>age_of_casualty</th>\n      <th>age_band_of_casualty</th>\n      <th>casualty_severity</th>\n      <th>pedestrian_location</th>\n      <th>pedestrian_movement</th>\n      <th>car_passenger</th>\n      <th>bus_or_coach_passenger</th>\n      <th>pedestrian_road_maintenance_worker</th>\n      <th>casualty_type</th>\n      <th>casualty_home_area_type</th>\n      <th>casualty_imd_decile</th>\n      <th>lsoa_of_casualty</th>\n    </tr>\n  </thead>\n  <tbody>\n    <tr>\n      <th>0</th>\n      <td>2022010352073</td>\n      <td>2022</td>\n      <td>10352073</td>\n      <td>2</td>\n      <td>1</td>\n      <td>1</td>\n      <td>1</td>\n      <td>17</td>\n      <td>4</td>\n      <td>3</td>\n      <td>0</td>\n      <td>0</td>\n      <td>0</td>\n      <td>0</td>\n      <td>0</td>\n      <td>3</td>\n      <td>1</td>\n      <td>1</td>\n      <td>E01001364</td>\n    </tr>\n    <tr>\n      <th>1</th>\n      <td>2022010352573</td>\n      <td>2022</td>\n      <td>10352573</td>\n      <td>1</td>\n      <td>1</td>\n      <td>1</td>\n      <td>2</td>\n      <td>42</td>\n      <td>7</td>\n      <td>3</td>\n      <td>0</td>\n      <td>0</td>\n      <td>0</td>\n      <td>0</td>\n      <td>0</td>\n      <td>9</td>\n      <td>1</td>\n      <td>5</td>\n      <td>E01000338</td>\n    </tr>\n    <tr>\n      <th>2</th>\n      <td>2022010352575</td>\n      <td>2022</td>\n      <td>10352575</td>\n      <td>1</td>\n      <td>1</td>\n      <td>1</td>\n      <td>1</td>\n      <td>20</td>\n      <td>4</td>\n      <td>3</td>\n      <td>0</td>\n      <td>0</td>\n      <td>0</td>\n      <td>0</td>\n      <td>0</td>\n      <td>9</td>\n      <td>1</td>\n      <td>8</td>\n      <td>E01000390</td>\n    </tr>\n    <tr>\n      <th>3</th>\n      <td>2022010352578</td>\n      <td>2022</td>\n      <td>10352578</td>\n      <td>1</td>\n      <td>1</td>\n      <td>1</td>\n      <td>1</td>\n      <td>46</td>\n      <td>8</td>\n      <td>3</td>\n      <td>0</td>\n      <td>0</td>\n      <td>0</td>\n      <td>0</td>\n      <td>0</td>\n      <td>9</td>\n      <td>1</td>\n      <td>3</td>\n      <td>E01004666</td>\n    </tr>\n    <tr>\n      <th>4</th>\n      <td>2022010352578</td>\n      <td>2022</td>\n      <td>10352578</td>\n      <td>1</td>\n      <td>2</td>\n      <td>2</td>\n      <td>1</td>\n      <td>45</td>\n      <td>7</td>\n      <td>3</td>\n      <td>0</td>\n      <td>0</td>\n      <td>1</td>\n      <td>0</td>\n      <td>0</td>\n      <td>9</td>\n      <td>1</td>\n      <td>3</td>\n      <td>E01004666</td>\n    </tr>\n    <tr>\n      <th>...</th>\n      <td>...</td>\n      <td>...</td>\n      <td>...</td>\n      <td>...</td>\n      <td>...</td>\n      <td>...</td>\n      <td>...</td>\n      <td>...</td>\n      <td>...</td>\n      <td>...</td>\n      <td>...</td>\n      <td>...</td>\n      <td>...</td>\n      <td>...</td>\n      <td>...</td>\n      <td>...</td>\n      <td>...</td>\n      <td>...</td>\n      <td>...</td>\n    </tr>\n    <tr>\n      <th>135475</th>\n      <td>2022991311627</td>\n      <td>2022</td>\n      <td>991311627</td>\n      <td>1</td>\n      <td>1</td>\n      <td>3</td>\n      <td>2</td>\n      <td>69</td>\n      <td>10</td>\n      <td>2</td>\n      <td>4</td>\n      <td>1</td>\n      <td>0</td>\n      <td>0</td>\n      <td>2</td>\n      <td>0</td>\n      <td>-1</td>\n      <td>-1</td>\n      <td>-1</td>\n    </tr>\n    <tr>\n      <th>135476</th>\n      <td>2022991312498</td>\n      <td>2022</td>\n      <td>991312498</td>\n      <td>1</td>\n      <td>1</td>\n      <td>1</td>\n      <td>1</td>\n      <td>36</td>\n      <td>7</td>\n      <td>2</td>\n      <td>0</td>\n      <td>0</td>\n      <td>0</td>\n      <td>0</td>\n      <td>0</td>\n      <td>19</td>\n      <td>3</td>\n      <td>6</td>\n      <td>-1</td>\n    </tr>\n    <tr>\n      <th>135477</th>\n      <td>2022991315177</td>\n      <td>2022</td>\n      <td>991315177</td>\n      <td>1</td>\n      <td>1</td>\n      <td>3</td>\n      <td>1</td>\n      <td>21</td>\n      <td>5</td>\n      <td>3</td>\n      <td>10</td>\n      <td>9</td>\n      <td>0</td>\n      <td>0</td>\n      <td>2</td>\n      <td>0</td>\n      <td>-1</td>\n      <td>-1</td>\n      <td>-1</td>\n    </tr>\n    <tr>\n      <th>135478</th>\n      <td>2022991321308</td>\n      <td>2022</td>\n      <td>991321308</td>\n      <td>1</td>\n      <td>1</td>\n      <td>3</td>\n      <td>2</td>\n      <td>28</td>\n      <td>6</td>\n      <td>2</td>\n      <td>8</td>\n      <td>5</td>\n      <td>0</td>\n      <td>0</td>\n      <td>2</td>\n      <td>0</td>\n      <td>-1</td>\n      <td>-1</td>\n      <td>-1</td>\n    </tr>\n    <tr>\n      <th>135479</th>\n      <td>2022991322411</td>\n      <td>2022</td>\n      <td>991322411</td>\n      <td>1</td>\n      <td>1</td>\n      <td>3</td>\n      <td>2</td>\n      <td>20</td>\n      <td>4</td>\n      <td>2</td>\n      <td>5</td>\n      <td>2</td>\n      <td>0</td>\n      <td>0</td>\n      <td>2</td>\n      <td>0</td>\n      <td>1</td>\n      <td>3</td>\n      <td>-1</td>\n    </tr>\n  </tbody>\n</table>\n<p>135480 rows × 19 columns</p>\n</div>"
     },
     "execution_count": 81,
     "metadata": {},
     "output_type": "execute_result"
    }
   ],
   "source": [
    "dataset1"
   ]
  },
  {
   "cell_type": "code",
   "execution_count": 82,
   "id": "e96abfa6",
   "metadata": {
    "ExecuteTime": {
     "end_time": "2024-05-11T10:43:55.803824100Z",
     "start_time": "2024-05-11T10:43:53.404244100Z"
    }
   },
   "outputs": [
    {
     "data": {
      "text/plain": "       accident_index  accident_year accident_reference  \\\n0       2022010352073           2022           10352073   \n1       2022010352573           2022           10352573   \n2       2022010352575           2022           10352575   \n3       2022010352578           2022           10352578   \n4       2022010352580           2022           10352580   \n...               ...            ...                ...   \n105999  2022991311627           2022          991311627   \n106000  2022991312498           2022          991312498   \n106001  2022991315177           2022          991315177   \n106002  2022991321308           2022          991321308   \n106003  2022991322411           2022          991322411   \n\n        location_easting_osgr  location_northing_osgr  longitude   latitude  \\\n0                    525199.0                177928.0  -0.198224  51.486454   \n1                    546214.0                179866.0   0.105042  51.498830   \n2                    551119.0                174789.0   0.173482  51.451924   \n3                    528889.0                192230.0  -0.139873  51.614153   \n4                    539773.0                190404.0   0.016495  51.595151   \n...                       ...                     ...        ...        ...   \n105999               235016.0                625551.0  -4.613246  55.495815   \n106000               127459.0                663067.0  -6.348650  55.783849   \n106001               254396.0                663549.0  -4.326930  55.843114   \n106002               325409.0                677054.0  -3.196963  55.980648   \n106003               324745.0                673696.0  -3.206662  55.950381   \n\n        police_force  accident_severity  number_of_vehicles  \\\n0                  1                  3                   2   \n1                  1                  3                   2   \n2                  1                  3                   2   \n3                  1                  3                   2   \n4                  1                  3                   4   \n...              ...                ...                 ...   \n105999            99                  2                   1   \n106000            99                  2                   3   \n106001            99                  3                   1   \n106002            99                  2                   1   \n106003            99                  2                   1   \n\n        number_of_casualties        date  day_of_week   time  \\\n0                          1  05/01/2022            4  16:40   \n1                          1  01/01/2022            7  01:17   \n2                          1  01/01/2022            7  01:15   \n3                          2  01/01/2022            7  02:24   \n4                          3  01/01/2022            7  02:30   \n...                      ...         ...          ...    ...   \n105999                     1  24/12/2022            7  15:00   \n106000                     1  12/11/2022            7  21:35   \n106001                     1  01/07/2022            6  11:44   \n106002                     1  02/12/2022            6  16:45   \n106003                     1  23/11/2022            4  19:05   \n\n        local_authority_district local_authority_ons_district  \\\n0                             -1                    E09000013   \n1                             -1                    E09000011   \n2                             -1                    E09000004   \n3                             -1                    E09000010   \n4                             -1                    E09000026   \n...                          ...                          ...   \n105999                        -1                    S12000028   \n106000                        -1                    S12000035   \n106001                        -1                    S12000049   \n106002                        -1                    S12000036   \n106003                        -1                    S12000036   \n\n       local_authority_highway  first_road_class  first_road_number  \\\n0                    E09000013                 3               3218   \n1                    E09000011                 3               2016   \n2                    E09000004                 3                207   \n3                    E09000010                 6                  0   \n4                    E09000026                 3                406   \n...                        ...               ...                ...   \n105999               S12000028                 3                 79   \n106000               S12000035                 3                847   \n106001               S12000049                 6                  0   \n106002               S12000036                 3                901   \n106003               S12000036                 3                  8   \n\n        road_type  speed_limit  junction_detail  junction_control  \\\n0               6           30                6                 4   \n1               3           50                6                 2   \n2               6           30                9                 4   \n3               6           30                0                -1   \n4               3           50                5                 4   \n...           ...          ...              ...               ...   \n105999          6           30                6                 2   \n106000          6           60                0                -1   \n106001          6           30                6                 2   \n106002          6           30                3                 4   \n106003          3           20                0                -1   \n\n        second_road_class  second_road_number  \\\n0                       6                   0   \n1                       6                   0   \n2                       6                   0   \n3                       0                  -1   \n4                       6                   0   \n...                   ...                 ...   \n105999                  6                   0   \n106000                  0                  -1   \n106001                  6                   0   \n106002                  3                 901   \n106003                  0                  -1   \n\n        pedestrian_crossing_human_control  \\\n0                                       0   \n1                                       0   \n2                                       0   \n3                                       0   \n4                                       0   \n...                                   ...   \n105999                                  0   \n106000                                  0   \n106001                                  0   \n106002                                  0   \n106003                                  0   \n\n        pedestrian_crossing_physical_facilities  light_conditions  \\\n0                                             0                 4   \n1                                             4                 4   \n2                                             0                 4   \n3                                             0                 4   \n4                                             0                 4   \n...                                         ...               ...   \n105999                                        1                 1   \n106000                                        0                 6   \n106001                                        5                 1   \n106002                                        8                 4   \n106003                                        0                 4   \n\n        weather_conditions  road_surface_conditions  \\\n0                        1                        1   \n1                        1                        1   \n2                        1                        1   \n3                        1                        1   \n4                        1                        1   \n...                    ...                      ...   \n105999                   1                        1   \n106000                   1                        1   \n106001                   1                        1   \n106002                   1                        1   \n106003                   1                        2   \n\n        special_conditions_at_site  carriageway_hazards  urban_or_rural_area  \\\n0                                0                    0                    1   \n1                                0                    0                    2   \n2                                0                    0                    1   \n3                                0                    0                    1   \n4                                0                    0                    1   \n...                            ...                  ...                  ...   \n105999                           0                    0                    1   \n106000                           0                    0                    2   \n106001                           0                    0                    1   \n106002                           0                    0                    1   \n106003                           0                    0                    1   \n\n        did_police_officer_attend_scene_of_accident  trunk_road_flag  \\\n0                                                 1                2   \n1                                                 1                2   \n2                                                 1                2   \n3                                                 1                2   \n4                                                 1                2   \n...                                             ...              ...   \n105999                                            2               -1   \n106000                                            1               -1   \n106001                                            2               -1   \n106002                                            1               -1   \n106003                                            1               -1   \n\n       lsoa_of_accident_location  \n0                      E01001883  \n1                      E01033745  \n2                      E01000378  \n3                      E01001529  \n4                      E01003673  \n...                          ...  \n105999                        -1  \n106000                        -1  \n106001                        -1  \n106002                        -1  \n106003                        -1  \n\n[106004 rows x 36 columns]",
      "text/html": "<div>\n<style scoped>\n    .dataframe tbody tr th:only-of-type {\n        vertical-align: middle;\n    }\n\n    .dataframe tbody tr th {\n        vertical-align: top;\n    }\n\n    .dataframe thead th {\n        text-align: right;\n    }\n</style>\n<table border=\"1\" class=\"dataframe\">\n  <thead>\n    <tr style=\"text-align: right;\">\n      <th></th>\n      <th>accident_index</th>\n      <th>accident_year</th>\n      <th>accident_reference</th>\n      <th>location_easting_osgr</th>\n      <th>location_northing_osgr</th>\n      <th>longitude</th>\n      <th>latitude</th>\n      <th>police_force</th>\n      <th>accident_severity</th>\n      <th>number_of_vehicles</th>\n      <th>number_of_casualties</th>\n      <th>date</th>\n      <th>day_of_week</th>\n      <th>time</th>\n      <th>local_authority_district</th>\n      <th>local_authority_ons_district</th>\n      <th>local_authority_highway</th>\n      <th>first_road_class</th>\n      <th>first_road_number</th>\n      <th>road_type</th>\n      <th>speed_limit</th>\n      <th>junction_detail</th>\n      <th>junction_control</th>\n      <th>second_road_class</th>\n      <th>second_road_number</th>\n      <th>pedestrian_crossing_human_control</th>\n      <th>pedestrian_crossing_physical_facilities</th>\n      <th>light_conditions</th>\n      <th>weather_conditions</th>\n      <th>road_surface_conditions</th>\n      <th>special_conditions_at_site</th>\n      <th>carriageway_hazards</th>\n      <th>urban_or_rural_area</th>\n      <th>did_police_officer_attend_scene_of_accident</th>\n      <th>trunk_road_flag</th>\n      <th>lsoa_of_accident_location</th>\n    </tr>\n  </thead>\n  <tbody>\n    <tr>\n      <th>0</th>\n      <td>2022010352073</td>\n      <td>2022</td>\n      <td>10352073</td>\n      <td>525199.0</td>\n      <td>177928.0</td>\n      <td>-0.198224</td>\n      <td>51.486454</td>\n      <td>1</td>\n      <td>3</td>\n      <td>2</td>\n      <td>1</td>\n      <td>05/01/2022</td>\n      <td>4</td>\n      <td>16:40</td>\n      <td>-1</td>\n      <td>E09000013</td>\n      <td>E09000013</td>\n      <td>3</td>\n      <td>3218</td>\n      <td>6</td>\n      <td>30</td>\n      <td>6</td>\n      <td>4</td>\n      <td>6</td>\n      <td>0</td>\n      <td>0</td>\n      <td>0</td>\n      <td>4</td>\n      <td>1</td>\n      <td>1</td>\n      <td>0</td>\n      <td>0</td>\n      <td>1</td>\n      <td>1</td>\n      <td>2</td>\n      <td>E01001883</td>\n    </tr>\n    <tr>\n      <th>1</th>\n      <td>2022010352573</td>\n      <td>2022</td>\n      <td>10352573</td>\n      <td>546214.0</td>\n      <td>179866.0</td>\n      <td>0.105042</td>\n      <td>51.498830</td>\n      <td>1</td>\n      <td>3</td>\n      <td>2</td>\n      <td>1</td>\n      <td>01/01/2022</td>\n      <td>7</td>\n      <td>01:17</td>\n      <td>-1</td>\n      <td>E09000011</td>\n      <td>E09000011</td>\n      <td>3</td>\n      <td>2016</td>\n      <td>3</td>\n      <td>50</td>\n      <td>6</td>\n      <td>2</td>\n      <td>6</td>\n      <td>0</td>\n      <td>0</td>\n      <td>4</td>\n      <td>4</td>\n      <td>1</td>\n      <td>1</td>\n      <td>0</td>\n      <td>0</td>\n      <td>2</td>\n      <td>1</td>\n      <td>2</td>\n      <td>E01033745</td>\n    </tr>\n    <tr>\n      <th>2</th>\n      <td>2022010352575</td>\n      <td>2022</td>\n      <td>10352575</td>\n      <td>551119.0</td>\n      <td>174789.0</td>\n      <td>0.173482</td>\n      <td>51.451924</td>\n      <td>1</td>\n      <td>3</td>\n      <td>2</td>\n      <td>1</td>\n      <td>01/01/2022</td>\n      <td>7</td>\n      <td>01:15</td>\n      <td>-1</td>\n      <td>E09000004</td>\n      <td>E09000004</td>\n      <td>3</td>\n      <td>207</td>\n      <td>6</td>\n      <td>30</td>\n      <td>9</td>\n      <td>4</td>\n      <td>6</td>\n      <td>0</td>\n      <td>0</td>\n      <td>0</td>\n      <td>4</td>\n      <td>1</td>\n      <td>1</td>\n      <td>0</td>\n      <td>0</td>\n      <td>1</td>\n      <td>1</td>\n      <td>2</td>\n      <td>E01000378</td>\n    </tr>\n    <tr>\n      <th>3</th>\n      <td>2022010352578</td>\n      <td>2022</td>\n      <td>10352578</td>\n      <td>528889.0</td>\n      <td>192230.0</td>\n      <td>-0.139873</td>\n      <td>51.614153</td>\n      <td>1</td>\n      <td>3</td>\n      <td>2</td>\n      <td>2</td>\n      <td>01/01/2022</td>\n      <td>7</td>\n      <td>02:24</td>\n      <td>-1</td>\n      <td>E09000010</td>\n      <td>E09000010</td>\n      <td>6</td>\n      <td>0</td>\n      <td>6</td>\n      <td>30</td>\n      <td>0</td>\n      <td>-1</td>\n      <td>0</td>\n      <td>-1</td>\n      <td>0</td>\n      <td>0</td>\n      <td>4</td>\n      <td>1</td>\n      <td>1</td>\n      <td>0</td>\n      <td>0</td>\n      <td>1</td>\n      <td>1</td>\n      <td>2</td>\n      <td>E01001529</td>\n    </tr>\n    <tr>\n      <th>4</th>\n      <td>2022010352580</td>\n      <td>2022</td>\n      <td>10352580</td>\n      <td>539773.0</td>\n      <td>190404.0</td>\n      <td>0.016495</td>\n      <td>51.595151</td>\n      <td>1</td>\n      <td>3</td>\n      <td>4</td>\n      <td>3</td>\n      <td>01/01/2022</td>\n      <td>7</td>\n      <td>02:30</td>\n      <td>-1</td>\n      <td>E09000026</td>\n      <td>E09000026</td>\n      <td>3</td>\n      <td>406</td>\n      <td>3</td>\n      <td>50</td>\n      <td>5</td>\n      <td>4</td>\n      <td>6</td>\n      <td>0</td>\n      <td>0</td>\n      <td>0</td>\n      <td>4</td>\n      <td>1</td>\n      <td>1</td>\n      <td>0</td>\n      <td>0</td>\n      <td>1</td>\n      <td>1</td>\n      <td>2</td>\n      <td>E01003673</td>\n    </tr>\n    <tr>\n      <th>...</th>\n      <td>...</td>\n      <td>...</td>\n      <td>...</td>\n      <td>...</td>\n      <td>...</td>\n      <td>...</td>\n      <td>...</td>\n      <td>...</td>\n      <td>...</td>\n      <td>...</td>\n      <td>...</td>\n      <td>...</td>\n      <td>...</td>\n      <td>...</td>\n      <td>...</td>\n      <td>...</td>\n      <td>...</td>\n      <td>...</td>\n      <td>...</td>\n      <td>...</td>\n      <td>...</td>\n      <td>...</td>\n      <td>...</td>\n      <td>...</td>\n      <td>...</td>\n      <td>...</td>\n      <td>...</td>\n      <td>...</td>\n      <td>...</td>\n      <td>...</td>\n      <td>...</td>\n      <td>...</td>\n      <td>...</td>\n      <td>...</td>\n      <td>...</td>\n      <td>...</td>\n    </tr>\n    <tr>\n      <th>105999</th>\n      <td>2022991311627</td>\n      <td>2022</td>\n      <td>991311627</td>\n      <td>235016.0</td>\n      <td>625551.0</td>\n      <td>-4.613246</td>\n      <td>55.495815</td>\n      <td>99</td>\n      <td>2</td>\n      <td>1</td>\n      <td>1</td>\n      <td>24/12/2022</td>\n      <td>7</td>\n      <td>15:00</td>\n      <td>-1</td>\n      <td>S12000028</td>\n      <td>S12000028</td>\n      <td>3</td>\n      <td>79</td>\n      <td>6</td>\n      <td>30</td>\n      <td>6</td>\n      <td>2</td>\n      <td>6</td>\n      <td>0</td>\n      <td>0</td>\n      <td>1</td>\n      <td>1</td>\n      <td>1</td>\n      <td>1</td>\n      <td>0</td>\n      <td>0</td>\n      <td>1</td>\n      <td>2</td>\n      <td>-1</td>\n      <td>-1</td>\n    </tr>\n    <tr>\n      <th>106000</th>\n      <td>2022991312498</td>\n      <td>2022</td>\n      <td>991312498</td>\n      <td>127459.0</td>\n      <td>663067.0</td>\n      <td>-6.348650</td>\n      <td>55.783849</td>\n      <td>99</td>\n      <td>2</td>\n      <td>3</td>\n      <td>1</td>\n      <td>12/11/2022</td>\n      <td>7</td>\n      <td>21:35</td>\n      <td>-1</td>\n      <td>S12000035</td>\n      <td>S12000035</td>\n      <td>3</td>\n      <td>847</td>\n      <td>6</td>\n      <td>60</td>\n      <td>0</td>\n      <td>-1</td>\n      <td>0</td>\n      <td>-1</td>\n      <td>0</td>\n      <td>0</td>\n      <td>6</td>\n      <td>1</td>\n      <td>1</td>\n      <td>0</td>\n      <td>0</td>\n      <td>2</td>\n      <td>1</td>\n      <td>-1</td>\n      <td>-1</td>\n    </tr>\n    <tr>\n      <th>106001</th>\n      <td>2022991315177</td>\n      <td>2022</td>\n      <td>991315177</td>\n      <td>254396.0</td>\n      <td>663549.0</td>\n      <td>-4.326930</td>\n      <td>55.843114</td>\n      <td>99</td>\n      <td>3</td>\n      <td>1</td>\n      <td>1</td>\n      <td>01/07/2022</td>\n      <td>6</td>\n      <td>11:44</td>\n      <td>-1</td>\n      <td>S12000049</td>\n      <td>S12000049</td>\n      <td>6</td>\n      <td>0</td>\n      <td>6</td>\n      <td>30</td>\n      <td>6</td>\n      <td>2</td>\n      <td>6</td>\n      <td>0</td>\n      <td>0</td>\n      <td>5</td>\n      <td>1</td>\n      <td>1</td>\n      <td>1</td>\n      <td>0</td>\n      <td>0</td>\n      <td>1</td>\n      <td>2</td>\n      <td>-1</td>\n      <td>-1</td>\n    </tr>\n    <tr>\n      <th>106002</th>\n      <td>2022991321308</td>\n      <td>2022</td>\n      <td>991321308</td>\n      <td>325409.0</td>\n      <td>677054.0</td>\n      <td>-3.196963</td>\n      <td>55.980648</td>\n      <td>99</td>\n      <td>2</td>\n      <td>1</td>\n      <td>1</td>\n      <td>02/12/2022</td>\n      <td>6</td>\n      <td>16:45</td>\n      <td>-1</td>\n      <td>S12000036</td>\n      <td>S12000036</td>\n      <td>3</td>\n      <td>901</td>\n      <td>6</td>\n      <td>30</td>\n      <td>3</td>\n      <td>4</td>\n      <td>3</td>\n      <td>901</td>\n      <td>0</td>\n      <td>8</td>\n      <td>4</td>\n      <td>1</td>\n      <td>1</td>\n      <td>0</td>\n      <td>0</td>\n      <td>1</td>\n      <td>1</td>\n      <td>-1</td>\n      <td>-1</td>\n    </tr>\n    <tr>\n      <th>106003</th>\n      <td>2022991322411</td>\n      <td>2022</td>\n      <td>991322411</td>\n      <td>324745.0</td>\n      <td>673696.0</td>\n      <td>-3.206662</td>\n      <td>55.950381</td>\n      <td>99</td>\n      <td>2</td>\n      <td>1</td>\n      <td>1</td>\n      <td>23/11/2022</td>\n      <td>4</td>\n      <td>19:05</td>\n      <td>-1</td>\n      <td>S12000036</td>\n      <td>S12000036</td>\n      <td>3</td>\n      <td>8</td>\n      <td>3</td>\n      <td>20</td>\n      <td>0</td>\n      <td>-1</td>\n      <td>0</td>\n      <td>-1</td>\n      <td>0</td>\n      <td>0</td>\n      <td>4</td>\n      <td>1</td>\n      <td>2</td>\n      <td>0</td>\n      <td>0</td>\n      <td>1</td>\n      <td>1</td>\n      <td>-1</td>\n      <td>-1</td>\n    </tr>\n  </tbody>\n</table>\n<p>106004 rows × 36 columns</p>\n</div>"
     },
     "execution_count": 82,
     "metadata": {},
     "output_type": "execute_result"
    }
   ],
   "source": [
    "dataset2"
   ]
  },
  {
   "cell_type": "code",
   "execution_count": 83,
   "id": "f95ae6c3",
   "metadata": {
    "ExecuteTime": {
     "end_time": "2024-05-11T10:43:55.804823900Z",
     "start_time": "2024-05-11T10:43:53.436616200Z"
    }
   },
   "outputs": [
    {
     "data": {
      "text/plain": "       accident_index  accident_year accident_reference  vehicle_reference  \\\n0       2022010352073           2022           10352073                  1   \n1       2022010352073           2022           10352073                  2   \n2       2022010352573           2022           10352573                  1   \n3       2022010352573           2022           10352573                  2   \n4       2022010352575           2022           10352575                  1   \n...               ...            ...                ...                ...   \n193540  2022991312498           2022          991312498                  2   \n193541  2022991312498           2022          991312498                  3   \n193542  2022991315177           2022          991315177                  1   \n193543  2022991321308           2022          991321308                  1   \n193544  2022991322411           2022          991322411                  1   \n\n        vehicle_type  towing_and_articulation  vehicle_manoeuvre  \\\n0                 19                        0                  9   \n1                  3                        0                 18   \n2                  9                        0                 18   \n3                  9                        0                 13   \n4                  9                        0                 18   \n...              ...                      ...                ...   \n193540            19                        0                 18   \n193541             9                        0                  2   \n193542             9                        0                  5   \n193543             9                        0                 18   \n193544             8                        0                 18   \n\n        vehicle_direction_from  vehicle_direction_to  \\\n0                            3                     8   \n1                            1                     5   \n2                            7                     3   \n3                            7                     3   \n4                            4                     8   \n...                        ...                   ...   \n193540                       8                     1   \n193541                       8                     1   \n193542                       8                     4   \n193543                       3                     7   \n193544                       7                     3   \n\n        vehicle_location_restricted_lane  junction_location  \\\n0                                      0                  1   \n1                                      0                  1   \n2                                      0                  6   \n3                                      0                  6   \n4                                      0                  2   \n...                                  ...                ...   \n193540                                 0                  0   \n193541                                 0                  0   \n193542                                 0                  2   \n193543                                 0                  1   \n193544                                 0                  0   \n\n        skidding_and_overturning  hit_object_in_carriageway  \\\n0                              0                          0   \n1                              0                          0   \n2                              0                          0   \n3                              0                          0   \n4                              0                          0   \n...                          ...                        ...   \n193540                         0                          0   \n193541                         0                          0   \n193542                         0                          0   \n193543                        -1                         -1   \n193544                         0                          0   \n\n        vehicle_leaving_carriageway  hit_object_off_carriageway  \\\n0                                 0                           0   \n1                                 0                           0   \n2                                 1                           1   \n3                                 0                           0   \n4                                 0                           0   \n...                             ...                         ...   \n193540                            0                           0   \n193541                            0                           0   \n193542                            0                           0   \n193543                           -1                           0   \n193544                            0                           0   \n\n        first_point_of_impact  vehicle_left_hand_drive  \\\n0                           1                        2   \n1                           1                        1   \n2                           1                        1   \n3                           1                        1   \n4                           1                        1   \n...                       ...                      ...   \n193540                      1                        1   \n193541                      1                        1   \n193542                      4                        1   \n193543                      1                        1   \n193544                      4                        1   \n\n        journey_purpose_of_driver  sex_of_driver  age_of_driver  \\\n0                               2              1             48   \n1                               2              1             17   \n2                               6              2             42   \n3                               6              3             -1   \n4                               6              1             20   \n...                           ...            ...            ...   \n193540                          5              1             43   \n193541                          5              1             62   \n193542                          6              1             61   \n193543                          5              1             77   \n193544                          1              1             60   \n\n        age_band_of_driver  engine_capacity_cc  propulsion_code  \\\n0                        8                1461                2   \n1                        4                 125                1   \n2                        7                  -1               -1   \n3                       -1                  -1               -1   \n4                        4                1896                2   \n...                    ...                 ...              ...   \n193540                   7                1968                2   \n193541                   9                1229                1   \n193542                   9                1497                8   \n193543                  11                1794                1   \n193544                   9                1997                2   \n\n        age_of_vehicle  generic_make_model  driver_imd_decile  \\\n0                    4      RENAULT KANGOO                  7   \n1                    1        HONDA FSH125                  1   \n2                   -1                  -1                  5   \n3                   -1                  -1                 -1   \n4                   15     VOLKSWAGEN GOLF                  8   \n...                ...                 ...                ...   \n193540               0  VOLKSWAGEN CRAFTER                  6   \n193541              12      VAUXHALL CORSA                  6   \n193542              10        TOYOTA YARIS                  3   \n193543              17      TOYOTA AVENSIS                 10   \n193544               7          PEUGEOT E7                 -1   \n\n        driver_home_area_type lsoa_of_driver  \n0                           1      E01002687  \n1                           1      E01001364  \n2                           1      E01000338  \n3                          -1             -1  \n4                           1      E01000390  \n...                       ...            ...  \n193540                      3             -1  \n193541                      3             -1  \n193542                      1             -1  \n193543                      1             -1  \n193544                     -1             -1  \n\n[193545 rows x 28 columns]",
      "text/html": "<div>\n<style scoped>\n    .dataframe tbody tr th:only-of-type {\n        vertical-align: middle;\n    }\n\n    .dataframe tbody tr th {\n        vertical-align: top;\n    }\n\n    .dataframe thead th {\n        text-align: right;\n    }\n</style>\n<table border=\"1\" class=\"dataframe\">\n  <thead>\n    <tr style=\"text-align: right;\">\n      <th></th>\n      <th>accident_index</th>\n      <th>accident_year</th>\n      <th>accident_reference</th>\n      <th>vehicle_reference</th>\n      <th>vehicle_type</th>\n      <th>towing_and_articulation</th>\n      <th>vehicle_manoeuvre</th>\n      <th>vehicle_direction_from</th>\n      <th>vehicle_direction_to</th>\n      <th>vehicle_location_restricted_lane</th>\n      <th>junction_location</th>\n      <th>skidding_and_overturning</th>\n      <th>hit_object_in_carriageway</th>\n      <th>vehicle_leaving_carriageway</th>\n      <th>hit_object_off_carriageway</th>\n      <th>first_point_of_impact</th>\n      <th>vehicle_left_hand_drive</th>\n      <th>journey_purpose_of_driver</th>\n      <th>sex_of_driver</th>\n      <th>age_of_driver</th>\n      <th>age_band_of_driver</th>\n      <th>engine_capacity_cc</th>\n      <th>propulsion_code</th>\n      <th>age_of_vehicle</th>\n      <th>generic_make_model</th>\n      <th>driver_imd_decile</th>\n      <th>driver_home_area_type</th>\n      <th>lsoa_of_driver</th>\n    </tr>\n  </thead>\n  <tbody>\n    <tr>\n      <th>0</th>\n      <td>2022010352073</td>\n      <td>2022</td>\n      <td>10352073</td>\n      <td>1</td>\n      <td>19</td>\n      <td>0</td>\n      <td>9</td>\n      <td>3</td>\n      <td>8</td>\n      <td>0</td>\n      <td>1</td>\n      <td>0</td>\n      <td>0</td>\n      <td>0</td>\n      <td>0</td>\n      <td>1</td>\n      <td>2</td>\n      <td>2</td>\n      <td>1</td>\n      <td>48</td>\n      <td>8</td>\n      <td>1461</td>\n      <td>2</td>\n      <td>4</td>\n      <td>RENAULT KANGOO</td>\n      <td>7</td>\n      <td>1</td>\n      <td>E01002687</td>\n    </tr>\n    <tr>\n      <th>1</th>\n      <td>2022010352073</td>\n      <td>2022</td>\n      <td>10352073</td>\n      <td>2</td>\n      <td>3</td>\n      <td>0</td>\n      <td>18</td>\n      <td>1</td>\n      <td>5</td>\n      <td>0</td>\n      <td>1</td>\n      <td>0</td>\n      <td>0</td>\n      <td>0</td>\n      <td>0</td>\n      <td>1</td>\n      <td>1</td>\n      <td>2</td>\n      <td>1</td>\n      <td>17</td>\n      <td>4</td>\n      <td>125</td>\n      <td>1</td>\n      <td>1</td>\n      <td>HONDA FSH125</td>\n      <td>1</td>\n      <td>1</td>\n      <td>E01001364</td>\n    </tr>\n    <tr>\n      <th>2</th>\n      <td>2022010352573</td>\n      <td>2022</td>\n      <td>10352573</td>\n      <td>1</td>\n      <td>9</td>\n      <td>0</td>\n      <td>18</td>\n      <td>7</td>\n      <td>3</td>\n      <td>0</td>\n      <td>6</td>\n      <td>0</td>\n      <td>0</td>\n      <td>1</td>\n      <td>1</td>\n      <td>1</td>\n      <td>1</td>\n      <td>6</td>\n      <td>2</td>\n      <td>42</td>\n      <td>7</td>\n      <td>-1</td>\n      <td>-1</td>\n      <td>-1</td>\n      <td>-1</td>\n      <td>5</td>\n      <td>1</td>\n      <td>E01000338</td>\n    </tr>\n    <tr>\n      <th>3</th>\n      <td>2022010352573</td>\n      <td>2022</td>\n      <td>10352573</td>\n      <td>2</td>\n      <td>9</td>\n      <td>0</td>\n      <td>13</td>\n      <td>7</td>\n      <td>3</td>\n      <td>0</td>\n      <td>6</td>\n      <td>0</td>\n      <td>0</td>\n      <td>0</td>\n      <td>0</td>\n      <td>1</td>\n      <td>1</td>\n      <td>6</td>\n      <td>3</td>\n      <td>-1</td>\n      <td>-1</td>\n      <td>-1</td>\n      <td>-1</td>\n      <td>-1</td>\n      <td>-1</td>\n      <td>-1</td>\n      <td>-1</td>\n      <td>-1</td>\n    </tr>\n    <tr>\n      <th>4</th>\n      <td>2022010352575</td>\n      <td>2022</td>\n      <td>10352575</td>\n      <td>1</td>\n      <td>9</td>\n      <td>0</td>\n      <td>18</td>\n      <td>4</td>\n      <td>8</td>\n      <td>0</td>\n      <td>2</td>\n      <td>0</td>\n      <td>0</td>\n      <td>0</td>\n      <td>0</td>\n      <td>1</td>\n      <td>1</td>\n      <td>6</td>\n      <td>1</td>\n      <td>20</td>\n      <td>4</td>\n      <td>1896</td>\n      <td>2</td>\n      <td>15</td>\n      <td>VOLKSWAGEN GOLF</td>\n      <td>8</td>\n      <td>1</td>\n      <td>E01000390</td>\n    </tr>\n    <tr>\n      <th>...</th>\n      <td>...</td>\n      <td>...</td>\n      <td>...</td>\n      <td>...</td>\n      <td>...</td>\n      <td>...</td>\n      <td>...</td>\n      <td>...</td>\n      <td>...</td>\n      <td>...</td>\n      <td>...</td>\n      <td>...</td>\n      <td>...</td>\n      <td>...</td>\n      <td>...</td>\n      <td>...</td>\n      <td>...</td>\n      <td>...</td>\n      <td>...</td>\n      <td>...</td>\n      <td>...</td>\n      <td>...</td>\n      <td>...</td>\n      <td>...</td>\n      <td>...</td>\n      <td>...</td>\n      <td>...</td>\n      <td>...</td>\n    </tr>\n    <tr>\n      <th>193540</th>\n      <td>2022991312498</td>\n      <td>2022</td>\n      <td>991312498</td>\n      <td>2</td>\n      <td>19</td>\n      <td>0</td>\n      <td>18</td>\n      <td>8</td>\n      <td>1</td>\n      <td>0</td>\n      <td>0</td>\n      <td>0</td>\n      <td>0</td>\n      <td>0</td>\n      <td>0</td>\n      <td>1</td>\n      <td>1</td>\n      <td>5</td>\n      <td>1</td>\n      <td>43</td>\n      <td>7</td>\n      <td>1968</td>\n      <td>2</td>\n      <td>0</td>\n      <td>VOLKSWAGEN CRAFTER</td>\n      <td>6</td>\n      <td>3</td>\n      <td>-1</td>\n    </tr>\n    <tr>\n      <th>193541</th>\n      <td>2022991312498</td>\n      <td>2022</td>\n      <td>991312498</td>\n      <td>3</td>\n      <td>9</td>\n      <td>0</td>\n      <td>2</td>\n      <td>8</td>\n      <td>1</td>\n      <td>0</td>\n      <td>0</td>\n      <td>0</td>\n      <td>0</td>\n      <td>0</td>\n      <td>0</td>\n      <td>1</td>\n      <td>1</td>\n      <td>5</td>\n      <td>1</td>\n      <td>62</td>\n      <td>9</td>\n      <td>1229</td>\n      <td>1</td>\n      <td>12</td>\n      <td>VAUXHALL CORSA</td>\n      <td>6</td>\n      <td>3</td>\n      <td>-1</td>\n    </tr>\n    <tr>\n      <th>193542</th>\n      <td>2022991315177</td>\n      <td>2022</td>\n      <td>991315177</td>\n      <td>1</td>\n      <td>9</td>\n      <td>0</td>\n      <td>5</td>\n      <td>8</td>\n      <td>4</td>\n      <td>0</td>\n      <td>2</td>\n      <td>0</td>\n      <td>0</td>\n      <td>0</td>\n      <td>0</td>\n      <td>4</td>\n      <td>1</td>\n      <td>6</td>\n      <td>1</td>\n      <td>61</td>\n      <td>9</td>\n      <td>1497</td>\n      <td>8</td>\n      <td>10</td>\n      <td>TOYOTA YARIS</td>\n      <td>3</td>\n      <td>1</td>\n      <td>-1</td>\n    </tr>\n    <tr>\n      <th>193543</th>\n      <td>2022991321308</td>\n      <td>2022</td>\n      <td>991321308</td>\n      <td>1</td>\n      <td>9</td>\n      <td>0</td>\n      <td>18</td>\n      <td>3</td>\n      <td>7</td>\n      <td>0</td>\n      <td>1</td>\n      <td>-1</td>\n      <td>-1</td>\n      <td>-1</td>\n      <td>0</td>\n      <td>1</td>\n      <td>1</td>\n      <td>5</td>\n      <td>1</td>\n      <td>77</td>\n      <td>11</td>\n      <td>1794</td>\n      <td>1</td>\n      <td>17</td>\n      <td>TOYOTA AVENSIS</td>\n      <td>10</td>\n      <td>1</td>\n      <td>-1</td>\n    </tr>\n    <tr>\n      <th>193544</th>\n      <td>2022991322411</td>\n      <td>2022</td>\n      <td>991322411</td>\n      <td>1</td>\n      <td>8</td>\n      <td>0</td>\n      <td>18</td>\n      <td>7</td>\n      <td>3</td>\n      <td>0</td>\n      <td>0</td>\n      <td>0</td>\n      <td>0</td>\n      <td>0</td>\n      <td>0</td>\n      <td>4</td>\n      <td>1</td>\n      <td>1</td>\n      <td>1</td>\n      <td>60</td>\n      <td>9</td>\n      <td>1997</td>\n      <td>2</td>\n      <td>7</td>\n      <td>PEUGEOT E7</td>\n      <td>-1</td>\n      <td>-1</td>\n      <td>-1</td>\n    </tr>\n  </tbody>\n</table>\n<p>193545 rows × 28 columns</p>\n</div>"
     },
     "execution_count": 83,
     "metadata": {},
     "output_type": "execute_result"
    }
   ],
   "source": [
    "dataset3"
   ]
  },
  {
   "cell_type": "code",
   "execution_count": 84,
   "id": "9280a66d",
   "metadata": {
    "ExecuteTime": {
     "end_time": "2024-05-11T10:43:55.804823900Z",
     "start_time": "2024-05-11T10:43:53.452611Z"
    }
   },
   "outputs": [],
   "source": [
    "# df = pd.read_csv(r'C:\\Users\\20221343\\OneDrive - TU Eindhoven\\Desktop\\Cleaned-CollisionData2022.csv',low_memory=False,error_bad_lines = False)\n",
    "# df"
   ]
  },
  {
   "cell_type": "code",
   "execution_count": 85,
   "id": "6f5d8632",
   "metadata": {
    "ExecuteTime": {
     "end_time": "2024-05-11T10:43:55.805823900Z",
     "start_time": "2024-05-11T10:43:53.466691700Z"
    }
   },
   "outputs": [
    {
     "data": {
      "text/plain": "       accident_index  accident_year_x accident_reference_x  \\\n0       2022010352073             2022             10352073   \n1       2022010352073             2022             10352073   \n2       2022010352573             2022             10352573   \n3       2022010352573             2022             10352573   \n4       2022010352575             2022             10352575   \n...               ...              ...                  ...   \n223235  2022991312498             2022            991312498   \n223236  2022991312498             2022            991312498   \n223237  2022991315177             2022            991315177   \n223238  2022991321308             2022            991321308   \n223239  2022991322411             2022            991322411   \n\n        location_easting_osgr  location_northing_osgr  longitude   latitude  \\\n0                    525199.0                177928.0  -0.198224  51.486454   \n1                    525199.0                177928.0  -0.198224  51.486454   \n2                    546214.0                179866.0   0.105042  51.498830   \n3                    546214.0                179866.0   0.105042  51.498830   \n4                    551119.0                174789.0   0.173482  51.451924   \n...                       ...                     ...        ...        ...   \n223235               127459.0                663067.0  -6.348650  55.783849   \n223236               127459.0                663067.0  -6.348650  55.783849   \n223237               254396.0                663549.0  -4.326930  55.843114   \n223238               325409.0                677054.0  -3.196963  55.980648   \n223239               324745.0                673696.0  -3.206662  55.950381   \n\n        police_force  accident_severity  number_of_vehicles  \\\n0                  1                  3                   2   \n1                  1                  3                   2   \n2                  1                  3                   2   \n3                  1                  3                   2   \n4                  1                  3                   2   \n...              ...                ...                 ...   \n223235            99                  2                   3   \n223236            99                  2                   3   \n223237            99                  3                   1   \n223238            99                  2                   1   \n223239            99                  2                   1   \n\n        number_of_casualties        date  day_of_week   time  \\\n0                          1  05/01/2022            4  16:40   \n1                          1  05/01/2022            4  16:40   \n2                          1  01/01/2022            7  01:17   \n3                          1  01/01/2022            7  01:17   \n4                          1  01/01/2022            7  01:15   \n...                      ...         ...          ...    ...   \n223235                     1  12/11/2022            7  21:35   \n223236                     1  12/11/2022            7  21:35   \n223237                     1  01/07/2022            6  11:44   \n223238                     1  02/12/2022            6  16:45   \n223239                     1  23/11/2022            4  19:05   \n\n        local_authority_district local_authority_ons_district  \\\n0                             -1                    E09000013   \n1                             -1                    E09000013   \n2                             -1                    E09000011   \n3                             -1                    E09000011   \n4                             -1                    E09000004   \n...                          ...                          ...   \n223235                        -1                    S12000035   \n223236                        -1                    S12000035   \n223237                        -1                    S12000049   \n223238                        -1                    S12000036   \n223239                        -1                    S12000036   \n\n       local_authority_highway  first_road_class  first_road_number  \\\n0                    E09000013                 3               3218   \n1                    E09000013                 3               3218   \n2                    E09000011                 3               2016   \n3                    E09000011                 3               2016   \n4                    E09000004                 3                207   \n...                        ...               ...                ...   \n223235               S12000035                 3                847   \n223236               S12000035                 3                847   \n223237               S12000049                 6                  0   \n223238               S12000036                 3                901   \n223239               S12000036                 3                  8   \n\n        road_type  speed_limit  junction_detail  junction_control  \\\n0               6           30                6                 4   \n1               6           30                6                 4   \n2               3           50                6                 2   \n3               3           50                6                 2   \n4               6           30                9                 4   \n...           ...          ...              ...               ...   \n223235          6           60                0                -1   \n223236          6           60                0                -1   \n223237          6           30                6                 2   \n223238          6           30                3                 4   \n223239          3           20                0                -1   \n\n        second_road_class  second_road_number  \\\n0                       6                   0   \n1                       6                   0   \n2                       6                   0   \n3                       6                   0   \n4                       6                   0   \n...                   ...                 ...   \n223235                  0                  -1   \n223236                  0                  -1   \n223237                  6                   0   \n223238                  3                 901   \n223239                  0                  -1   \n\n        pedestrian_crossing_human_control  \\\n0                                       0   \n1                                       0   \n2                                       0   \n3                                       0   \n4                                       0   \n...                                   ...   \n223235                                  0   \n223236                                  0   \n223237                                  0   \n223238                                  0   \n223239                                  0   \n\n        pedestrian_crossing_physical_facilities  light_conditions  \\\n0                                             0                 4   \n1                                             0                 4   \n2                                             4                 4   \n3                                             4                 4   \n4                                             0                 4   \n...                                         ...               ...   \n223235                                        0                 6   \n223236                                        0                 6   \n223237                                        5                 1   \n223238                                        8                 4   \n223239                                        0                 4   \n\n        weather_conditions  road_surface_conditions  \\\n0                        1                        1   \n1                        1                        1   \n2                        1                        1   \n3                        1                        1   \n4                        1                        1   \n...                    ...                      ...   \n223235                   1                        1   \n223236                   1                        1   \n223237                   1                        1   \n223238                   1                        1   \n223239                   1                        2   \n\n        special_conditions_at_site  carriageway_hazards  urban_or_rural_area  \\\n0                                0                    0                    1   \n1                                0                    0                    1   \n2                                0                    0                    2   \n3                                0                    0                    2   \n4                                0                    0                    1   \n...                            ...                  ...                  ...   \n223235                           0                    0                    2   \n223236                           0                    0                    2   \n223237                           0                    0                    1   \n223238                           0                    0                    1   \n223239                           0                    0                    1   \n\n        did_police_officer_attend_scene_of_accident  trunk_road_flag  \\\n0                                                 1                2   \n1                                                 1                2   \n2                                                 1                2   \n3                                                 1                2   \n4                                                 1                2   \n...                                             ...              ...   \n223235                                            1               -1   \n223236                                            1               -1   \n223237                                            2               -1   \n223238                                            1               -1   \n223239                                            1               -1   \n\n       lsoa_of_accident_location  accident_year_y accident_reference_y  \\\n0                      E01001883           2022.0             10352073   \n1                      E01001883           2022.0             10352073   \n2                      E01033745           2022.0             10352573   \n3                      E01033745           2022.0             10352573   \n4                      E01000378           2022.0             10352575   \n...                          ...              ...                  ...   \n223235                        -1           2022.0            991312498   \n223236                        -1           2022.0            991312498   \n223237                        -1           2022.0            991315177   \n223238                        -1           2022.0            991321308   \n223239                        -1           2022.0            991322411   \n\n        vehicle_reference_x  vehicle_type  towing_and_articulation  \\\n0                       1.0          19.0                      0.0   \n1                       2.0           3.0                      0.0   \n2                       1.0           9.0                      0.0   \n3                       2.0           9.0                      0.0   \n4                       1.0           9.0                      0.0   \n...                     ...           ...                      ...   \n223235                  2.0          19.0                      0.0   \n223236                  3.0           9.0                      0.0   \n223237                  1.0           9.0                      0.0   \n223238                  1.0           9.0                      0.0   \n223239                  1.0           8.0                      0.0   \n\n        vehicle_manoeuvre  vehicle_direction_from  vehicle_direction_to  \\\n0                     9.0                     3.0                   8.0   \n1                    18.0                     1.0                   5.0   \n2                    18.0                     7.0                   3.0   \n3                    13.0                     7.0                   3.0   \n4                    18.0                     4.0                   8.0   \n...                   ...                     ...                   ...   \n223235               18.0                     8.0                   1.0   \n223236                2.0                     8.0                   1.0   \n223237                5.0                     8.0                   4.0   \n223238               18.0                     3.0                   7.0   \n223239               18.0                     7.0                   3.0   \n\n        vehicle_location_restricted_lane  junction_location  \\\n0                                    0.0                1.0   \n1                                    0.0                1.0   \n2                                    0.0                6.0   \n3                                    0.0                6.0   \n4                                    0.0                2.0   \n...                                  ...                ...   \n223235                               0.0                0.0   \n223236                               0.0                0.0   \n223237                               0.0                2.0   \n223238                               0.0                1.0   \n223239                               0.0                0.0   \n\n        skidding_and_overturning  hit_object_in_carriageway  \\\n0                            0.0                        0.0   \n1                            0.0                        0.0   \n2                            0.0                        0.0   \n3                            0.0                        0.0   \n4                            0.0                        0.0   \n...                          ...                        ...   \n223235                       0.0                        0.0   \n223236                       0.0                        0.0   \n223237                       0.0                        0.0   \n223238                      -1.0                       -1.0   \n223239                       0.0                        0.0   \n\n        vehicle_leaving_carriageway  hit_object_off_carriageway  \\\n0                               0.0                         0.0   \n1                               0.0                         0.0   \n2                               1.0                         1.0   \n3                               0.0                         0.0   \n4                               0.0                         0.0   \n...                             ...                         ...   \n223235                          0.0                         0.0   \n223236                          0.0                         0.0   \n223237                          0.0                         0.0   \n223238                         -1.0                         0.0   \n223239                          0.0                         0.0   \n\n        first_point_of_impact  vehicle_left_hand_drive  \\\n0                         1.0                      2.0   \n1                         1.0                      1.0   \n2                         1.0                      1.0   \n3                         1.0                      1.0   \n4                         1.0                      1.0   \n...                       ...                      ...   \n223235                    1.0                      1.0   \n223236                    1.0                      1.0   \n223237                    4.0                      1.0   \n223238                    1.0                      1.0   \n223239                    4.0                      1.0   \n\n        journey_purpose_of_driver  sex_of_driver  age_of_driver  \\\n0                             2.0            1.0           48.0   \n1                             2.0            1.0           17.0   \n2                             6.0            2.0           42.0   \n3                             6.0            3.0           -1.0   \n4                             6.0            1.0           20.0   \n...                           ...            ...            ...   \n223235                        5.0            1.0           43.0   \n223236                        5.0            1.0           62.0   \n223237                        6.0            1.0           61.0   \n223238                        5.0            1.0           77.0   \n223239                        1.0            1.0           60.0   \n\n        age_band_of_driver  engine_capacity_cc  propulsion_code  \\\n0                      8.0              1461.0              2.0   \n1                      4.0               125.0              1.0   \n2                      7.0                -1.0             -1.0   \n3                     -1.0                -1.0             -1.0   \n4                      4.0              1896.0              2.0   \n...                    ...                 ...              ...   \n223235                 7.0              1968.0              2.0   \n223236                 9.0              1229.0              1.0   \n223237                 9.0              1497.0              8.0   \n223238                11.0              1794.0              1.0   \n223239                 9.0              1997.0              2.0   \n\n        age_of_vehicle  generic_make_model  driver_imd_decile  \\\n0                  4.0      RENAULT KANGOO                7.0   \n1                  1.0        HONDA FSH125                1.0   \n2                 -1.0                  -1                5.0   \n3                 -1.0                  -1               -1.0   \n4                 15.0     VOLKSWAGEN GOLF                8.0   \n...                ...                 ...                ...   \n223235             0.0  VOLKSWAGEN CRAFTER                6.0   \n223236            12.0      VAUXHALL CORSA                6.0   \n223237            10.0        TOYOTA YARIS                3.0   \n223238            17.0      TOYOTA AVENSIS               10.0   \n223239             7.0          PEUGEOT E7               -1.0   \n\n        driver_home_area_type lsoa_of_driver  accident_year  \\\n0                         1.0      E01002687         2022.0   \n1                         1.0      E01001364         2022.0   \n2                         1.0      E01000338         2022.0   \n3                        -1.0             -1         2022.0   \n4                         1.0      E01000390         2022.0   \n...                       ...            ...            ...   \n223235                    3.0             -1            NaN   \n223236                    3.0             -1            NaN   \n223237                    1.0             -1            NaN   \n223238                    1.0             -1            NaN   \n223239                   -1.0             -1            NaN   \n\n       accident_reference  vehicle_reference_y  casualty_reference  \\\n0                10352073                  2.0                 1.0   \n1                10352073                  2.0                 1.0   \n2                10352573                  1.0                 1.0   \n3                10352573                  1.0                 1.0   \n4                10352575                  1.0                 1.0   \n...                   ...                  ...                 ...   \n223235                NaN                  NaN                 NaN   \n223236                NaN                  NaN                 NaN   \n223237                NaN                  NaN                 NaN   \n223238                NaN                  NaN                 NaN   \n223239                NaN                  NaN                 NaN   \n\n        casualty_class  sex_of_casualty  age_of_casualty  \\\n0                  1.0              1.0             17.0   \n1                  1.0              1.0             17.0   \n2                  1.0              2.0             42.0   \n3                  1.0              2.0             42.0   \n4                  1.0              1.0             20.0   \n...                ...              ...              ...   \n223235             NaN              NaN              NaN   \n223236             NaN              NaN              NaN   \n223237             NaN              NaN              NaN   \n223238             NaN              NaN              NaN   \n223239             NaN              NaN              NaN   \n\n        age_band_of_casualty  casualty_severity  pedestrian_location  \\\n0                        4.0                3.0                  0.0   \n1                        4.0                3.0                  0.0   \n2                        7.0                3.0                  0.0   \n3                        7.0                3.0                  0.0   \n4                        4.0                3.0                  0.0   \n...                      ...                ...                  ...   \n223235                   NaN                NaN                  NaN   \n223236                   NaN                NaN                  NaN   \n223237                   NaN                NaN                  NaN   \n223238                   NaN                NaN                  NaN   \n223239                   NaN                NaN                  NaN   \n\n        pedestrian_movement  car_passenger  bus_or_coach_passenger  \\\n0                       0.0            0.0                     0.0   \n1                       0.0            0.0                     0.0   \n2                       0.0            0.0                     0.0   \n3                       0.0            0.0                     0.0   \n4                       0.0            0.0                     0.0   \n...                     ...            ...                     ...   \n223235                  NaN            NaN                     NaN   \n223236                  NaN            NaN                     NaN   \n223237                  NaN            NaN                     NaN   \n223238                  NaN            NaN                     NaN   \n223239                  NaN            NaN                     NaN   \n\n        pedestrian_road_maintenance_worker  casualty_type  \\\n0                                      0.0            3.0   \n1                                      0.0            3.0   \n2                                      0.0            9.0   \n3                                      0.0            9.0   \n4                                      0.0            9.0   \n...                                    ...            ...   \n223235                                 NaN            NaN   \n223236                                 NaN            NaN   \n223237                                 NaN            NaN   \n223238                                 NaN            NaN   \n223239                                 NaN            NaN   \n\n        casualty_home_area_type  casualty_imd_decile lsoa_of_casualty  \n0                           1.0                  1.0        E01001364  \n1                           1.0                  1.0        E01001364  \n2                           1.0                  5.0        E01000338  \n3                           1.0                  5.0        E01000338  \n4                           1.0                  8.0        E01000390  \n...                         ...                  ...              ...  \n223235                      NaN                  NaN              NaN  \n223236                      NaN                  NaN              NaN  \n223237                      NaN                  NaN              NaN  \n223238                      NaN                  NaN              NaN  \n223239                      NaN                  NaN              NaN  \n\n[223240 rows x 81 columns]",
      "text/html": "<div>\n<style scoped>\n    .dataframe tbody tr th:only-of-type {\n        vertical-align: middle;\n    }\n\n    .dataframe tbody tr th {\n        vertical-align: top;\n    }\n\n    .dataframe thead th {\n        text-align: right;\n    }\n</style>\n<table border=\"1\" class=\"dataframe\">\n  <thead>\n    <tr style=\"text-align: right;\">\n      <th></th>\n      <th>accident_index</th>\n      <th>accident_year_x</th>\n      <th>accident_reference_x</th>\n      <th>location_easting_osgr</th>\n      <th>location_northing_osgr</th>\n      <th>longitude</th>\n      <th>latitude</th>\n      <th>police_force</th>\n      <th>accident_severity</th>\n      <th>number_of_vehicles</th>\n      <th>number_of_casualties</th>\n      <th>date</th>\n      <th>day_of_week</th>\n      <th>time</th>\n      <th>local_authority_district</th>\n      <th>local_authority_ons_district</th>\n      <th>local_authority_highway</th>\n      <th>first_road_class</th>\n      <th>first_road_number</th>\n      <th>road_type</th>\n      <th>speed_limit</th>\n      <th>junction_detail</th>\n      <th>junction_control</th>\n      <th>second_road_class</th>\n      <th>second_road_number</th>\n      <th>pedestrian_crossing_human_control</th>\n      <th>pedestrian_crossing_physical_facilities</th>\n      <th>light_conditions</th>\n      <th>weather_conditions</th>\n      <th>road_surface_conditions</th>\n      <th>special_conditions_at_site</th>\n      <th>carriageway_hazards</th>\n      <th>urban_or_rural_area</th>\n      <th>did_police_officer_attend_scene_of_accident</th>\n      <th>trunk_road_flag</th>\n      <th>lsoa_of_accident_location</th>\n      <th>accident_year_y</th>\n      <th>accident_reference_y</th>\n      <th>vehicle_reference_x</th>\n      <th>vehicle_type</th>\n      <th>towing_and_articulation</th>\n      <th>vehicle_manoeuvre</th>\n      <th>vehicle_direction_from</th>\n      <th>vehicle_direction_to</th>\n      <th>vehicle_location_restricted_lane</th>\n      <th>junction_location</th>\n      <th>skidding_and_overturning</th>\n      <th>hit_object_in_carriageway</th>\n      <th>vehicle_leaving_carriageway</th>\n      <th>hit_object_off_carriageway</th>\n      <th>first_point_of_impact</th>\n      <th>vehicle_left_hand_drive</th>\n      <th>journey_purpose_of_driver</th>\n      <th>sex_of_driver</th>\n      <th>age_of_driver</th>\n      <th>age_band_of_driver</th>\n      <th>engine_capacity_cc</th>\n      <th>propulsion_code</th>\n      <th>age_of_vehicle</th>\n      <th>generic_make_model</th>\n      <th>driver_imd_decile</th>\n      <th>driver_home_area_type</th>\n      <th>lsoa_of_driver</th>\n      <th>accident_year</th>\n      <th>accident_reference</th>\n      <th>vehicle_reference_y</th>\n      <th>casualty_reference</th>\n      <th>casualty_class</th>\n      <th>sex_of_casualty</th>\n      <th>age_of_casualty</th>\n      <th>age_band_of_casualty</th>\n      <th>casualty_severity</th>\n      <th>pedestrian_location</th>\n      <th>pedestrian_movement</th>\n      <th>car_passenger</th>\n      <th>bus_or_coach_passenger</th>\n      <th>pedestrian_road_maintenance_worker</th>\n      <th>casualty_type</th>\n      <th>casualty_home_area_type</th>\n      <th>casualty_imd_decile</th>\n      <th>lsoa_of_casualty</th>\n    </tr>\n  </thead>\n  <tbody>\n    <tr>\n      <th>0</th>\n      <td>2022010352073</td>\n      <td>2022</td>\n      <td>10352073</td>\n      <td>525199.0</td>\n      <td>177928.0</td>\n      <td>-0.198224</td>\n      <td>51.486454</td>\n      <td>1</td>\n      <td>3</td>\n      <td>2</td>\n      <td>1</td>\n      <td>05/01/2022</td>\n      <td>4</td>\n      <td>16:40</td>\n      <td>-1</td>\n      <td>E09000013</td>\n      <td>E09000013</td>\n      <td>3</td>\n      <td>3218</td>\n      <td>6</td>\n      <td>30</td>\n      <td>6</td>\n      <td>4</td>\n      <td>6</td>\n      <td>0</td>\n      <td>0</td>\n      <td>0</td>\n      <td>4</td>\n      <td>1</td>\n      <td>1</td>\n      <td>0</td>\n      <td>0</td>\n      <td>1</td>\n      <td>1</td>\n      <td>2</td>\n      <td>E01001883</td>\n      <td>2022.0</td>\n      <td>10352073</td>\n      <td>1.0</td>\n      <td>19.0</td>\n      <td>0.0</td>\n      <td>9.0</td>\n      <td>3.0</td>\n      <td>8.0</td>\n      <td>0.0</td>\n      <td>1.0</td>\n      <td>0.0</td>\n      <td>0.0</td>\n      <td>0.0</td>\n      <td>0.0</td>\n      <td>1.0</td>\n      <td>2.0</td>\n      <td>2.0</td>\n      <td>1.0</td>\n      <td>48.0</td>\n      <td>8.0</td>\n      <td>1461.0</td>\n      <td>2.0</td>\n      <td>4.0</td>\n      <td>RENAULT KANGOO</td>\n      <td>7.0</td>\n      <td>1.0</td>\n      <td>E01002687</td>\n      <td>2022.0</td>\n      <td>10352073</td>\n      <td>2.0</td>\n      <td>1.0</td>\n      <td>1.0</td>\n      <td>1.0</td>\n      <td>17.0</td>\n      <td>4.0</td>\n      <td>3.0</td>\n      <td>0.0</td>\n      <td>0.0</td>\n      <td>0.0</td>\n      <td>0.0</td>\n      <td>0.0</td>\n      <td>3.0</td>\n      <td>1.0</td>\n      <td>1.0</td>\n      <td>E01001364</td>\n    </tr>\n    <tr>\n      <th>1</th>\n      <td>2022010352073</td>\n      <td>2022</td>\n      <td>10352073</td>\n      <td>525199.0</td>\n      <td>177928.0</td>\n      <td>-0.198224</td>\n      <td>51.486454</td>\n      <td>1</td>\n      <td>3</td>\n      <td>2</td>\n      <td>1</td>\n      <td>05/01/2022</td>\n      <td>4</td>\n      <td>16:40</td>\n      <td>-1</td>\n      <td>E09000013</td>\n      <td>E09000013</td>\n      <td>3</td>\n      <td>3218</td>\n      <td>6</td>\n      <td>30</td>\n      <td>6</td>\n      <td>4</td>\n      <td>6</td>\n      <td>0</td>\n      <td>0</td>\n      <td>0</td>\n      <td>4</td>\n      <td>1</td>\n      <td>1</td>\n      <td>0</td>\n      <td>0</td>\n      <td>1</td>\n      <td>1</td>\n      <td>2</td>\n      <td>E01001883</td>\n      <td>2022.0</td>\n      <td>10352073</td>\n      <td>2.0</td>\n      <td>3.0</td>\n      <td>0.0</td>\n      <td>18.0</td>\n      <td>1.0</td>\n      <td>5.0</td>\n      <td>0.0</td>\n      <td>1.0</td>\n      <td>0.0</td>\n      <td>0.0</td>\n      <td>0.0</td>\n      <td>0.0</td>\n      <td>1.0</td>\n      <td>1.0</td>\n      <td>2.0</td>\n      <td>1.0</td>\n      <td>17.0</td>\n      <td>4.0</td>\n      <td>125.0</td>\n      <td>1.0</td>\n      <td>1.0</td>\n      <td>HONDA FSH125</td>\n      <td>1.0</td>\n      <td>1.0</td>\n      <td>E01001364</td>\n      <td>2022.0</td>\n      <td>10352073</td>\n      <td>2.0</td>\n      <td>1.0</td>\n      <td>1.0</td>\n      <td>1.0</td>\n      <td>17.0</td>\n      <td>4.0</td>\n      <td>3.0</td>\n      <td>0.0</td>\n      <td>0.0</td>\n      <td>0.0</td>\n      <td>0.0</td>\n      <td>0.0</td>\n      <td>3.0</td>\n      <td>1.0</td>\n      <td>1.0</td>\n      <td>E01001364</td>\n    </tr>\n    <tr>\n      <th>2</th>\n      <td>2022010352573</td>\n      <td>2022</td>\n      <td>10352573</td>\n      <td>546214.0</td>\n      <td>179866.0</td>\n      <td>0.105042</td>\n      <td>51.498830</td>\n      <td>1</td>\n      <td>3</td>\n      <td>2</td>\n      <td>1</td>\n      <td>01/01/2022</td>\n      <td>7</td>\n      <td>01:17</td>\n      <td>-1</td>\n      <td>E09000011</td>\n      <td>E09000011</td>\n      <td>3</td>\n      <td>2016</td>\n      <td>3</td>\n      <td>50</td>\n      <td>6</td>\n      <td>2</td>\n      <td>6</td>\n      <td>0</td>\n      <td>0</td>\n      <td>4</td>\n      <td>4</td>\n      <td>1</td>\n      <td>1</td>\n      <td>0</td>\n      <td>0</td>\n      <td>2</td>\n      <td>1</td>\n      <td>2</td>\n      <td>E01033745</td>\n      <td>2022.0</td>\n      <td>10352573</td>\n      <td>1.0</td>\n      <td>9.0</td>\n      <td>0.0</td>\n      <td>18.0</td>\n      <td>7.0</td>\n      <td>3.0</td>\n      <td>0.0</td>\n      <td>6.0</td>\n      <td>0.0</td>\n      <td>0.0</td>\n      <td>1.0</td>\n      <td>1.0</td>\n      <td>1.0</td>\n      <td>1.0</td>\n      <td>6.0</td>\n      <td>2.0</td>\n      <td>42.0</td>\n      <td>7.0</td>\n      <td>-1.0</td>\n      <td>-1.0</td>\n      <td>-1.0</td>\n      <td>-1</td>\n      <td>5.0</td>\n      <td>1.0</td>\n      <td>E01000338</td>\n      <td>2022.0</td>\n      <td>10352573</td>\n      <td>1.0</td>\n      <td>1.0</td>\n      <td>1.0</td>\n      <td>2.0</td>\n      <td>42.0</td>\n      <td>7.0</td>\n      <td>3.0</td>\n      <td>0.0</td>\n      <td>0.0</td>\n      <td>0.0</td>\n      <td>0.0</td>\n      <td>0.0</td>\n      <td>9.0</td>\n      <td>1.0</td>\n      <td>5.0</td>\n      <td>E01000338</td>\n    </tr>\n    <tr>\n      <th>3</th>\n      <td>2022010352573</td>\n      <td>2022</td>\n      <td>10352573</td>\n      <td>546214.0</td>\n      <td>179866.0</td>\n      <td>0.105042</td>\n      <td>51.498830</td>\n      <td>1</td>\n      <td>3</td>\n      <td>2</td>\n      <td>1</td>\n      <td>01/01/2022</td>\n      <td>7</td>\n      <td>01:17</td>\n      <td>-1</td>\n      <td>E09000011</td>\n      <td>E09000011</td>\n      <td>3</td>\n      <td>2016</td>\n      <td>3</td>\n      <td>50</td>\n      <td>6</td>\n      <td>2</td>\n      <td>6</td>\n      <td>0</td>\n      <td>0</td>\n      <td>4</td>\n      <td>4</td>\n      <td>1</td>\n      <td>1</td>\n      <td>0</td>\n      <td>0</td>\n      <td>2</td>\n      <td>1</td>\n      <td>2</td>\n      <td>E01033745</td>\n      <td>2022.0</td>\n      <td>10352573</td>\n      <td>2.0</td>\n      <td>9.0</td>\n      <td>0.0</td>\n      <td>13.0</td>\n      <td>7.0</td>\n      <td>3.0</td>\n      <td>0.0</td>\n      <td>6.0</td>\n      <td>0.0</td>\n      <td>0.0</td>\n      <td>0.0</td>\n      <td>0.0</td>\n      <td>1.0</td>\n      <td>1.0</td>\n      <td>6.0</td>\n      <td>3.0</td>\n      <td>-1.0</td>\n      <td>-1.0</td>\n      <td>-1.0</td>\n      <td>-1.0</td>\n      <td>-1.0</td>\n      <td>-1</td>\n      <td>-1.0</td>\n      <td>-1.0</td>\n      <td>-1</td>\n      <td>2022.0</td>\n      <td>10352573</td>\n      <td>1.0</td>\n      <td>1.0</td>\n      <td>1.0</td>\n      <td>2.0</td>\n      <td>42.0</td>\n      <td>7.0</td>\n      <td>3.0</td>\n      <td>0.0</td>\n      <td>0.0</td>\n      <td>0.0</td>\n      <td>0.0</td>\n      <td>0.0</td>\n      <td>9.0</td>\n      <td>1.0</td>\n      <td>5.0</td>\n      <td>E01000338</td>\n    </tr>\n    <tr>\n      <th>4</th>\n      <td>2022010352575</td>\n      <td>2022</td>\n      <td>10352575</td>\n      <td>551119.0</td>\n      <td>174789.0</td>\n      <td>0.173482</td>\n      <td>51.451924</td>\n      <td>1</td>\n      <td>3</td>\n      <td>2</td>\n      <td>1</td>\n      <td>01/01/2022</td>\n      <td>7</td>\n      <td>01:15</td>\n      <td>-1</td>\n      <td>E09000004</td>\n      <td>E09000004</td>\n      <td>3</td>\n      <td>207</td>\n      <td>6</td>\n      <td>30</td>\n      <td>9</td>\n      <td>4</td>\n      <td>6</td>\n      <td>0</td>\n      <td>0</td>\n      <td>0</td>\n      <td>4</td>\n      <td>1</td>\n      <td>1</td>\n      <td>0</td>\n      <td>0</td>\n      <td>1</td>\n      <td>1</td>\n      <td>2</td>\n      <td>E01000378</td>\n      <td>2022.0</td>\n      <td>10352575</td>\n      <td>1.0</td>\n      <td>9.0</td>\n      <td>0.0</td>\n      <td>18.0</td>\n      <td>4.0</td>\n      <td>8.0</td>\n      <td>0.0</td>\n      <td>2.0</td>\n      <td>0.0</td>\n      <td>0.0</td>\n      <td>0.0</td>\n      <td>0.0</td>\n      <td>1.0</td>\n      <td>1.0</td>\n      <td>6.0</td>\n      <td>1.0</td>\n      <td>20.0</td>\n      <td>4.0</td>\n      <td>1896.0</td>\n      <td>2.0</td>\n      <td>15.0</td>\n      <td>VOLKSWAGEN GOLF</td>\n      <td>8.0</td>\n      <td>1.0</td>\n      <td>E01000390</td>\n      <td>2022.0</td>\n      <td>10352575</td>\n      <td>1.0</td>\n      <td>1.0</td>\n      <td>1.0</td>\n      <td>1.0</td>\n      <td>20.0</td>\n      <td>4.0</td>\n      <td>3.0</td>\n      <td>0.0</td>\n      <td>0.0</td>\n      <td>0.0</td>\n      <td>0.0</td>\n      <td>0.0</td>\n      <td>9.0</td>\n      <td>1.0</td>\n      <td>8.0</td>\n      <td>E01000390</td>\n    </tr>\n    <tr>\n      <th>...</th>\n      <td>...</td>\n      <td>...</td>\n      <td>...</td>\n      <td>...</td>\n      <td>...</td>\n      <td>...</td>\n      <td>...</td>\n      <td>...</td>\n      <td>...</td>\n      <td>...</td>\n      <td>...</td>\n      <td>...</td>\n      <td>...</td>\n      <td>...</td>\n      <td>...</td>\n      <td>...</td>\n      <td>...</td>\n      <td>...</td>\n      <td>...</td>\n      <td>...</td>\n      <td>...</td>\n      <td>...</td>\n      <td>...</td>\n      <td>...</td>\n      <td>...</td>\n      <td>...</td>\n      <td>...</td>\n      <td>...</td>\n      <td>...</td>\n      <td>...</td>\n      <td>...</td>\n      <td>...</td>\n      <td>...</td>\n      <td>...</td>\n      <td>...</td>\n      <td>...</td>\n      <td>...</td>\n      <td>...</td>\n      <td>...</td>\n      <td>...</td>\n      <td>...</td>\n      <td>...</td>\n      <td>...</td>\n      <td>...</td>\n      <td>...</td>\n      <td>...</td>\n      <td>...</td>\n      <td>...</td>\n      <td>...</td>\n      <td>...</td>\n      <td>...</td>\n      <td>...</td>\n      <td>...</td>\n      <td>...</td>\n      <td>...</td>\n      <td>...</td>\n      <td>...</td>\n      <td>...</td>\n      <td>...</td>\n      <td>...</td>\n      <td>...</td>\n      <td>...</td>\n      <td>...</td>\n      <td>...</td>\n      <td>...</td>\n      <td>...</td>\n      <td>...</td>\n      <td>...</td>\n      <td>...</td>\n      <td>...</td>\n      <td>...</td>\n      <td>...</td>\n      <td>...</td>\n      <td>...</td>\n      <td>...</td>\n      <td>...</td>\n      <td>...</td>\n      <td>...</td>\n      <td>...</td>\n      <td>...</td>\n      <td>...</td>\n    </tr>\n    <tr>\n      <th>223235</th>\n      <td>2022991312498</td>\n      <td>2022</td>\n      <td>991312498</td>\n      <td>127459.0</td>\n      <td>663067.0</td>\n      <td>-6.348650</td>\n      <td>55.783849</td>\n      <td>99</td>\n      <td>2</td>\n      <td>3</td>\n      <td>1</td>\n      <td>12/11/2022</td>\n      <td>7</td>\n      <td>21:35</td>\n      <td>-1</td>\n      <td>S12000035</td>\n      <td>S12000035</td>\n      <td>3</td>\n      <td>847</td>\n      <td>6</td>\n      <td>60</td>\n      <td>0</td>\n      <td>-1</td>\n      <td>0</td>\n      <td>-1</td>\n      <td>0</td>\n      <td>0</td>\n      <td>6</td>\n      <td>1</td>\n      <td>1</td>\n      <td>0</td>\n      <td>0</td>\n      <td>2</td>\n      <td>1</td>\n      <td>-1</td>\n      <td>-1</td>\n      <td>2022.0</td>\n      <td>991312498</td>\n      <td>2.0</td>\n      <td>19.0</td>\n      <td>0.0</td>\n      <td>18.0</td>\n      <td>8.0</td>\n      <td>1.0</td>\n      <td>0.0</td>\n      <td>0.0</td>\n      <td>0.0</td>\n      <td>0.0</td>\n      <td>0.0</td>\n      <td>0.0</td>\n      <td>1.0</td>\n      <td>1.0</td>\n      <td>5.0</td>\n      <td>1.0</td>\n      <td>43.0</td>\n      <td>7.0</td>\n      <td>1968.0</td>\n      <td>2.0</td>\n      <td>0.0</td>\n      <td>VOLKSWAGEN CRAFTER</td>\n      <td>6.0</td>\n      <td>3.0</td>\n      <td>-1</td>\n      <td>NaN</td>\n      <td>NaN</td>\n      <td>NaN</td>\n      <td>NaN</td>\n      <td>NaN</td>\n      <td>NaN</td>\n      <td>NaN</td>\n      <td>NaN</td>\n      <td>NaN</td>\n      <td>NaN</td>\n      <td>NaN</td>\n      <td>NaN</td>\n      <td>NaN</td>\n      <td>NaN</td>\n      <td>NaN</td>\n      <td>NaN</td>\n      <td>NaN</td>\n      <td>NaN</td>\n    </tr>\n    <tr>\n      <th>223236</th>\n      <td>2022991312498</td>\n      <td>2022</td>\n      <td>991312498</td>\n      <td>127459.0</td>\n      <td>663067.0</td>\n      <td>-6.348650</td>\n      <td>55.783849</td>\n      <td>99</td>\n      <td>2</td>\n      <td>3</td>\n      <td>1</td>\n      <td>12/11/2022</td>\n      <td>7</td>\n      <td>21:35</td>\n      <td>-1</td>\n      <td>S12000035</td>\n      <td>S12000035</td>\n      <td>3</td>\n      <td>847</td>\n      <td>6</td>\n      <td>60</td>\n      <td>0</td>\n      <td>-1</td>\n      <td>0</td>\n      <td>-1</td>\n      <td>0</td>\n      <td>0</td>\n      <td>6</td>\n      <td>1</td>\n      <td>1</td>\n      <td>0</td>\n      <td>0</td>\n      <td>2</td>\n      <td>1</td>\n      <td>-1</td>\n      <td>-1</td>\n      <td>2022.0</td>\n      <td>991312498</td>\n      <td>3.0</td>\n      <td>9.0</td>\n      <td>0.0</td>\n      <td>2.0</td>\n      <td>8.0</td>\n      <td>1.0</td>\n      <td>0.0</td>\n      <td>0.0</td>\n      <td>0.0</td>\n      <td>0.0</td>\n      <td>0.0</td>\n      <td>0.0</td>\n      <td>1.0</td>\n      <td>1.0</td>\n      <td>5.0</td>\n      <td>1.0</td>\n      <td>62.0</td>\n      <td>9.0</td>\n      <td>1229.0</td>\n      <td>1.0</td>\n      <td>12.0</td>\n      <td>VAUXHALL CORSA</td>\n      <td>6.0</td>\n      <td>3.0</td>\n      <td>-1</td>\n      <td>NaN</td>\n      <td>NaN</td>\n      <td>NaN</td>\n      <td>NaN</td>\n      <td>NaN</td>\n      <td>NaN</td>\n      <td>NaN</td>\n      <td>NaN</td>\n      <td>NaN</td>\n      <td>NaN</td>\n      <td>NaN</td>\n      <td>NaN</td>\n      <td>NaN</td>\n      <td>NaN</td>\n      <td>NaN</td>\n      <td>NaN</td>\n      <td>NaN</td>\n      <td>NaN</td>\n    </tr>\n    <tr>\n      <th>223237</th>\n      <td>2022991315177</td>\n      <td>2022</td>\n      <td>991315177</td>\n      <td>254396.0</td>\n      <td>663549.0</td>\n      <td>-4.326930</td>\n      <td>55.843114</td>\n      <td>99</td>\n      <td>3</td>\n      <td>1</td>\n      <td>1</td>\n      <td>01/07/2022</td>\n      <td>6</td>\n      <td>11:44</td>\n      <td>-1</td>\n      <td>S12000049</td>\n      <td>S12000049</td>\n      <td>6</td>\n      <td>0</td>\n      <td>6</td>\n      <td>30</td>\n      <td>6</td>\n      <td>2</td>\n      <td>6</td>\n      <td>0</td>\n      <td>0</td>\n      <td>5</td>\n      <td>1</td>\n      <td>1</td>\n      <td>1</td>\n      <td>0</td>\n      <td>0</td>\n      <td>1</td>\n      <td>2</td>\n      <td>-1</td>\n      <td>-1</td>\n      <td>2022.0</td>\n      <td>991315177</td>\n      <td>1.0</td>\n      <td>9.0</td>\n      <td>0.0</td>\n      <td>5.0</td>\n      <td>8.0</td>\n      <td>4.0</td>\n      <td>0.0</td>\n      <td>2.0</td>\n      <td>0.0</td>\n      <td>0.0</td>\n      <td>0.0</td>\n      <td>0.0</td>\n      <td>4.0</td>\n      <td>1.0</td>\n      <td>6.0</td>\n      <td>1.0</td>\n      <td>61.0</td>\n      <td>9.0</td>\n      <td>1497.0</td>\n      <td>8.0</td>\n      <td>10.0</td>\n      <td>TOYOTA YARIS</td>\n      <td>3.0</td>\n      <td>1.0</td>\n      <td>-1</td>\n      <td>NaN</td>\n      <td>NaN</td>\n      <td>NaN</td>\n      <td>NaN</td>\n      <td>NaN</td>\n      <td>NaN</td>\n      <td>NaN</td>\n      <td>NaN</td>\n      <td>NaN</td>\n      <td>NaN</td>\n      <td>NaN</td>\n      <td>NaN</td>\n      <td>NaN</td>\n      <td>NaN</td>\n      <td>NaN</td>\n      <td>NaN</td>\n      <td>NaN</td>\n      <td>NaN</td>\n    </tr>\n    <tr>\n      <th>223238</th>\n      <td>2022991321308</td>\n      <td>2022</td>\n      <td>991321308</td>\n      <td>325409.0</td>\n      <td>677054.0</td>\n      <td>-3.196963</td>\n      <td>55.980648</td>\n      <td>99</td>\n      <td>2</td>\n      <td>1</td>\n      <td>1</td>\n      <td>02/12/2022</td>\n      <td>6</td>\n      <td>16:45</td>\n      <td>-1</td>\n      <td>S12000036</td>\n      <td>S12000036</td>\n      <td>3</td>\n      <td>901</td>\n      <td>6</td>\n      <td>30</td>\n      <td>3</td>\n      <td>4</td>\n      <td>3</td>\n      <td>901</td>\n      <td>0</td>\n      <td>8</td>\n      <td>4</td>\n      <td>1</td>\n      <td>1</td>\n      <td>0</td>\n      <td>0</td>\n      <td>1</td>\n      <td>1</td>\n      <td>-1</td>\n      <td>-1</td>\n      <td>2022.0</td>\n      <td>991321308</td>\n      <td>1.0</td>\n      <td>9.0</td>\n      <td>0.0</td>\n      <td>18.0</td>\n      <td>3.0</td>\n      <td>7.0</td>\n      <td>0.0</td>\n      <td>1.0</td>\n      <td>-1.0</td>\n      <td>-1.0</td>\n      <td>-1.0</td>\n      <td>0.0</td>\n      <td>1.0</td>\n      <td>1.0</td>\n      <td>5.0</td>\n      <td>1.0</td>\n      <td>77.0</td>\n      <td>11.0</td>\n      <td>1794.0</td>\n      <td>1.0</td>\n      <td>17.0</td>\n      <td>TOYOTA AVENSIS</td>\n      <td>10.0</td>\n      <td>1.0</td>\n      <td>-1</td>\n      <td>NaN</td>\n      <td>NaN</td>\n      <td>NaN</td>\n      <td>NaN</td>\n      <td>NaN</td>\n      <td>NaN</td>\n      <td>NaN</td>\n      <td>NaN</td>\n      <td>NaN</td>\n      <td>NaN</td>\n      <td>NaN</td>\n      <td>NaN</td>\n      <td>NaN</td>\n      <td>NaN</td>\n      <td>NaN</td>\n      <td>NaN</td>\n      <td>NaN</td>\n      <td>NaN</td>\n    </tr>\n    <tr>\n      <th>223239</th>\n      <td>2022991322411</td>\n      <td>2022</td>\n      <td>991322411</td>\n      <td>324745.0</td>\n      <td>673696.0</td>\n      <td>-3.206662</td>\n      <td>55.950381</td>\n      <td>99</td>\n      <td>2</td>\n      <td>1</td>\n      <td>1</td>\n      <td>23/11/2022</td>\n      <td>4</td>\n      <td>19:05</td>\n      <td>-1</td>\n      <td>S12000036</td>\n      <td>S12000036</td>\n      <td>3</td>\n      <td>8</td>\n      <td>3</td>\n      <td>20</td>\n      <td>0</td>\n      <td>-1</td>\n      <td>0</td>\n      <td>-1</td>\n      <td>0</td>\n      <td>0</td>\n      <td>4</td>\n      <td>1</td>\n      <td>2</td>\n      <td>0</td>\n      <td>0</td>\n      <td>1</td>\n      <td>1</td>\n      <td>-1</td>\n      <td>-1</td>\n      <td>2022.0</td>\n      <td>991322411</td>\n      <td>1.0</td>\n      <td>8.0</td>\n      <td>0.0</td>\n      <td>18.0</td>\n      <td>7.0</td>\n      <td>3.0</td>\n      <td>0.0</td>\n      <td>0.0</td>\n      <td>0.0</td>\n      <td>0.0</td>\n      <td>0.0</td>\n      <td>0.0</td>\n      <td>4.0</td>\n      <td>1.0</td>\n      <td>1.0</td>\n      <td>1.0</td>\n      <td>60.0</td>\n      <td>9.0</td>\n      <td>1997.0</td>\n      <td>2.0</td>\n      <td>7.0</td>\n      <td>PEUGEOT E7</td>\n      <td>-1.0</td>\n      <td>-1.0</td>\n      <td>-1</td>\n      <td>NaN</td>\n      <td>NaN</td>\n      <td>NaN</td>\n      <td>NaN</td>\n      <td>NaN</td>\n      <td>NaN</td>\n      <td>NaN</td>\n      <td>NaN</td>\n      <td>NaN</td>\n      <td>NaN</td>\n      <td>NaN</td>\n      <td>NaN</td>\n      <td>NaN</td>\n      <td>NaN</td>\n      <td>NaN</td>\n      <td>NaN</td>\n      <td>NaN</td>\n      <td>NaN</td>\n    </tr>\n  </tbody>\n</table>\n<p>223240 rows × 81 columns</p>\n</div>"
     },
     "execution_count": 85,
     "metadata": {},
     "output_type": "execute_result"
    }
   ],
   "source": [
    "df"
   ]
  },
  {
   "cell_type": "code",
   "execution_count": 85,
   "id": "b70c11df",
   "metadata": {
    "ExecuteTime": {
     "end_time": "2024-05-11T10:43:55.805823900Z",
     "start_time": "2024-05-11T10:43:53.530766900Z"
    }
   },
   "outputs": [],
   "source": []
  },
  {
   "cell_type": "code",
   "execution_count": 86,
   "id": "67462927",
   "metadata": {
    "ExecuteTime": {
     "end_time": "2024-05-11T10:43:55.805823900Z",
     "start_time": "2024-05-11T10:43:53.546778600Z"
    }
   },
   "outputs": [
    {
     "name": "stdout",
     "output_type": "stream",
     "text": [
      "<class 'pandas.core.frame.DataFrame'>\n",
      "Int64Index: 223240 entries, 0 to 223239\n",
      "Data columns (total 81 columns):\n",
      " #   Column                                       Non-Null Count   Dtype  \n",
      "---  ------                                       --------------   -----  \n",
      " 0   accident_index                               223240 non-null  object \n",
      " 1   accident_year_x                              223240 non-null  int64  \n",
      " 2   accident_reference_x                         223240 non-null  object \n",
      " 3   location_easting_osgr                        223198 non-null  float64\n",
      " 4   location_northing_osgr                       223198 non-null  float64\n",
      " 5   longitude                                    223198 non-null  float64\n",
      " 6   latitude                                     223198 non-null  float64\n",
      " 7   police_force                                 223240 non-null  int64  \n",
      " 8   accident_severity                            223240 non-null  int64  \n",
      " 9   number_of_vehicles                           223240 non-null  int64  \n",
      " 10  number_of_casualties                         223240 non-null  int64  \n",
      " 11  date                                         223240 non-null  object \n",
      " 12  day_of_week                                  223240 non-null  int64  \n",
      " 13  time                                         223240 non-null  object \n",
      " 14  local_authority_district                     223240 non-null  int64  \n",
      " 15  local_authority_ons_district                 223240 non-null  object \n",
      " 16  local_authority_highway                      223240 non-null  object \n",
      " 17  first_road_class                             223240 non-null  int64  \n",
      " 18  first_road_number                            223240 non-null  int64  \n",
      " 19  road_type                                    223240 non-null  int64  \n",
      " 20  speed_limit                                  223240 non-null  int64  \n",
      " 21  junction_detail                              223240 non-null  int64  \n",
      " 22  junction_control                             223240 non-null  int64  \n",
      " 23  second_road_class                            223240 non-null  int64  \n",
      " 24  second_road_number                           223240 non-null  int64  \n",
      " 25  pedestrian_crossing_human_control            223240 non-null  int64  \n",
      " 26  pedestrian_crossing_physical_facilities      223240 non-null  int64  \n",
      " 27  light_conditions                             223240 non-null  int64  \n",
      " 28  weather_conditions                           223240 non-null  int64  \n",
      " 29  road_surface_conditions                      223240 non-null  int64  \n",
      " 30  special_conditions_at_site                   223240 non-null  int64  \n",
      " 31  carriageway_hazards                          223240 non-null  int64  \n",
      " 32  urban_or_rural_area                          223240 non-null  int64  \n",
      " 33  did_police_officer_attend_scene_of_accident  223240 non-null  int64  \n",
      " 34  trunk_road_flag                              223240 non-null  int64  \n",
      " 35  lsoa_of_accident_location                    223240 non-null  object \n",
      " 36  accident_year_y                              203091 non-null  float64\n",
      " 37  accident_reference_y                         203091 non-null  object \n",
      " 38  vehicle_reference_x                          203091 non-null  float64\n",
      " 39  vehicle_type                                 203091 non-null  float64\n",
      " 40  towing_and_articulation                      203091 non-null  float64\n",
      " 41  vehicle_manoeuvre                            203091 non-null  float64\n",
      " 42  vehicle_direction_from                       203091 non-null  float64\n",
      " 43  vehicle_direction_to                         203091 non-null  float64\n",
      " 44  vehicle_location_restricted_lane             203091 non-null  float64\n",
      " 45  junction_location                            203091 non-null  float64\n",
      " 46  skidding_and_overturning                     203091 non-null  float64\n",
      " 47  hit_object_in_carriageway                    203091 non-null  float64\n",
      " 48  vehicle_leaving_carriageway                  203091 non-null  float64\n",
      " 49  hit_object_off_carriageway                   203091 non-null  float64\n",
      " 50  first_point_of_impact                        203091 non-null  float64\n",
      " 51  vehicle_left_hand_drive                      203091 non-null  float64\n",
      " 52  journey_purpose_of_driver                    203091 non-null  float64\n",
      " 53  sex_of_driver                                203091 non-null  float64\n",
      " 54  age_of_driver                                203091 non-null  float64\n",
      " 55  age_band_of_driver                           203091 non-null  float64\n",
      " 56  engine_capacity_cc                           203091 non-null  float64\n",
      " 57  propulsion_code                              203091 non-null  float64\n",
      " 58  age_of_vehicle                               203091 non-null  float64\n",
      " 59  generic_make_model                           203091 non-null  object \n",
      " 60  driver_imd_decile                            203091 non-null  float64\n",
      " 61  driver_home_area_type                        203091 non-null  float64\n",
      " 62  lsoa_of_driver                               203091 non-null  object \n",
      " 63  accident_year                                182914 non-null  float64\n",
      " 64  accident_reference                           182914 non-null  object \n",
      " 65  vehicle_reference_y                          182914 non-null  float64\n",
      " 66  casualty_reference                           182914 non-null  float64\n",
      " 67  casualty_class                               182914 non-null  float64\n",
      " 68  sex_of_casualty                              182914 non-null  float64\n",
      " 69  age_of_casualty                              182914 non-null  float64\n",
      " 70  age_band_of_casualty                         182914 non-null  float64\n",
      " 71  casualty_severity                            182914 non-null  float64\n",
      " 72  pedestrian_location                          182914 non-null  float64\n",
      " 73  pedestrian_movement                          182914 non-null  float64\n",
      " 74  car_passenger                                182914 non-null  float64\n",
      " 75  bus_or_coach_passenger                       182914 non-null  float64\n",
      " 76  pedestrian_road_maintenance_worker           182914 non-null  float64\n",
      " 77  casualty_type                                182914 non-null  float64\n",
      " 78  casualty_home_area_type                      182914 non-null  float64\n",
      " 79  casualty_imd_decile                          182914 non-null  float64\n",
      " 80  lsoa_of_casualty                             182914 non-null  object \n",
      "dtypes: float64(44), int64(25), object(12)\n",
      "memory usage: 139.7+ MB\n"
     ]
    }
   ],
   "source": [
    "df.info()"
   ]
  },
  {
   "cell_type": "code",
   "execution_count": 87,
   "id": "46eaadb2",
   "metadata": {
    "ExecuteTime": {
     "end_time": "2024-05-11T10:43:55.805823900Z",
     "start_time": "2024-05-11T10:43:53.831524800Z"
    }
   },
   "outputs": [],
   "source": [
    "#df.replace('-1', pd.NA, inplace=True)\n",
    "# df = df.dropna()\n"
   ]
  },
  {
   "cell_type": "code",
   "execution_count": 88,
   "id": "b8fed98c",
   "metadata": {
    "ExecuteTime": {
     "end_time": "2024-05-11T10:43:55.806823900Z",
     "start_time": "2024-05-11T10:43:53.846071400Z"
    }
   },
   "outputs": [
    {
     "data": {
      "text/plain": "accident_index                            0\naccident_year_x                           0\naccident_reference_x                      0\nlocation_easting_osgr                    42\nlocation_northing_osgr                   42\n                                      ...  \npedestrian_road_maintenance_worker    40326\ncasualty_type                         40326\ncasualty_home_area_type               40326\ncasualty_imd_decile                   40326\nlsoa_of_casualty                      40326\nLength: 81, dtype: int64"
     },
     "execution_count": 88,
     "metadata": {},
     "output_type": "execute_result"
    }
   ],
   "source": [
    "df.isna().sum()"
   ]
  },
  {
   "cell_type": "code",
   "execution_count": 89,
   "id": "9a8814bb",
   "metadata": {
    "ExecuteTime": {
     "end_time": "2024-05-11T10:43:55.806823900Z",
     "start_time": "2024-05-11T10:43:54.131128900Z"
    }
   },
   "outputs": [],
   "source": [
    "#df.dropna(inplace=True)\n",
    "#df.isna().sum()"
   ]
  },
  {
   "cell_type": "code",
   "execution_count": 90,
   "id": "c82fdd9a",
   "metadata": {
    "ExecuteTime": {
     "end_time": "2024-05-11T10:43:55.806823900Z",
     "start_time": "2024-05-11T10:43:54.151290600Z"
    }
   },
   "outputs": [],
   "source": [
    "df[\"police_force\"].replace({\n",
    "    1: \"Metropolitan Police\",\n",
    "    3: \"Cumbria\",\n",
    "    4: \"Lancashire\",\n",
    "    5: \"Merseyside\",\n",
    "    6: \"Greater Manchester\",\n",
    "    7: \"Cheshire\",\n",
    "    10: \"Northumbria\",\n",
    "    11: \"Durham\",\n",
    "    12: \"North Yorkshire\",\n",
    "    13: \"West Yorkshire\",\n",
    "    14: \"South Yorkshire\",\n",
    "    16: \"Humberside\",\n",
    "    17: \"Cleveland\",\n",
    "    20: \"West Midlands\",\n",
    "    21: \"Staffordshire\",\n",
    "    22: \"West Mercia\",\n",
    "    23: \"Warwickshire\",\n",
    "    30: \"Derbyshire\",\n",
    "    31: \"Nottinghamshire\",\n",
    "    32: \"Lincolnshire\",\n",
    "    33: \"Leicestershire\",\n",
    "    34: \"Northamptonshire\",\n",
    "    35: \"Cambridgeshire\",\n",
    "    36: \"Norfolk\",\n",
    "    37: \"Suffolk\",\n",
    "    40: \"Bedfordshire\",\n",
    "    41: \"Hertfordshire\",\n",
    "    42: \"Essex\",\n",
    "    43: \"Thames Valley\",\n",
    "    44: \"Hampshire\",\n",
    "    45: \"Surrey\",\n",
    "    46: \"Kent\",\n",
    "    47: \"Sussex\",\n",
    "    48: \"City of London\",\n",
    "    50: \"Devon and Cornwall\",\n",
    "    52: \"Avon and Somerset\",\n",
    "    53: \"Gloucestershire\",\n",
    "    54: \"Wiltshire\",\n",
    "    55: \"Dorset\",\n",
    "    60: \"North Wales\",\n",
    "    61: \"Gwent\",\n",
    "    62: \"South Wales\",\n",
    "    63: \"Dyfed-Powys\",\n",
    "    91: \"Northern\",\n",
    "    92: \"Grampian\",\n",
    "    93: \"Tayside\",\n",
    "    94: \"Fife\",\n",
    "    95: \"Lothian and Borders\",\n",
    "    96: \"Central\",\n",
    "    97: \"Strathclyde\",\n",
    "    98: \"Dumfries and Galloway\",\n",
    "    99: \"Police Scotland\"\n",
    "}, inplace=True)\n"
   ]
  },
  {
   "cell_type": "code",
   "execution_count": 91,
   "id": "a9019b89",
   "metadata": {
    "ExecuteTime": {
     "end_time": "2024-05-11T10:43:55.806823900Z",
     "start_time": "2024-05-11T10:43:54.193358400Z"
    }
   },
   "outputs": [],
   "source": [
    "df[\"accident_severity\"].replace({\n",
    "    1: \"Fatal\",\n",
    "    2: \"Serious\",\n",
    "    3: \"Slight\"\n",
    "}, inplace=True)\n"
   ]
  },
  {
   "cell_type": "code",
   "execution_count": 92,
   "id": "1d252157",
   "metadata": {
    "ExecuteTime": {
     "end_time": "2024-05-11T10:43:55.806823900Z",
     "start_time": "2024-05-11T10:43:54.207626400Z"
    }
   },
   "outputs": [],
   "source": [
    "df[\"day_of_week\"].replace({\n",
    "    1: \"Sunday\",\n",
    "    2: \"Monday\",\n",
    "    3: \"Tuesday\",\n",
    "    4: \"Wednesday\",\n",
    "    5: \"Thursday\",\n",
    "    6: \"Friday\",\n",
    "    7: \"Saturday\"\n",
    "}, inplace=True)\n"
   ]
  },
  {
   "cell_type": "code",
   "execution_count": 93,
   "id": "b295cf69",
   "metadata": {
    "ExecuteTime": {
     "end_time": "2024-05-11T10:43:55.806823900Z",
     "start_time": "2024-05-11T10:43:54.223628300Z"
    }
   },
   "outputs": [
    {
     "data": {
      "text/plain": "0        -1\n1        -1\n2        -1\n3        -1\n4        -1\n         ..\n223235   -1\n223236   -1\n223237   -1\n223238   -1\n223239   -1\nName: local_authority_district, Length: 223240, dtype: int64"
     },
     "execution_count": 93,
     "metadata": {},
     "output_type": "execute_result"
    }
   ],
   "source": [
    "df[\"local_authority_district\"].replace({\n",
    "    1: \"Westminster\",\n",
    "    2: \"Camden\",\n",
    "    3: \"Islington\",\n",
    "    4: \"Hackney\",\n",
    "    5: \"Tower Hamlets\",\n",
    "    6: \"Greenwich\",\n",
    "    7: \"Lewisham\",\n",
    "    8: \"Southwark\",\n",
    "    9: \"Lambeth\",\n",
    "    10: \"Wandsworth\",\n",
    "    11: \"Hammersmith and Fulham\",\n",
    "    12: \"Kensington and Chelsea\",\n",
    "    13: \"Waltham Forest\",\n",
    "    14: \"Redbridge\",\n",
    "    15: \"Havering\",\n",
    "    16: \"Barking and Dagenham\",\n",
    "    17: \"Newham\",\n",
    "    18: \"Bexley\",\n",
    "    19: \"Bromley\",\n",
    "    20: \"Croydon\",\n",
    "    21: \"Sutton\",\n",
    "    22: \"Merton\",\n",
    "    23: \"Kingston upon Thames\",\n",
    "    24: \"Richmond upon Thames\",\n",
    "    25: \"Hounslow\",\n",
    "    26: \"Hillingdon\",\n",
    "    27: \"Ealing\",\n",
    "    28: \"Brent\",\n",
    "    29: \"Harrow\",\n",
    "    30: \"Barnet\",\n",
    "    31: \"Haringey\",\n",
    "    32: \"Enfield\",\n",
    "    33: \"Hertsmere\",\n",
    "    38: \"Epsom and Ewell\",\n",
    "    40: \"Spelthorne\",\n",
    "    57: \"London Airport (Heathrow)\",\n",
    "    60: \"Allerdale\",\n",
    "    61: \"Barrow-in-Furness\",\n",
    "    62: \"Carlisle\",\n",
    "    63: \"Copeland\",\n",
    "    64: \"Eden\",\n",
    "    65: \"South Lakeland\",\n",
    "    70: \"Blackburn with Darwen\",\n",
    "    71: \"Blackpool\",\n",
    "    72: \"Burnley\",\n",
    "    73: \"Chorley\",\n",
    "    74: \"Fylde\",\n",
    "    75: \"Hyndburn\",\n",
    "    76: \"Lancaster\",\n",
    "    77: \"Pendle\",\n",
    "    79: \"Preston\",\n",
    "    80: \"Ribble Valley\",\n",
    "    82: \"Rossendale\",\n",
    "    83: \"South Ribble\",\n",
    "    84: \"West Lancashire\",\n",
    "    85: \"Wyre\",\n",
    "    90: \"Knowsley\",\n",
    "    91: \"Liverpool\",\n",
    "    92: \"St. Helens\",\n",
    "    93: \"Sefton\",\n",
    "    95: \"Wirral\",\n",
    "    100: \"Bolton\",\n",
    "    101: \"Bury\",\n",
    "    102: \"Manchester\",\n",
    "    104: \"Oldham\",\n",
    "    106: \"Rochdale\",\n",
    "    107: \"Salford\",\n",
    "    109: \"Stockport\",\n",
    "    110: \"Tameside\",\n",
    "    112: \"Trafford\",\n",
    "    114: \"Wigan\",\n",
    "    120: \"Chester\",\n",
    "    121: \"Congleton\",\n",
    "    122: \"Crewe and Nantwich\",\n",
    "    123: \"Ellesmere Port and Neston\",\n",
    "    124: \"Halton\",\n",
    "    126: \"Macclesfield\",\n",
    "    127: \"Vale Royal\",\n",
    "    128: \"Warrington\",\n",
    "    129: \"Cheshire East\",\n",
    "    130: \"Cheshire West and Chester\",\n",
    "    139: \"Northumberland\",\n",
    "    140: \"Alnwick\",\n",
    "    141: \"Berwick-upon-Tweed\",\n",
    "    142: \"Blyth Valley\",\n",
    "    143: \"Castle Morpeth\",\n",
    "    144: \"Tynedale\",\n",
    "    145: \"Wansbeck\",\n",
    "    146: \"Gateshead\",\n",
    "    147: \"Newcastle upon Tyne\",\n",
    "    148: \"North Tyneside\",\n",
    "    149: \"South Tyneside\",\n",
    "    150: \"Sunderland\",\n",
    "    160: \"Chester-le-Street\",\n",
    "    161: \"Darlington\",\n",
    "    162: \"Derwentside\",\n",
    "    163: \"Durham\",\n",
    "    164: \"Easington\",\n",
    "    165: \"Sedgefield\",\n",
    "    166: \"Teesdale\",\n",
    "    168: \"Wear Valley\",\n",
    "    169: \"County Durham\",\n",
    "    180: \"Craven\",\n",
    "    181: \"Hambleton\",\n",
    "    182: \"Harrogate\",\n",
    "    184: \"Richmondshire\",\n",
    "    185: \"Ryedale\",\n",
    "    186: \"Scarborough\",\n",
    "    187: \"Selby\",\n",
    "    189: \"York\",\n",
    "    200: \"Bradford\",\n",
    "    202: \"Calderdale\",\n",
    "    203: \"Kirklees\",\n",
    "    204: \"Leeds\",\n",
    "    206: \"Wakefield\",\n",
    "    210: \"Barnsley\",\n",
    "    211: \"Doncaster\",\n",
    "    213: \"Rotherham\",\n",
    "    215: \"Sheffield\",\n",
    "    228: \"Kingston upon Hull, City of\",\n",
    "    231: \"East Riding of Yorkshire\",\n",
    "    232: \"North Lincolnshire\",\n",
    "    233: \"North East Lincolnshire\",\n",
    "    240: \"Hartlepool\",\n",
    "    241: \"Redcar and Cleveland\",\n",
    "    243: \"Middlesbrough\",\n",
    "    245: \"Stockton-on-Tees\",\n",
    "    250: \"Cannock Chase\",\n",
    "    251: \"East Staffordshire\",\n",
    "    252: \"Lichfield\",\n",
    "    253: \"Newcastle-under-Lyme\",\n",
    "    254: \"South Staffordshire\",\n",
    "    255: \"Stafford\",\n",
    "    256: \"Staffordshire Moorlands\",\n",
    "    257: \"Stoke-on-Trent\",\n",
    "    258: \"Tamworth\",\n",
    "    270: \"Bromsgrove\",\n",
    "    273: \"Malvern Hills\",\n",
    "    274: \"Redditch\",\n",
    "    276: \"Worcester\",\n",
    "    277: \"Wychavon\",\n",
    "    278: \"Wyre Forest\",\n",
    "    279: \"Bridgnorth\",\n",
    "    280: \"North Shropshire\",\n",
    "    281: \"Oswestry\",\n",
    "    282: \"Shrewsbury and Atcham\",\n",
    "    283: \"South Shropshire\",\n",
    "    284: \"Telford and Wrekin\",\n",
    "    285: \"Herefordshire, County of\",\n",
    "    286: \"Shropshire\",\n",
    "    290: \"North Warwick\", \n",
    "    291: \"Nuneaton and Bedworth\",\n",
    "    292: \"Rugby\",\n",
    "    293: \"Stratford-upon-Avon\",\n",
    "    294: \"Warwick\",\n",
    "    300: \"Birmingham\",\n",
    "    302: \"Coventry\",\n",
    "    303: \"Dudley\",\n",
    "    305: \"Sandwell\",\n",
    "    306: \"Solihull\",\n",
    "    307: \"Walsall\",\n",
    "    309: \"Wolverhampton\",\n",
    "    320: \"Amber Valley\",\n",
    "    321: \"Bolsover\",\n",
    "    322: \"Chesterfield\",\n",
    "    323: \"Derby\",\n",
    "    324: \"Erewash\",\n",
    "    325: \"High Peak\",\n",
    "    327: \"North East Derbyshire\",\n",
    "    328: \"South Derbyshire\",\n",
    "    329: \"Derbyshire Dales\",\n",
    "    340: \"Ashfield\",\n",
    "    341: \"Bassetlaw\",\n",
    "    342: \"Broxtowe\",\n",
    "    343: \"Gedling\",\n",
    "    344: \"Mansfield\",\n",
    "    345: \"Newark and Sherwood\",\n",
    "    346: \"Nottingham\",\n",
    "    347: \"Rushcliffe\",\n",
    "    350: \"Boston\",\n",
    "    351: \"East Lindsey\",\n",
    "    352: \"Lincoln\",\n",
    "    353: \"North Kesteven\",\n",
    "    354: \"South Holland\",\n",
    "    355: \"South Kesteven\",\n",
    "    356: \"West Lindsey\",\n",
    "    360: \"Blaby\",\n",
    "    361: \"Hinckley and Bosworth\",\n",
    "    362: \"Charnwood\",\n",
    "    363: \"Harborough\",\n",
    "    364: \"Leicester\",\n",
    "    365: \"Melton\",\n",
    "    366: \"North West Leicestershire\",\n",
    "    367: \"Oadby and Wigston\",\n",
    "    368: \"Rutland\",\n",
    "    380: \"Corby\",\n",
    "    381: \"Daventry\",\n",
    "    382: \"East Northamptonshire\",\n",
    "    383: \"Kettering\",\n",
    "    384: \"Northampton\",\n",
    "    385: \"South Northamptonshire\",\n",
    "    386: \"Wellingborough\",\n",
    "    390: \"Cambridge\",\n",
    "    391: \"East Cambridgeshire\",\n",
    "    392: \"Fenland\",\n",
    "    393: \"Huntingdonshire\",\n",
    "    394: \"Peterborough\",\n",
    "    395: \"South Cambridgeshire\",\n",
    "    400: \"Breckland\",\n",
    "    401: \"Broadland\",\n",
    "    402: \"Great Yarmouth\",\n",
    "    404: \"Norwich\",\n",
    "    405: \"North Norfolk\",\n",
    "    406: \"South Norfolk\",\n",
    "    407: \"King's Lynn and West Norfolk\",\n",
    "    410: \"Babergh\",\n",
    "    411: \"Forest Heath\",\n",
    "    412: \"Ipswich\",\n",
    "    413: \"Mid Suffolk\",\n",
    "    414: \"St. Edmundsbury\",\n",
    "    415: \"Suffolk Coastal\",\n",
    "    416: \"Waveney\",\n",
    "    420: \"Bedford\",\n",
    "    421: \"Luton\",\n",
    "    422: \"Mid Bedfordshire\",\n",
    "    423: \"South Bedfordshire\",\n",
    "    424: \"Central Bedfordshire\",\n",
    "    430: \"Broxbourne\",\n",
    "    431: \"Dacorum\",\n",
    "    432: \"East Hertfordshire\",\n",
    "    433: \"North Hertfordshire\",\n",
    "    434: \"St. Albans\",\n",
    "    435: \"Stevenage\",\n",
    "    436: \"Three Rivers\",\n",
    "    437: \"Watford\",\n",
    "    438: \"Welwyn Hatfield\",\n",
    "    450: \"Basildon\",\n",
    "    451: \"Braintree\",\n",
    "    452: \"Brentwood\",\n",
    "    453: \"Castle Point\",\n",
    "    454: \"Chelmsford\",\n",
    "    455: \"Colchester\",\n",
    "    456: \"Epping Forest\",\n",
    "    457: \"Harlow\",\n",
    "    458: \"Maldon\",\n",
    "    459: \"Rochford\",\n",
    "    460: \"Southend-on-Sea\",\n",
    "    461: \"Tendring\",\n",
    "    462: \"Thurrock\",\n",
    "    463: \"Uttlesford\",\n",
    "    470: \"Bracknell Forest\",\n",
    "    471: \"West Berkshire\",\n",
    "    472: \"Reading\",\n",
    "    473: \"Slough\",\n",
    "    474: \"Windsor and Maidenhead\",\n",
    "    475: \"Wokingham\",\n",
    "    476: \"Aylesbury Vale\",\n",
    "    477: \"South Bucks\",\n",
    "    478: \"Chiltern\",\n",
    "    479: \"Milton Keynes\",\n",
    "    480: \"Wycombe\",\n",
    "    481: \"Cherwell\",\n",
    "    482: \"Oxford\",\n",
    "    483: \"Vale of White Horse\",\n",
    "    484: \"South Oxfordshire\",\n",
    "    485: \"West Oxfordshire\",\n",
    "    490: \"Basingstoke and Deane\",\n",
    "    491: \"Eastleigh\",\n",
    "    492: \"Fareham\",\n",
    "    493: \"Gosport\",\n",
    "    494: \"Hart\",\n",
    "    495: \"Havant\",\n",
    "    496: \"New Forest\",\n",
    "    497: \"East Hampshire\",\n",
    "    498: \"Portsmouth\",\n",
    "    499: \"Rushmoor\",\n",
    "    500: \"Southampton\",\n",
    "    501: \"Test Valley\",\n",
    "    502: \"Winchester\",\n",
    "    505: \"Isle of Wight\",\n",
    "    510: \"Elmbridge\",\n",
    "    511: \"Guildford\",\n",
    "    512: \"Mole Valley\",\n",
    "    513: \"Reigate and Banstead\",\n",
    "    514: \"Runnymede\",\n",
    "    515: \"Surrey Heath\",\n",
    "    516: \"Tandridge\",\n",
    "    517: \"Waverley\",\n",
    "    518: \"Woking\",\n",
    "    530: \"Ashford\",\n",
    "    531: \"Canterbury\",\n",
    "    532: \"Dartford\",\n",
    "    533: \"Dover\",\n",
    "    535: \"Gravesham\",\n",
    "    536: \"Maidstone\",\n",
    "    538: \"Sevenoaks\",\n",
    "    539: \"Shepway\",\n",
    "    540: \"Swale\",\n",
    "    541: \"Thanet\",\n",
    "    542: \"Tonbridge and Malling\",\n",
    "    543: \"Tunbridge Wells\",\n",
    "    544: \"Medway\",\n",
    "    551: \"Eastbourne\",\n",
    "    552: \"Hastings\",\n",
    "    554: \"Lewes\",\n",
    "    555: \"Rother\",\n",
    "    556: \"Wealden\",\n",
    "    557: \"Adur\",\n",
    "    558: \"Arun\",\n",
    "    559: \"Chichester\",\n",
    "    560: \"Crawley\",\n",
    "    562: \"Horsham\",\n",
    "    563: \"Mid Sussex\",\n",
    "    564: \"Worthing\",\n",
    "    565: \"Brighton and Hove\",\n",
    "    570: \"City of London\",\n",
    "    580: \"East Devon\",\n",
    "    581: \"Exeter\",\n",
    "    582: \"North Devon\",\n",
    "    583: \"Plymouth\",\n",
    "    584: \"South Hams\",\n",
    "    585: \"Teignbridge\",\n",
    "    586: \"Mid Devon\",\n",
    "    587: \"Torbay\",\n",
    "    588: \"Torridge\",\n",
    "    589: \"West Devon\",\n",
    "    590: \"Caradon\",\n",
    "    591: \"Carrick\",\n",
    "    592: \"Kerrier\",\n",
    "    593: \"North Cornwall\",\n",
    "    594: \"Penwith\",\n",
    "    595: \"Restormel\",\n",
    "    596: \"Cornwall\",\n",
    "    601: \"Bristol, City of\",\n",
    "    605: \"North Somerset\",\n",
    "    606: \"Mendip\",\n",
    "    607: \"Sedgemoor\",\n",
    "    608: \"Taunton Deane\",\n",
    "    609: \"West Somerset\",\n",
    "    610: \"South Somerset\",\n",
    "    611: \"Bath and North East Somerset\",\n",
    "    612: \"South Gloucestershire\",\n",
    "    620: \"Cheltenham\",\n",
    "    621: \"Cotswold\",\n",
    "    622: \"Forest of Dean\",\n",
    "    623: \"Gloucester\",\n",
    "    624: \"Stroud\",\n",
    "    625: \"Tewkesbury\",\n",
    "    630: \"Kennet\",\n",
    "    631: \"North Wiltshire\",\n",
    "    632: \"Salisbury\",\n",
    "    633: \"Swindon\",\n",
    "    634: \"West Wiltshire\",\n",
    "    635: \"Wiltshire\",\n",
    "    640: \"Bournemouth\",\n",
    "    641: \"Christchurch\",\n",
    "    642: \"North Dorset\",\n",
    "    643: \"Poole\",\n",
    "    644: \"Purbeck\",\n",
    "    645: \"West Dorset\",\n",
    "    646: \"Weymouth and Portland\",\n",
    "    647: \"East Dorset\",\n",
    "    720: \"Isle of Anglesey\",\n",
    "    721: \"Conwy\",\n",
    "    722: \"Gwynedd\",\n",
    "    723: \"Denbighshire\",\n",
    "    724: \"Flintshire\",\n",
    "    725: \"Wrexham\",\n",
    "    730: \"Blaenau Gwent\",\n",
    "    731: \"Caerphilly\",\n",
    "    732: \"Monmouthshire\",\n",
    "    733: \"Newport\",\n",
    "    734: \"Torfaen\",\n",
    "    740: \"Bridgend\",\n",
    "    741: \"Cardiff\",\n",
    "    742: \"Merthyr Tydfil\",\n",
    "    743: \"Neath Port Talbot\",\n",
    "    744: \"Rhondda, Cynon, Taff\",\n",
    "    745: \"Swansea\",\n",
    "    746: \"The Vale of Glamorgan\",\n",
    "    750: \"Ceredigion\",\n",
    "    751: \"Carmarthenshire\",\n",
    "    752: \"Pembrokeshire\",\n",
    "    753: \"Powys\",\n",
    "    910: \"Aberdeen City\",\n",
    "    911: \"Aberdeenshire\",\n",
    "    912: \"Angus\",\n",
    "    913: \"Argyll and Bute\",\n",
    "    914: \"Scottish Borders\",\n",
    "    915: \"Clackmannanshire\",\n",
    "    916: \"West Dunbartonshire\",\n",
    "    917: \"Dumfries and Galloway\",\n",
    "    918: \"Dundee City\",\n",
    "    919: \"East Ayrshire\",\n",
    "    920: \"East Dunbartonshire\",\n",
    "    921: \"East Lothian\",\n",
    "    922: \"East Renfrewshire\",\n",
    "    923: \"Edinburgh, City of\",\n",
    "    924: \"Falkirk\",\n",
    "    925: \"Fife\",\n",
    "    926: \"Glasgow City\",\n",
    "    927: \"Highland\",\n",
    "    928: \"Inverclyde\",\n",
    "    929: \"Midlothian\",\n",
    "    930: \"Moray\",\n",
    "    931: \"North Ayrshire\",\n",
    "    932: \"North Lanarkshire\",\n",
    "    933: \"Orkney Islands\",\n",
    "    934: \"Perth and Kinross\",\n",
    "    935: \"Renfrewshire\",\n",
    "    936: \"Shetland Islands\",\n",
    "    937: \"South Ayrshire\",\n",
    "    938: \"South Lanarkshire\",\n",
    "    939: \"Stirling\",\n",
    "    940: \"West Lothian\",\n",
    "    941: \"Western Isles\"\n",
    "})\n",
    "    \n"
   ]
  },
  {
   "cell_type": "code",
   "execution_count": 94,
   "id": "7556a482",
   "metadata": {
    "ExecuteTime": {
     "end_time": "2024-05-11T10:43:56.558017600Z",
     "start_time": "2024-05-11T10:43:54.634844700Z"
    }
   },
   "outputs": [],
   "source": [
    "df[\"local_authority_ons_district\"].replace({\n",
    "    \"E06000001\": \"Hartlepool\",\n",
    "    \"E06000002\": \"Middlesbrough\",\n",
    "    \"E06000003\": \"Redcar and Cleveland\",\n",
    "    \"E06000004\": \"Stockton-on-Tees\",\n",
    "    \"E06000005\": \"Darlington\",\n",
    "    \"E06000006\": \"Halton\",\n",
    "    \"E06000007\": \"Warrington\",\n",
    "    \"E06000008\": \"Blackburn with Darwen\",\n",
    "    \"E06000009\": \"Blackpool\",\n",
    "    \"E06000010\": \"Kingston upon Hull, City of\",\n",
    "    \"E06000011\": \"East Riding of Yorkshire\",\n",
    "    \"E06000012\": \"North East Lincolnshire\",\n",
    "    \"E06000013\": \"North Lincolnshire\",\n",
    "    \"E06000014\": \"York\",\n",
    "    \"E06000015\": \"Derby\",\n",
    "    \"E06000016\": \"Leicester\",\n",
    "    \"E06000017\": \"Rutland\",\n",
    "    \"E06000018\": \"Nottingham\",\n",
    "    \"E06000019\": \"Herefordshire, County of\",\n",
    "    \"E06000020\": \"Telford and Wrekin\",\n",
    "    \"E06000021\": \"Stoke-on-Trent\",\n",
    "    \"E06000001\": \"Hartlepool\",\n",
    "    \"E06000002\": \"Middlesbrough\",\n",
    "    \"E06000003\": \"Redcar and Cleveland\",\n",
    "    \"E06000004\": \"Stockton-on-Tees\",\n",
    "    \"E06000005\": \"Darlington\",\n",
    "    \"E06000006\": \"Halton\",\n",
    "    \"E06000007\": \"Warrington\",\n",
    "    \"E06000008\": \"Blackburn with Darwen\",\n",
    "    \"E06000009\": \"Blackpool\",\n",
    "    \"E06000010\": \"Kingston upon Hull, City of\",\n",
    "    \"E06000011\": \"East Riding of Yorkshire\",\n",
    "    \"E06000012\": \"North East Lincolnshire\",\n",
    "    \"E06000013\": \"North Lincolnshire\",\n",
    "    \"E06000014\": \"York\",\n",
    "    \"E06000015\": \"Derby\",\n",
    "    \"E06000016\": \"Leicester\",\n",
    "    \"E06000017\": \"Rutland\",\n",
    "    \"E06000018\": \"Nottingham\",\n",
    "    \"E06000019\": \"Herefordshire, County of\",\n",
    "    \"E06000020\": \"Telford and Wrekin\",\n",
    "    \"E06000021\": \"Stoke-on-Trent\",\n",
    "    \"E06000022\": \"Bath and North East Somerset\",\n",
    "    \"E06000023\": \"Bristol, City of\",\n",
    "    \"E06000024\": \"North Somerset\",\n",
    "    \"E06000025\": \"South Gloucestershire\",\n",
    "    \"E06000026\": \"Plymouth\",\n",
    "    \"E06000027\": \"Torbay\",\n",
    "    \"E06000028\": \"Bournemouth\",\n",
    "    \"E06000029\": \"Poole\",\n",
    "    \"E06000030\": \"Swindon\",\n",
    "    \"E06000031\": \"Peterborough\",\n",
    "    \"E06000032\": \"Luton\",\n",
    "    \"E06000033\": \"Southend-on-Sea\",\n",
    "    \"E06000034\": \"Thurrock\",\n",
    "    \"E06000035\": \"Medway\",\n",
    "    \"E06000036\": \"Bracknell Forest\",\n",
    "    \"E06000037\": \"West Berkshire\",\n",
    "    \"E06000038\": \"Reading\",\n",
    "    \"E06000039\": \"Slough\",\n",
    "    \"E06000040\": \"Windsor and Maidenhead\",\n",
    "    \"E06000041\": \"Wokingham\",\n",
    "    \"E06000042\": \"Milton Keynes\",\n",
    "    \"E06000043\": \"Brighton and Hove\",\n",
    "    \"E06000044\": \"Portsmouth\",\n",
    "    \"E06000045\": \"Southampton\",\n",
    "    \"E06000046\": \"Isle of Wight\",\n",
    "    \"E06000047\": \"County Durham\",\n",
    "    \"E06000048\": \"Northumberland\",\n",
    "    \"E06000049\": \"Cheshire East\",\n",
    "    \"E06000050\": \"Cheshire West and Chester\",\n",
    "    \"E06000051\": \"Shropshire\",\n",
    "    \"E06000052\": \"Cornwall\",\n",
    "    \"E06000053\": \"Isles of Scilly\",\n",
    "    \"E06000054\": \"Wiltshire\",\n",
    "    \"E06000055\": \"Bedford\",\n",
    "    \"E06000056\": \"Central Bedfordshire\",\n",
    "    \"E07000004\": \"Aylesbury Vale\",\n",
    "    \"E07000005\": \"Chiltern\",\n",
    "    \"E07000006\": \"South Bucks\",\n",
    "    \"E07000007\": \"Wycombe\",\n",
    "    \"E07000008\": \"Cambridge\",\n",
    "    \"E07000009\": \"East Cambridgeshire\",\n",
    "    \"E07000010\": \"Fenland\",\n",
    "    \"E07000011\": \"Huntingdonshire\",\n",
    "    \"E07000012\": \"South Cambridgeshire\",\n",
    "    \"E07000026\": \"Allerdale\",\n",
    "    \"E07000027\": \"Barrow-in-Furness\",\n",
    "    \"E07000028\": \"Carlisle\",\n",
    "    \"E07000029\": \"Copeland\",\n",
    "    \"E07000030\": \"Eden\",\n",
    "    \"E07000031\": \"South Lakeland\",\n",
    "    \"E07000032\": \"Amber Valley\",\n",
    "    \"E07000033\": \"Bolsover\",\n",
    "    \"E07000034\": \"Chesterfield\",\n",
    "    \"E07000035\": \"Derbyshire Dales\",\n",
    "    \"E07000036\": \"Erewash\",\n",
    "    \"E07000037\": \"High Peak\",\n",
    "    \"E07000038\": \"North East Derbyshire\",\n",
    "    \"E07000039\": \"South Derbyshire\",\n",
    "    \"E07000040\": \"East Devon\",\n",
    "    \"E07000041\": \"Exeter\",\n",
    "    \"E07000042\": \"Mid Devon\",\n",
    "    \"E07000043\": \"North Devon\",\n",
    "    \"E07000044\": \"South Hams\",\n",
    "    \"E07000045\": \"Teignbridge\",\n",
    "    \"E07000046\": \"Torridge\",\n",
    "    \"E07000047\": \"West Devon\",\n",
    "    \"E07000048\": \"Christchurch\",\n",
    "    \"E07000049\": \"East Dorset\",\n",
    "    \"E07000050\": \"North Dorset\",\n",
    "    \"E07000051\": \"Purbeck\",\n",
    "    \"E07000052\": \"West Dorset\",\n",
    "    \"E07000053\": \"Weymouth and Portland\",\n",
    "    \"E07000061\": \"Eastbourne\",\n",
    "    \"E07000062\": \"Hastings\",\n",
    "    \"E07000063\": \"Lewes\",\n",
    "    \"E07000064\": \"Rother\",\n",
    "    \"E07000065\": \"Wealden\",\n",
    "    \"E07000066\": \"Basildon\",\n",
    "    \"E07000067\": \"Braintree\",\n",
    "    \"E07000068\": \"Brentwood\",\n",
    "    \"E07000069\": \"Castle Point\",\n",
    "    \"E07000070\": \"Chelmsford\",\n",
    "    \"E07000071\": \"Colchester\",\n",
    "    \"E07000072\": \"Epping Forest\",\n",
    "    \"E07000073\": \"Harlow\",\n",
    "    \"E07000074\": \"Maldon\",\n",
    "    \"E07000075\": \"Rochford\",\n",
    "    \"E07000076\": \"Tendring\",\n",
    "    \"E07000077\": \"Uttlesford\",\n",
    "    \"E07000078\": \"Cheltenham\",\n",
    "    \"E07000079\": \"Cotswold\",\n",
    "    \"E07000080\": \"Forest of Dean\",\n",
    "    \"E07000081\": \"Gloucester\",\n",
    "    \"E07000082\": \"Stroud\",\n",
    "    \"E07000083\": \"Tewkesbury\",\n",
    "    \"E07000084\": \"Basingstoke and Deane\",\n",
    "    \"E07000085\": \"East Hampshire\",\n",
    "    \"E07000086\": \"Eastleigh\",\n",
    "    \"E07000087\": \"Fareham\",\n",
    "    \"E07000088\": \"Gosport\",\n",
    "    \"E07000089\": \"Hart\",\n",
    "    \"E07000090\": \"Havant\",\n",
    "    \"E07000091\": \"New Forest\",\n",
    "    \"E07000092\": \"Rushmoor\",\n",
    "    \"E07000093\": \"Test Valley\",\n",
    "    \"E07000094\": \"Winchester\",\n",
    "    \"E07000095\": \"Broxbourne\",\n",
    "    \"E07000096\": \"Dacorum\",\n",
    "    \"E07000097\": \"East Hertfordshire\",\n",
    "    \"E07000098\": \"Hertsmere\",\n",
    "    \"E07000099\": \"North Hertfordshire\",\n",
    "    \"E07000100\": \"St Albans\",\n",
    "    \"E07000101\": \"Stevenage\",\n",
    "    \"E07000102\": \"Three Rivers\",\n",
    "    \"E07000103\": \"Watford\",\n",
    "    \"E07000104\": \"Welwyn Hatfield\",\n",
    "    \"E07000105\": \"Ashford\",\n",
    "    \"E07000106\": \"Canterbury\",\n",
    "    \"E07000107\": \"Dartford\",\n",
    "    \"E07000108\": \"Dover\",\n",
    "    \"E07000109\": \"Gravesham\",\n",
    "    \"E07000110\": \"Maidstone\",\n",
    "    \"E07000111\": \"Sevenoaks\",\n",
    "    \"E07000112\": \"Shepway\",\n",
    "    \"E07000113\": \"Swale\",\n",
    "    \"E07000114\": \"Thanet\",\n",
    "    \"E07000115\": \"Tonbridge and Malling\",\n",
    "    \"E07000116\": \"Tunbridge Wells\",\n",
    "    \"E07000117\": \"Burnley\",\n",
    "    \"E07000118\": \"Chorley\",\n",
    "    \"E07000119\": \"Fylde\",\n",
    "    \"E07000120\": \"Hyndburn\",\n",
    "    \"E07000121\": \"Lancaster\",\n",
    "    \"E07000122\": \"Pendle\",\n",
    "    \"E07000123\": \"Preston\",\n",
    "    \"E07000124\": \"Ribble Valley\",\n",
    "    \"E07000125\": \"Rossendale\",\n",
    "    \"E07000126\": \"South Ribble\",\n",
    "    \"E07000127\": \"West Lancashire\",\n",
    "    \"E07000128\": \"Wyre\",\n",
    "    \"E07000129\": \"Blaby\",\n",
    "    \"E07000130\": \"Charnwood\",\n",
    "    \"E07000131\": \"Harborough\",\n",
    "    \"E07000132\": \"Hinckley and Bosworth\",\n",
    "    \"E07000133\": \"Melton\",\n",
    "    \"E07000134\": \"North West Leicestershire\",\n",
    "    \"E07000135\": \"Oadby and Wigston\",\n",
    "    \"E07000136\": \"Boston\",\n",
    "    \"E07000137\": \"East Lindsey\",\n",
    "    \"E07000138\": \"Lincoln\",\n",
    "    \"E07000139\": \"North Kesteven\",\n",
    "    \"E07000140\": \"South Holland\",\n",
    "    \"E07000141\": \"South Kesteven\",\n",
    "    \"E07000142\": \"West Lindsey\",\n",
    "    \"E07000143\": \"Breckland\",\n",
    "    \"E07000144\": \"Broadland\",\n",
    "    \"E07000145\": \"Great Yarmouth\",\n",
    "    \"E07000146\": \"King's Lynn and West Norfolk\",\n",
    "    \"E07000147\": \"North Norfolk\",\n",
    "    \"E07000148\": \"Norwich\",\n",
    "    \"E07000149\": \"South Norfolk\",\n",
    "    \"E07000150\": \"Corby\",\n",
    "    \"E07000151\": \"Daventry\",\n",
    "    \"E07000152\": \"East Northamptonshire\",\n",
    "    \"E07000153\": \"Kettering\",\n",
    "    \"E07000154\": \"Northampton\",\n",
    "    \"E07000155\": \"South Northamptonshire\",\n",
    "    \"E07000156\": \"Wellingborough\",\n",
    "    \"E07000163\": \"Craven\",\n",
    "    \"E07000164\": \"Hambleton\",\n",
    "    \"E07000165\": \"Harrogate\",\n",
    "    \"E07000166\": \"Richmondshire\",\n",
    "    \"E07000167\": \"Ryedale\",\n",
    "    \"E07000168\": \"Scarborough\",\n",
    "     \"E07000169\": \"Selby\",\n",
    "    \"E07000170\": \"Ashfield\",\n",
    "    \"E07000171\": \"Bassetlaw\",\n",
    "    \"E07000172\": \"Broxtowe\",\n",
    "    \"E07000173\": \"Gedling\",\n",
    "    \"E07000174\": \"Mansfield\",\n",
    "    \"E07000175\": \"Newark and Sherwood\",\n",
    "    \"E07000176\": \"Rushcliffe\",\n",
    "    \"E07000177\": \"Cherwell\",\n",
    "    \"E07000178\": \"Oxford\",\n",
    "    \"E07000179\": \"South Oxfordshire\",\n",
    "    \"E07000180\": \"Vale of White Horse\",\n",
    "    \"E07000181\": \"West Oxfordshire\",\n",
    "    \"E07000187\": \"Mendip\",\n",
    "    \"E07000188\": \"Sedgemoor\",\n",
    "    \"E07000189\": \"South Somerset\",\n",
    "    \"E07000190\": \"Taunton Deane\",\n",
    "    \"E07000191\": \"West Somerset\",\n",
    "    \"E07000192\": \"Cannock Chase\",\n",
    "    \"E07000193\": \"East Staffordshire\",\n",
    "    \"E07000194\": \"Lichfield\",\n",
    "    \"E07000195\": \"Newcastle-under-Lyme\",\n",
    "    \"E07000196\": \"South Staffordshire\",\n",
    "    \"E07000197\": \"Stafford\",\n",
    "    \"E07000198\": \"Staffordshire Moorlands\",\n",
    "    \"E07000199\": \"Tamworth\",\n",
    "    \"E07000200\": \"Babergh\",\n",
    "    \"E07000201\": \"Forest Heath\",\n",
    "    \"E07000202\": \"Ipswich\",\n",
    "    \"E07000203\": \"Mid Suffolk\",\n",
    "    \"E07000204\": \"St Edmundsbury\",\n",
    "    \"E07000205\": \"Suffolk Coastal\",\n",
    "    \"E07000206\": \"Waveney\",\n",
    "    \"E07000207\": \"Elmbridge\",\n",
    "    \"E07000208\": \"Epsom and Ewell\",\n",
    "    \"E07000209\": \"Guildford\",\n",
    "    \"E07000210\": \"Mole Valley\",\n",
    "    \"E07000211\": \"Reigate and Banstead\",\n",
    "    \"E07000212\": \"Runnymede\",\n",
    "    \"E07000213\": \"Spelthorne\",\n",
    "    \"E07000214\": \"Surrey Heath\",\n",
    "    \"E07000215\": \"Tandridge\",\n",
    "    \"E07000216\": \"Waverley\",\n",
    "    \"E07000217\": \"Woking\",\n",
    "    \"E07000218\": \"North Warwickshire\",\n",
    "    \"E07000219\": \"Nuneaton and Bedworth\",\n",
    "    \"E07000220\": \"Rugby\",\n",
    "    \"E07000221\": \"Stratford-on-Avon\",\n",
    "    \"E07000222\": \"Warwick\",\n",
    "    \"E07000223\": \"Adur\",\n",
    "    \"E07000224\": \"Arun\",\n",
    "    \"E07000225\": \"Chichester\",\n",
    "    \"E07000226\": \"Crawley\",\n",
    "    \"E07000227\": \"Horsham\",\n",
    "    \"E07000228\": \"Mid Sussex\",\n",
    "    \"E07000229\": \"Worthing\",\n",
    "    \"E07000234\": \"Bromsgrove\",\n",
    "    \"E07000235\": \"Malvern Hills\",\n",
    "    \"E07000236\": \"Redditch\",\n",
    "    \"E07000237\": \"Worcester\",\n",
    "    \"E07000238\": \"Wychavon\",\n",
    "    \"E07000239\": \"Wyre Forest\",\n",
    "    \"E07000240\": \"St Albans\",\n",
    "    \"E07000241\": \"Welwyn Hatfield\",\n",
    "    \"E07000242\": \"East Hertfordshire\",\n",
    "    \"E07000243\": \"Stevenage\",\n",
    "    \"E07000244\": \"East Suffolk\",\n",
    "    \"E07000245\": \"West Suffolk\",\n",
    "    \"E08000001\": \"Bolton\",\n",
    "    \"E08000002\": \"Bury\",\n",
    "    \"E08000003\": \"Manchester\",\n",
    "    \"E08000004\": \"Oldham\",\n",
    "    \"E08000005\": \"Rochdale\",\n",
    "    \"E08000006\": \"Salford\",\n",
    "    \"E08000007\": \"Stockport\",\n",
    "    \"E08000008\": \"Tameside\",\n",
    "    \"E08000009\": \"Trafford\",\n",
    "    \"E08000010\": \"Wigan\",\n",
    "    \"E08000011\": \"Knowsley\",\n",
    "    \"E08000012\": \"Liverpool\",\n",
    "    \"E08000013\": \"St. Helens\",\n",
    "    \"E08000014\": \"Sefton\",\n",
    "    \"E08000015\": \"Wirral\",\n",
    "    \"E08000016\": \"Barnsley\",\n",
    "    \"E08000017\": \"Doncaster\",\n",
    "    \"E08000018\": \"Rotherham\",\n",
    "    \"E08000019\": \"Sheffield\",\n",
    "    \"E08000020\": \"Gateshead\",\n",
    "    \"E08000021\": \"Newcastle upon Tyne\",\n",
    "    \"E08000022\": \"North Tyneside\",\n",
    "    \"E08000023\": \"South Tyneside\",\n",
    "    \"E08000024\": \"Sunderland\",\n",
    "    \"E08000025\": \"Birmingham\",\n",
    "    \"E08000026\": \"Coventry\",\n",
    "    \"E08000027\": \"Dudley\",\n",
    "    \"E08000028\": \"Sandwell\",\n",
    "    \"E08000029\": \"Solihull\",\n",
    "    \"E08000030\": \"Walsall\",\n",
    "    \"E08000031\": \"Wolverhampton\",\n",
    "    \"E08000032\": \"Bradford\",\n",
    "    \"E08000033\": \"Calderdale\",\n",
    "    \"E08000034\": \"Kirklees\",\n",
    "    \"E08000035\": \"Leeds\",\n",
    "    \"E08000036\": \"Wakefield\",\n",
    "    \"E09000001\": \"City of London\",\n",
    "    \"E09000002\": \"Barking and Dagenham\",\n",
    "    \"E09000003\": \"Barnet\",\n",
    "    \"E09000004\": \"Bexley\",\n",
    "    \"E09000005\": \"Brent\",\n",
    "    \"E09000006\": \"Bromley\",\n",
    "    \"E09000007\": \"Camden\",\n",
    "    \"E09000008\": \"Croydon\",\n",
    "    \"E09000009\": \"Ealing\",\n",
    "    \"E09000010\": \"Enfield\",\n",
    "    \"E09000011\": \"Greenwich\",\n",
    "    \"E09000012\": \"Hackney\",\n",
    "    \"E09000013\": \"Hammersmith and Fulham\",\n",
    "    \"E09000014\": \"Haringey\",\n",
    "    \"E09000015\": \"Harrow\",\n",
    "    \"E09000016\": \"Havering\",\n",
    "    \"E09000017\": \"Hillingdon\",\n",
    "    \"E09000018\": \"Hounslow\",\n",
    "    \"E09000019\": \"Islington\",\n",
    "    \"E09000020\": \"Kensington and Chelsea\",\n",
    "      \"E09000021\": \"Kingston upon Thames\",\n",
    "    \"E09000022\": \"Lambeth\",\n",
    "    \"E09000023\": \"Lewisham\",\n",
    "    \"E09000024\": \"Merton\",\n",
    "    \"E09000025\": \"Newham\",\n",
    "    \"E09000026\": \"Redbridge\",\n",
    "    \"E09000027\": \"Richmond upon Thames\",\n",
    "    \"E09000028\": \"Southwark\",\n",
    "    \"E09000029\": \"Sutton\",\n",
    "    \"E09000030\": \"Tower Hamlets\",\n",
    "    \"E09000031\": \"Waltham Forest\",\n",
    "    \"E09000032\": \"Wandsworth\",\n",
    "    \"E09000033\": \"Westminster\",\n",
    "    \"EHEATHROW\": \"London Airport (Heathrow)\",\n",
    "    \"S12000005\": \"Clackmannanshire\",\n",
    "    \"S12000006\": \"Dumfries and Galloway\",\n",
    "    \"S12000008\": \"East Ayrshire\",\n",
    "    \"S12000009\": \"East Dunbartonshire\",\n",
    "    \"S12000010\": \"East Lothian\",\n",
    "    \"S12000011\": \"East Renfrewshire\",\n",
    "    \"S12000013\": \"Comhairle nan Eilean Siar\",\n",
    "    \"S12000014\": \"Falkirk\",\n",
    "    \"S12000015\": \"Fife\",\n",
    "    \"S12000017\": \"Highland\",\n",
    "    \"S12000018\": \"Inverclyde\",\n",
    "    \"S12000019\": \"Midlothian\",\n",
    "    \"S12000020\": \"Moray\",\n",
    "    \"S12000021\": \"North Ayrshire\",\n",
    "    \"S12000023\": \"Orkney Islands\",\n",
    "    \"S12000024\": \"Perth and Kinross\",\n",
    "    \"S12000026\": \"Scottish Borders\",\n",
    "    \"S12000027\": \"Shetland Islands\",\n",
    "    \"S12000028\": \"South Ayrshire\",\n",
    "    \"S12000029\": \"South Lanarkshire\",\n",
    "    \"S12000030\": \"Stirling\",\n",
    "    \"S12000033\": \"Aberdeen City\",\n",
    "    \"S12000034\": \"Aberdeenshire\",\n",
    "    \"S12000035\": \"Argyll and Bute\",\n",
    "    \"S12000036\": \"City of Edinburgh\",\n",
    "    \"S12000038\": \"Renfrewshire\",\n",
    "    \"S12000039\": \"West Dunbartonshire\",\n",
    "    \"S12000040\": \"West Lothian\",\n",
    "    \"S12000041\": \"Angus\",\n",
    "    \"S12000042\": \"Dundee City\",\n",
    "    \"S12000043\": \"Glasgow City\",\n",
    "    \"S12000044\": \"North Lanarkshire\",\n",
    "    \"S12000045\": \"East Dunbartonshire\",\n",
    "    \"S12000046\": \"Glasgow City\",\n",
    "    \"W06000001\": \"Isle of Anglesey\",\n",
    "    \"W06000002\": \"Gwynedd\",\n",
    "    \"W06000003\": \"Conwy\",\n",
    "    \"W06000004\": \"Denbighshire\",\n",
    "    \"W06000005\": \"Flintshire\",\n",
    "    \"W06000006\": \"Wrexham\",\n",
    "    \"W06000008\": \"Ceredigion\",\n",
    "    \"W06000009\": \"Pembrokeshire\",\n",
    "    \"W06000010\": \"Carmarthenshire\",\n",
    "    \"W06000011\": \"Swansea\",\n",
    "    \"W06000012\": \"Neath Port Talbot\",\n",
    "    \"W06000013\": \"Bridgend\",\n",
    "    \"W06000014\": \"Vale of Glamorgan\",\n",
    "    \"W06000015\": \"Cardiff\",\n",
    "    \"W06000016\": \"Rhondda Cynon Taf\",\n",
    "    \"W06000018\": \"Caerphilly\",\n",
    "    \"W06000019\": \"Blaenau Gwent\",\n",
    "    \"W06000020\": \"Torfaen\",\n",
    "    \"W06000021\": \"Monmouthshire\",\n",
    "    \"W06000022\": \"Newport\",\n",
    "    \"W06000023\": \"Powys\",\n",
    "    \"W06000024\": \"Merthyr Tydfil\"\n",
    "}, inplace=True)\n"
   ]
  },
  {
   "cell_type": "code",
   "execution_count": 95,
   "id": "a964994f",
   "metadata": {
    "ExecuteTime": {
     "end_time": "2024-05-11T10:43:57.365558Z",
     "start_time": "2024-05-11T10:43:56.324626400Z"
    }
   },
   "outputs": [],
   "source": [
    "df[\"local_authority_highway\"].replace({\n",
    "    \"E06000001\": \"Hartlepool\",\n",
    "    \"E06000002\": \"Middlesbrough\",\n",
    "    \"E06000003\": \"Redcar and Cleveland\",\n",
    "    \"E06000004\": \"Stockton-on-Tees\",\n",
    "    \"E06000005\": \"Darlington\",\n",
    "    \"E06000006\": \"Halton\",\n",
    "    \"E06000007\": \"Warrington\",\n",
    "    \"E06000008\": \"Blackburn with Darwen\",\n",
    "    \"E06000009\": \"Blackpool\",\n",
    "    \"E06000010\": \"Kingston upon Hull, City of\",\n",
    "    \"E06000011\": \"East Riding of Yorkshire\",\n",
    "    \"E06000012\": \"North East Lincolnshire\",\n",
    "    \"E06000013\": \"North Lincolnshire\",\n",
    "    \"E06000014\": \"York\",\n",
    "    \"E06000015\": \"Derby\",\n",
    "    \"E06000016\": \"Leicester\",\n",
    "    \"E06000017\": \"Rutland\",\n",
    "    \"E06000018\": \"Nottingham\",\n",
    "    \"E06000019\": \"Herefordshire, County of\",\n",
    "    \"E06000020\": \"Telford and Wrekin\",\n",
    "    \"E06000021\": \"Stoke-on-Trent\",\n",
    "    \"E06000022\": \"Bath and North East Somerset\",\n",
    "    \"E06000023\": \"Bristol, City of\",\n",
    "    \"E06000024\": \"North Somerset\",\n",
    "    \"E06000025\": \"South Gloucestershire\",\n",
    "    \"E06000026\": \"Plymouth\",\n",
    "    \"E06000027\": \"Torbay\",\n",
    "    \"E06000028\": \"Bournemouth\",\n",
    "    \"E06000029\": \"Poole\",\n",
    "    \"E06000030\": \"Swindon\",\n",
    "    \"E06000031\": \"Peterborough\",\n",
    "    \"E06000032\": \"Luton\",\n",
    "    \"E06000033\": \"Southend-on-Sea\",\n",
    "    \"E06000034\": \"Thurrock\",\n",
    "    \"E06000035\": \"Medway\",\n",
    "    \"E06000036\": \"Bracknell Forest\",\n",
    "    \"E06000037\": \"West Berkshire\",\n",
    "    \"E06000038\": \"Reading\",\n",
    "    \"E06000039\": \"Slough\",\n",
    "    \"E06000040\": \"Windsor and Maidenhead\",\n",
    "    \"E06000041\": \"Wokingham\",\n",
    "    \"E06000042\": \"Milton Keynes\",\n",
    "    \"E06000043\": \"Brighton and Hove\",\n",
    "    \"E06000044\": \"Portsmouth\",\n",
    "    \"E06000045\": \"Southampton\",\n",
    "    \"E06000046\": \"Isle of Wight\",\n",
    "    \"E06000047\": \"County Durham\",\n",
    "    \"E06000048\": \"Northumberland\",\n",
    "    \"E06000049\": \"Cheshire East\",\n",
    "    \"E06000050\": \"Cheshire West and Chester\",\n",
    "    \"E06000051\": \"Shropshire\",\n",
    "    \"E06000052\": \"Cornwall\",\n",
    "    \"E06000053\": \"Isles of Scilly\",\n",
    "    \"E06000054\": \"Wiltshire\",\n",
    "    \"E06000055\": \"Bedford\",\n",
    "    \"E06000056\": \"Central Bedfordshire\",\n",
    "    \"E08000001\": \"Bolton\",\n",
    "    \"E08000002\": \"Bury\",\n",
    "    \"E08000003\": \"Manchester\",\n",
    "    \"E08000004\": \"Oldham\",\n",
    "    \"E08000005\": \"Rochdale\",\n",
    "    \"E08000006\": \"Salford\",\n",
    "    \"E08000007\": \"Stockport\",\n",
    "    \"E08000008\": \"Tameside\",\n",
    "    \"E08000009\": \"Trafford\",\n",
    "    \"E08000010\": \"Wigan\",\n",
    "    \"E08000011\": \"Knowsley\",\n",
    "    \"E08000012\": \"Liverpool\",\n",
    "    \"E08000013\": \"St. Helens\",\n",
    "    \"E08000014\": \"Sefton\",\n",
    "    \"E08000015\": \"Wirral\",\n",
    "    \"E08000016\": \"Barnsley\",\n",
    "    \"E08000017\": \"Doncaster\",\n",
    "    \"E08000018\": \"Rotherham\",\n",
    "    \"E08000019\": \"Sheffield\",\n",
    "    \"E08000020\": \"Gateshead\",\n",
    "    \"E08000021\": \"Newcastle upon Tyne\",\n",
    "    \"E08000022\": \"North Tyneside\",\n",
    "    \"E08000023\": \"South Tyneside\",\n",
    "    \"E08000024\": \"Sunderland\",\n",
    "    \"E08000025\": \"Birmingham\",\n",
    "    \"E08000026\": \"Coventry\",\n",
    "    \"E08000027\": \"Dudley\",\n",
    "    \"E08000028\": \"Sandwell\",\n",
    "    \"E08000029\": \"Solihull\",\n",
    "    \"E08000030\": \"Walsall\",\n",
    "    \"E08000031\": \"Wolverhampton\",\n",
    "    \"E08000032\": \"Bradford\",\n",
    "    \"E08000033\": \"Calderdale\",\n",
    "    \"E08000034\": \"Kirklees\",\n",
    "    \"E08000035\": \"Leeds\",\n",
    "    \"E08000036\": \"Wakefield\",\n",
    "    \"E09000001\": \"City of London\",\n",
    "    \"E09000002\": \"Barking and Dagenham\",\n",
    "    \"E09000003\": \"Barnet\",\n",
    "    \"E09000004\": \"Bexley\",\n",
    "    \"E09000005\": \"Brent\",\n",
    "    \"E09000006\": \"Bromley\",\n",
    "    \"E09000007\": \"Camden\",\n",
    "     \"E09000008\": \"Croydon\",\n",
    "    \"E09000009\": \"Ealing\",\n",
    "    \"E09000010\": \"Enfield\",\n",
    "    \"E09000011\": \"Greenwich\",\n",
    "    \"E09000012\": \"Hackney\",\n",
    "    \"E09000013\": \"Hammersmith and Fulham\",\n",
    "    \"E09000014\": \"Haringey\",\n",
    "    \"E09000015\": \"Harrow\",\n",
    "    \"E09000016\": \"Havering\",\n",
    "    \"E09000017\": \"Hillingdon\",\n",
    "    \"E09000018\": \"Hounslow\",\n",
    "    \"E09000019\": \"Islington\",\n",
    "    \"E09000020\": \"Kensington and Chelsea\",\n",
    "    \"E09000021\": \"Kingston upon Thames\",\n",
    "    \"E09000022\": \"Lambeth\",\n",
    "    \"E09000023\": \"Lewisham\",\n",
    "    \"E09000024\": \"Merton\",\n",
    "    \"E09000025\": \"Newham\",\n",
    "    \"E09000026\": \"Redbridge\",\n",
    "    \"E09000027\": \"Richmond upon Thames\",\n",
    "    \"E09000028\": \"Southwark\",\n",
    "    \"E09000029\": \"Sutton\",\n",
    "    \"E09000030\": \"Tower Hamlets\",\n",
    "    \"E09000031\": \"Waltham Forest\",\n",
    "    \"E09000032\": \"Wandsworth\",\n",
    "    \"E09000033\": \"Westminster\",\n",
    "    \"E10000002\": \"Buckinghamshire\",\n",
    "    \"E10000003\": \"Cambridgeshire\",\n",
    "    \"E10000006\": \"Cumbria\",\n",
    "    \"E10000007\": \"Derbyshire\",\n",
    "    \"E10000008\": \"Devon\",\n",
    "    \"E10000009\": \"Dorset\",\n",
    "    \"E10000011\": \"East Sussex\",\n",
    "    \"E10000012\": \"Essex\",\n",
    "    \"E10000013\": \"Gloucestershire\",\n",
    "    \"E10000014\": \"Hampshire\",\n",
    "    \"E10000015\": \"Hertfordshire\",\n",
    "    \"E10000016\": \"Kent\",\n",
    "    \"E10000017\": \"Lancashire\",\n",
    "    \"E10000018\": \"Leicestershire\",\n",
    "    \"E10000019\": \"Lincolnshire\",\n",
    "    \"E10000020\": \"Norfolk\",\n",
    "    \"E10000021\": \"Northamptonshire\",\n",
    "    \"E10000023\": \"North Yorkshire\",\n",
    "    \"E10000024\": \"Nottinghamshire\",\n",
    "    \"E10000025\": \"Oxfordshire\",\n",
    "    \"E10000027\": \"Somerset\",\n",
    "    \"E10000028\": \"Staffordshire\",\n",
    "    \"E10000029\": \"Suffolk\",\n",
    "    \"E10000030\": \"Surrey\",\n",
    "    \"E10000031\": \"Warwickshire\",\n",
    "    \"E10000032\": \"West Sussex\",\n",
    "    \"E10000034\": \"Worcestershire\",\n",
    "    \"EHEATHROW\": \"London Airport (Heathrow)\",\n",
    "    \"S12000005\": \"Clackmannanshire\",\n",
    "    \"S12000006\": \"Dumfries & Galloway\",\n",
    "    \"S12000008\": \"East Ayrshire\",\n",
    "    \"S12000009\": \"East Dunbartonshire\",\n",
    "    \"S12000010\": \"East Lothian\",\n",
    "    \"S12000011\": \"East Renfrewshire\",\n",
    "    \"S12000013\": \"Na h-Eileanan an Iar (Western Isles)\",\n",
    "    \"S12000014\": \"Falkirk\",\n",
    "    \"S12000015\": \"Fife\",\n",
    "    \"S12000017\": \"Highland\",\n",
    "    \"S12000018\": \"Inverclyde\",\n",
    "    \"S12000019\": \"Midlothian\",\n",
    "    \"S12000020\": \"Moray\",\n",
    "    \"S12000021\": \"North Ayrshire\",\n",
    "    \"S12000023\": \"Orkney Islands\",\n",
    "    \"S12000024\": \"Perth and Kinross\",\n",
    "    \"S12000026\": \"Scottish Borders\",\n",
    "    \"S12000027\": \"Shetland Islands\",\n",
    "    \"S12000028\": \"South Ayrshire\",\n",
    "    \"S12000029\": \"South Lanarkshire\",\n",
    "    \"S12000030\": \"Stirling\",\n",
    "    \"S12000033\": \"Aberdeen City\",\n",
    "    \"S12000034\": \"Aberdeenshire\",\n",
    "    \"S12000035\": \"Argyll & Bute\",\n",
    "    \"S12000036\": \"Edinburgh, City of\",\n",
    "    \"S12000038\": \"Renfrewshire\",\n",
    "    \"S12000039\": \"West Dunbartonshire\",\n",
    "    \"S12000040\": \"West Lothian\",\n",
    "    \"S12000041\": \"Angus\",\n",
    "    \"S12000042\": \"Dundee City\",\n",
    "    \"S12000043\": \"Glasgow City\",\n",
    "    \"S12000044\": \"North Lanarkshire\",\n",
    "    \"W06000001\": \"Isle of Anglesey\",\n",
    "    \"W06000002\": \"Gwynedd\",\n",
    "    \"W06000003\": \"Conwy\",\n",
    "    \"W06000004\": \"Denbighshire\",\n",
    "    \"W06000005\": \"Flintshire\",\n",
    "    \"W06000006\": \"Wrexham\",\n",
    "    \"W06000008\": \"Ceredigion\",\n",
    "    \"W06000009\": \"Pembrokeshire\",\n",
    "    \"W06000010\": \"Carmarthenshire\",\n",
    "    \"W06000011\": \"Swansea\",\n",
    "    \"W06000012\": \"Neath Port Talbot\",\n",
    "    \"W06000013\": \"Bridgend\",\n",
    "    \"W06000014\": \"The Vale of Glamorgan\",\n",
    "    \"W06000015\": \"Cardiff\",\n",
    "    \"W06000016\": \"Rhondda, Cynon, Taff\",\n",
    "    \"W06000018\": \"Caerphilly\",\n",
    "    \"W06000019\": \"Blaenau Gwent\",\n",
    "    \"W06000020\": \"Torfaen\",\n",
    "    \"W06000021\": \"Monmouthshire\",\n",
    "    \"W06000022\": \"Newport\",\n",
    "    \"W06000023\": \"Powys\",\n",
    "    \"W06000024\": \"Merthyr Tydfil\"\n",
    "}, inplace=True)"
   ]
  },
  {
   "cell_type": "code",
   "execution_count": 96,
   "id": "99e2a204",
   "metadata": {
    "ExecuteTime": {
     "end_time": "2024-05-11T10:43:57.419303600Z",
     "start_time": "2024-05-11T10:43:57.366557Z"
    }
   },
   "outputs": [],
   "source": [
    "df[\"first_road_class\"].replace({\n",
    "    1: 'Motorway',\n",
    "    2: 'A(M)',\n",
    "    3: 'A',\n",
    "    4: 'B',\n",
    "    5: 'C',\n",
    "    6: 'Unclassified'\n",
    "}, inplace=True)\n"
   ]
  },
  {
   "cell_type": "code",
   "execution_count": 97,
   "id": "0fde5e1d",
   "metadata": {
    "ExecuteTime": {
     "end_time": "2024-05-11T10:43:57.449577500Z",
     "start_time": "2024-05-11T10:43:57.398728600Z"
    }
   },
   "outputs": [],
   "source": [
    "df[\"first_road_number\"].replace({\n",
    "    -1: 'Unknown',\n",
    "    0: 'first_road_class is C or Unclassified. These roads do not have official numbers so recorded as zero'\n",
    "}, inplace=True)\n"
   ]
  },
  {
   "cell_type": "code",
   "execution_count": 98,
   "id": "cdba63b4",
   "metadata": {
    "ExecuteTime": {
     "end_time": "2024-05-11T10:43:57.502729300Z",
     "start_time": "2024-05-11T10:43:57.429304900Z"
    }
   },
   "outputs": [],
   "source": [
    "df[\"road_type\"].replace({\n",
    "    1: 'Roundabout',\n",
    "    2: 'One way street',\n",
    "    3: 'Dual carriageway',\n",
    "    6: 'Single carriageway',\n",
    "    7: 'Slip road',\n",
    "    9: 'Unknown',\n",
    "    12: 'One way street/Slip road',\n",
    "    -1: 'Data missing or out of range'\n",
    "}, inplace=True)\n"
   ]
  },
  {
   "cell_type": "code",
   "execution_count": 99,
   "id": "469b8042",
   "metadata": {
    "ExecuteTime": {
     "end_time": "2024-05-11T10:43:57.505729600Z",
     "start_time": "2024-05-11T10:43:57.461576600Z"
    }
   },
   "outputs": [],
   "source": [
    "df[\"speed_limit\"].replace({\n",
    "    -1: 'Data missing or out of range',\n",
    "    99: 'unknown (self reported)'\n",
    "}, inplace=True)\n"
   ]
  },
  {
   "cell_type": "code",
   "execution_count": 100,
   "id": "1eb5ec61",
   "metadata": {
    "ExecuteTime": {
     "end_time": "2024-05-11T10:43:57.550930300Z",
     "start_time": "2024-05-11T10:43:57.477576200Z"
    }
   },
   "outputs": [],
   "source": [
    "df[\"junction_detail\"].replace({\n",
    "    0: 'Not at junction or within 20 metres',\n",
    "    1: 'Roundabout',\n",
    "    2: 'Mini-roundabout',\n",
    "    3: 'T or staggered junction',\n",
    "    5: 'Slip road',\n",
    "    6: 'Crossroads',\n",
    "    7: 'More than 4 arms (not roundabout)',\n",
    "    8: 'Private drive or entrance',\n",
    "    9: 'Other junction',\n",
    "    99: 'unknown (self reported)',\n",
    "    -1: 'Data missing or out of range'\n",
    "}, inplace=True)\n"
   ]
  },
  {
   "cell_type": "code",
   "execution_count": 101,
   "id": "2eab8dc4",
   "metadata": {
    "ExecuteTime": {
     "end_time": "2024-05-11T10:43:57.602365100Z",
     "start_time": "2024-05-11T10:43:57.509798700Z"
    }
   },
   "outputs": [],
   "source": [
    "df[\"junction_control\"].replace({\n",
    "    0: 'Not at junction or within 20 metres',\n",
    "    1: 'Authorised person',\n",
    "    2: 'Auto traffic signal',\n",
    "    3: 'Stop sign',\n",
    "    4: 'Give way or uncontrolled',\n",
    "    -1: 'Data missing or out of range',\n",
    "    9: 'unknown (self reported)'\n",
    "}, inplace=True)\n"
   ]
  },
  {
   "cell_type": "code",
   "execution_count": 102,
   "id": "a8656875",
   "metadata": {
    "ExecuteTime": {
     "end_time": "2024-05-11T10:43:57.622517800Z",
     "start_time": "2024-05-11T10:43:57.540882300Z"
    }
   },
   "outputs": [],
   "source": [
    "df[\"second_road_class\"].replace({\n",
    "    0: 'Not at junction or within 20 metres',\n",
    "    1: 'Motorway',\n",
    "    2: 'A(M)',\n",
    "    3: 'A',\n",
    "    4: 'B',\n",
    "    5: 'C',\n",
    "    6: 'Unclassified'\n",
    "}, inplace=True)\n"
   ]
  },
  {
   "cell_type": "code",
   "execution_count": 103,
   "id": "0340b487",
   "metadata": {
    "ExecuteTime": {
     "end_time": "2024-05-11T10:43:57.654524700Z",
     "start_time": "2024-05-11T10:43:57.572014500Z"
    }
   },
   "outputs": [],
   "source": [
    "df[\"second_road_number\"].replace({\n",
    "    -1: 'Unknown',\n",
    "    0: 'first_road_class is C or Unclassified. These roads do not have official numbers so recorded as zero'\n",
    "}, inplace=True)\n"
   ]
  },
  {
   "cell_type": "code",
   "execution_count": 104,
   "id": "87447f8a",
   "metadata": {
    "ExecuteTime": {
     "end_time": "2024-05-11T10:43:57.712785200Z",
     "start_time": "2024-05-11T10:43:57.604375800Z"
    }
   },
   "outputs": [],
   "source": [
    "df[\"pedestrian_crossing_human_control\"].replace({\n",
    "    0: 'None within 50 metres',\n",
    "    1: 'Control by school crossing patrol',\n",
    "    2: 'Control by other authorised person',\n",
    "    -1: 'Data missing or out of range',\n",
    "    9: 'Unknown (self reported)'\n",
    "}, inplace=True)\n"
   ]
  },
  {
   "cell_type": "code",
   "execution_count": 105,
   "id": "bcb8eb7f",
   "metadata": {
    "ExecuteTime": {
     "end_time": "2024-05-11T10:43:57.740050600Z",
     "start_time": "2024-05-11T10:43:57.634518400Z"
    }
   },
   "outputs": [],
   "source": [
    "df[\"pedestrian_crossing_physical_facilities\"].replace({\n",
    "    0: 'No physical crossing facilities within 50 metres',\n",
    "    1: 'Zebra',\n",
    "    4: 'Pelican, puffin, toucan or similar non-junction pedestrian light crossing',\n",
    "    5: 'Pedestrian phase at traffic signal junction',\n",
    "    7: 'Footbridge or subway',\n",
    "    8: 'Central refuge',\n",
    "    -1: 'Data missing or out of range',\n",
    "    9: 'Unknown (self reported)'\n",
    "}, inplace=True)\n"
   ]
  },
  {
   "cell_type": "code",
   "execution_count": 155,
   "outputs": [
    {
     "data": {
      "text/plain": "       accident_index  accident_year_x accident_reference_x  \\\n351     2022010353008             2022             10353008   \n352     2022010353008             2022             10353008   \n353     2022010353008             2022             10353008   \n354     2022010353008             2022             10353008   \n723     2022010353490             2022             10353490   \n...               ...              ...                  ...   \n223214  2022991296144             2022            991296144   \n223215  2022991296144             2022            991296144   \n223216  2022991296144             2022            991296144   \n223217  2022991296144             2022            991296144   \n223218  2022991296144             2022            991296144   \n\n        location_easting_osgr  location_northing_osgr  longitude   latitude  \\\n351                  526252.0                182619.0  -0.181388  51.528378   \n352                  526252.0                182619.0  -0.181388  51.528378   \n353                  526252.0                182619.0  -0.181388  51.528378   \n354                  526252.0                182619.0  -0.181388  51.528378   \n723                  523149.0                184138.0  -0.225566  51.542714   \n...                       ...                     ...        ...        ...   \n223214               281243.0                680495.0  -3.905923  56.002646   \n223215               281243.0                680495.0  -3.905923  56.002646   \n223216               281243.0                680495.0  -3.905923  56.002646   \n223217               281243.0                680495.0  -3.905923  56.002646   \n223218               281243.0                680495.0  -3.905923  56.002646   \n\n               police_force accident_severity  number_of_vehicles  \\\n351     Metropolitan Police            Slight                   2   \n352     Metropolitan Police            Slight                   2   \n353     Metropolitan Police            Slight                   2   \n354     Metropolitan Police            Slight                   2   \n723     Metropolitan Police           Serious                   1   \n...                     ...               ...                 ...   \n223214      Police Scotland            Slight                   6   \n223215      Police Scotland            Slight                   6   \n223216      Police Scotland            Slight                   6   \n223217      Police Scotland            Slight                   6   \n223218      Police Scotland            Slight                   6   \n\n        number_of_casualties        date day_of_week   time  \\\n351                        2  04/01/2022     Tuesday  19:30   \n352                        2  04/01/2022     Tuesday  19:30   \n353                        2  04/01/2022     Tuesday  19:30   \n354                        2  04/01/2022     Tuesday  19:30   \n723                        1  07/01/2022      Friday  19:15   \n...                      ...         ...         ...    ...   \n223214                     1  17/12/2022    Saturday  09:44   \n223215                     1  17/12/2022    Saturday  09:44   \n223216                     1  17/12/2022    Saturday  09:44   \n223217                     1  17/12/2022    Saturday  09:44   \n223218                     1  17/12/2022    Saturday  09:44   \n\n        local_authority_district local_authority_ons_district  \\\n351                           -1                  Westminster   \n352                           -1                  Westminster   \n353                           -1                  Westminster   \n354                           -1                  Westminster   \n723                           -1                        Brent   \n...                          ...                          ...   \n223214                        -1                      Falkirk   \n223215                        -1                      Falkirk   \n223216                        -1                      Falkirk   \n223217                        -1                      Falkirk   \n223218                        -1                      Falkirk   \n\n       local_authority_highway first_road_class  \\\n351                Westminster                A   \n352                Westminster                A   \n353                Westminster                A   \n354                Westminster                A   \n723                      Brent                C   \n...                        ...              ...   \n223214                 Falkirk         Motorway   \n223215                 Falkirk         Motorway   \n223216                 Falkirk         Motorway   \n223217                 Falkirk         Motorway   \n223218                 Falkirk         Motorway   \n\n                                        first_road_number           road_type  \\\n351                                                     5  Single carriageway   \n352                                                     5  Single carriageway   \n353                                                     5  Single carriageway   \n354                                                     5  Single carriageway   \n723     first_road_class is C or Unclassified. These r...           Slip road   \n...                                                   ...                 ...   \n223214                                                876    Dual carriageway   \n223215                                                876    Dual carriageway   \n223216                                                876    Dual carriageway   \n223217                                                876    Dual carriageway   \n223218                                                876    Dual carriageway   \n\n        speed_limit                      junction_detail  \\\n351              20                           Crossroads   \n352              20                           Crossroads   \n353              20                           Crossroads   \n354              20                           Crossroads   \n723              30              T or staggered junction   \n...             ...                                  ...   \n223214           70  Not at junction or within 20 metres   \n223215           70  Not at junction or within 20 metres   \n223216           70  Not at junction or within 20 metres   \n223217           70  Not at junction or within 20 metres   \n223218           70  Not at junction or within 20 metres   \n\n                    junction_control                    second_road_class  \\\n351              Auto traffic signal                                    C   \n352              Auto traffic signal                                    C   \n353              Auto traffic signal                                    C   \n354              Auto traffic signal                                    C   \n723         Give way or uncontrolled                         Unclassified   \n...                              ...                                  ...   \n223214  Data missing or out of range  Not at junction or within 20 metres   \n223215  Data missing or out of range  Not at junction or within 20 metres   \n223216  Data missing or out of range  Not at junction or within 20 metres   \n223217  Data missing or out of range  Not at junction or within 20 metres   \n223218  Data missing or out of range  Not at junction or within 20 metres   \n\n                                       second_road_number  \\\n351     first_road_class is C or Unclassified. These r...   \n352     first_road_class is C or Unclassified. These r...   \n353     first_road_class is C or Unclassified. These r...   \n354     first_road_class is C or Unclassified. These r...   \n723     first_road_class is C or Unclassified. These r...   \n...                                                   ...   \n223214                                            Unknown   \n223215                                            Unknown   \n223216                                            Unknown   \n223217                                            Unknown   \n223218                                            Unknown   \n\n       pedestrian_crossing_human_control  \\\n351                None within 50 metres   \n352                None within 50 metres   \n353                None within 50 metres   \n354                None within 50 metres   \n723                None within 50 metres   \n...                                  ...   \n223214             None within 50 metres   \n223215             None within 50 metres   \n223216             None within 50 metres   \n223217             None within 50 metres   \n223218             None within 50 metres   \n\n                 pedestrian_crossing_physical_facilities  \\\n351          Pedestrian phase at traffic signal junction   \n352          Pedestrian phase at traffic signal junction   \n353          Pedestrian phase at traffic signal junction   \n354          Pedestrian phase at traffic signal junction   \n723     No physical crossing facilities within 50 metres   \n...                                                  ...   \n223214  No physical crossing facilities within 50 metres   \n223215  No physical crossing facilities within 50 metres   \n223216  No physical crossing facilities within 50 metres   \n223217  No physical crossing facilities within 50 metres   \n223218  No physical crossing facilities within 50 metres   \n\n             light_conditions weather_conditions road_surface_conditions  \\\n351     Darkness - lights lit  Fine + high winds                     Dry   \n352     Darkness - lights lit  Fine + high winds                     Dry   \n353     Darkness - lights lit  Fine + high winds                     Dry   \n354     Darkness - lights lit  Fine + high winds                     Dry   \n723     Darkness - lights lit  Fine + high winds             Wet or damp   \n...                       ...                ...                     ...   \n223214               Daylight  Fine + high winds            Frost or ice   \n223215               Daylight  Fine + high winds            Frost or ice   \n223216               Daylight  Fine + high winds            Frost or ice   \n223217               Daylight  Fine + high winds            Frost or ice   \n223218               Daylight  Fine + high winds            Frost or ice   \n\n       special_conditions_at_site carriageway_hazards urban_or_rural_area  \\\n351                          None                None               Urban   \n352                          None                None               Urban   \n353                          None                None               Urban   \n354                          None                None               Urban   \n723                          None                None               Urban   \n...                           ...                 ...                 ...   \n223214                       None   Previous accident               Rural   \n223215                       None   Previous accident               Rural   \n223216                       None   Previous accident               Rural   \n223217                       None   Previous accident               Rural   \n223218                       None   Previous accident               Rural   \n\n       did_police_officer_attend_scene_of_accident  \\\n351                                            Yes   \n352                                            Yes   \n353                                            Yes   \n354                                            Yes   \n723                                            Yes   \n...                                            ...   \n223214                                         Yes   \n223215                                         Yes   \n223216                                         Yes   \n223217                                         Yes   \n223218                                         Yes   \n\n                     trunk_road_flag lsoa_of_accident_location  \\\n351                        Non-trunk                 E01004726   \n352                        Non-trunk                 E01004726   \n353                        Non-trunk                 E01004726   \n354                        Non-trunk                 E01004726   \n723                        Non-trunk                 E01000489   \n...                              ...                       ...   \n223214  Data missing or out of range                        -1   \n223215  Data missing or out of range                        -1   \n223216  Data missing or out of range                        -1   \n223217  Data missing or out of range                        -1   \n223218  Data missing or out of range                        -1   \n\n        accident_year_y accident_reference_y  vehicle_reference_x  \\\n351              2022.0             10353008                  1.0   \n352              2022.0             10353008                  1.0   \n353              2022.0             10353008                  2.0   \n354              2022.0             10353008                  2.0   \n723              2022.0             10353490                  1.0   \n...                 ...                  ...                  ...   \n223214           2022.0            991296144                  2.0   \n223215           2022.0            991296144                  3.0   \n223216           2022.0            991296144                  4.0   \n223217           2022.0            991296144                  5.0   \n223218           2022.0            991296144                  6.0   \n\n                                vehicle_type towing_and_articulation  \\\n351               Motorcycle 125cc and under     No tow/articulation   \n352               Motorcycle 125cc and under     No tow/articulation   \n353                              Pedal cycle     No tow/articulation   \n354                              Pedal cycle     No tow/articulation   \n723     Bus or coach (17 or more pass seats)     No tow/articulation   \n...                                      ...                     ...   \n223214                                   Car     No tow/articulation   \n223215                                   Car     No tow/articulation   \n223216                                   Car     No tow/articulation   \n223217                                   Car          Single trailer   \n223218   Van / Goods 3.5 tonnes mgw or under     No tow/articulation   \n\n                 vehicle_manoeuvre vehicle_direction_from  \\\n351              Going ahead other                   West   \n352              Going ahead other                   West   \n353                  Turning right             North West   \n354                  Turning right             North West   \n723            Slowing or stopping             South West   \n...                            ...                    ...   \n223214                      Parked                   East   \n223215           Going ahead other                   East   \n223216           Going ahead other                   East   \n223217  Going ahead left-hand bend                   East   \n223218  Going ahead left-hand bend                   East   \n\n       vehicle_direction_to              vehicle_location_restricted_lane  \\\n351                    East  On main carriageway - not in restricted lane   \n352                    East  On main carriageway - not in restricted lane   \n353                    West  On main carriageway - not in restricted lane   \n354                    West  On main carriageway - not in restricted lane   \n723              North East  On main carriageway - not in restricted lane   \n...                     ...                                           ...   \n223214                 East                    On lay-by or hard shoulder   \n223215                 East  On main carriageway - not in restricted lane   \n223216                 East  On main carriageway - not in restricted lane   \n223217                 East  On main carriageway - not in restricted lane   \n223218                 East  On main carriageway - not in restricted lane   \n\n                                        junction_location  \\\n351          Mid Junction - on roundabout or on main road   \n352          Mid Junction - on roundabout or on main road   \n353          Mid Junction - on roundabout or on main road   \n354          Mid Junction - on roundabout or on main road   \n723     Approaching junction or waiting/parked at junc...   \n...                                                   ...   \n223214             Not at or within 20 metres of junction   \n223215             Not at or within 20 metres of junction   \n223216             Not at or within 20 metres of junction   \n223217             Not at or within 20 metres of junction   \n223218             Not at or within 20 metres of junction   \n\n       skidding_and_overturning hit_object_in_carriageway  \\\n351                     Skidded                      None   \n352                     Skidded                      None   \n353                     Skidded                      None   \n354                     Skidded                      None   \n723                        None                      None   \n...                         ...                       ...   \n223214                     None                      None   \n223215                     None         Previous accident   \n223216                  Skidded                      None   \n223217                  Skidded         Previous accident   \n223218                     None                      None   \n\n       vehicle_leaving_carriageway hit_object_off_carriageway  \\\n351      Did not leave carriageway                       None   \n352      Did not leave carriageway                       None   \n353      Did not leave carriageway                       None   \n354      Did not leave carriageway                       None   \n723      Did not leave carriageway                       None   \n...                            ...                        ...   \n223214   Did not leave carriageway                       None   \n223215                    Nearside                       None   \n223216   Did not leave carriageway                       None   \n223217                    Nearside                       None   \n223218   Did not leave carriageway                       None   \n\n       first_point_of_impact vehicle_left_hand_drive  \\\n351                    Front                      No   \n352                    Front                      No   \n353                    Front                      No   \n354                    Front                      No   \n723                     Back                      No   \n...                      ...                     ...   \n223214                  Back                      No   \n223215                 Front                      No   \n223216        Did not impact                      No   \n223217                 Front                      No   \n223218              Nearside                      No   \n\n       journey_purpose_of_driver sex_of_driver age_of_driver  \\\n351                    Not known          Male          36.0   \n352                    Not known          Male          36.0   \n353       Commuting to/from work          Male          26.0   \n354       Commuting to/from work          Male          26.0   \n723                    Not known        Female          48.0   \n...                          ...           ...           ...   \n223214                 Not known        Female          30.0   \n223215                 Not known          Male          35.0   \n223216                 Not known          Male          24.0   \n223217                 Not known          Male          37.0   \n223218                 Not known          Male          42.0   \n\n       age_band_of_driver            engine_capacity_cc propulsion_code  \\\n351               36 - 45                         125.0          Petrol   \n352               36 - 45                         125.0          Petrol   \n353               26 - 35  Data missing or out of range       Undefined   \n354               26 - 35  Data missing or out of range       Undefined   \n723               46 - 55                        5132.0       Heavy oil   \n...                   ...                           ...             ...   \n223214            26 - 35                        1395.0          Petrol   \n223215            26 - 35                        1968.0       Heavy oil   \n223216            21 - 25                        1242.0          Petrol   \n223217            36 - 45                        1910.0       Heavy oil   \n223218            36 - 45                        1995.0       Heavy oil   \n\n        age_of_vehicle   generic_make_model             driver_imd_decile  \\\n351                2.0           YAMAHA GPD          More deprived 20-30%   \n352                2.0           YAMAHA GPD          More deprived 20-30%   \n353               -1.0                   -1  Data missing or out of range   \n354               -1.0                   -1  Data missing or out of range   \n723                5.0  VOLVO MODEL MISSING          More deprived 30-40%   \n...                ...                  ...                           ...   \n223214             6.0              AUDI Q3          More deprived 20-30%   \n223215            15.0     VOLKSWAGEN JETTA             Most deprived 10%   \n223216            11.0          FORD FIESTA          More deprived 20-30%   \n223217            16.0      VAUXHALL VECTRA          Less deprived 40-50%   \n223218             0.0         FORD TRANSIT          More deprived 20-30%   \n\n               driver_home_area_type lsoa_of_driver  accident_year  \\\n351                       Urban area      E01000642         2022.0   \n352                       Urban area      E01000642         2022.0   \n353     Data missing or out of range             -1         2022.0   \n354     Data missing or out of range             -1         2022.0   \n723                       Urban area      E01000580         2022.0   \n...                              ...            ...            ...   \n223214                    Small town             -1            NaN   \n223215                    Urban area             -1            NaN   \n223216                    Urban area             -1            NaN   \n223217                         Rural             -1            NaN   \n223218                    Urban area             -1            NaN   \n\n       accident_reference  vehicle_reference_y  casualty_reference  \\\n351              10353008                  1.0                 1.0   \n352              10353008                  2.0                 2.0   \n353              10353008                  1.0                 1.0   \n354              10353008                  2.0                 2.0   \n723              10353490                  1.0                 1.0   \n...                   ...                  ...                 ...   \n223214                NaN                  NaN                 NaN   \n223215                NaN                  NaN                 NaN   \n223216                NaN                  NaN                 NaN   \n223217                NaN                  NaN                 NaN   \n223218                NaN                  NaN                 NaN   \n\n         casualty_class sex_of_casualty age_of_casualty age_band_of_casualty  \\\n351     Driver or rider            Male            36.0              36 - 45   \n352     Driver or rider            Male            26.0              26 - 35   \n353     Driver or rider            Male            36.0              36 - 45   \n354     Driver or rider            Male            26.0              26 - 35   \n723          Pedestrian            Male            25.0              21 - 25   \n...                 ...             ...             ...                  ...   \n223214              NaN             NaN             NaN                  NaN   \n223215              NaN             NaN             NaN                  NaN   \n223216              NaN             NaN             NaN                  NaN   \n223217              NaN             NaN             NaN                  NaN   \n223218              NaN             NaN             NaN                  NaN   \n\n       casualty_severity pedestrian_location pedestrian_movement  \\\n351               Slight    Not a Pedestrian    Not a Pedestrian   \n352               Slight    Not a Pedestrian    Not a Pedestrian   \n353               Slight    Not a Pedestrian    Not a Pedestrian   \n354               Slight    Not a Pedestrian    Not a Pedestrian   \n723              Serious    Unknown or other    Unknown or other   \n...                  ...                 ...                 ...   \n223214               NaN                 NaN                 NaN   \n223215               NaN                 NaN                 NaN   \n223216               NaN                 NaN                 NaN   \n223217               NaN                 NaN                 NaN   \n223218               NaN                 NaN                 NaN   \n\n            car_passenger        bus_or_coach_passenger  \\\n351     Not car passenger  Not a bus or coach passenger   \n352     Not car passenger  Not a bus or coach passenger   \n353     Not car passenger  Not a bus or coach passenger   \n354     Not car passenger  Not a bus or coach passenger   \n723     Not car passenger  Not a bus or coach passenger   \n...                   ...                           ...   \n223214                NaN                           NaN   \n223215                NaN                           NaN   \n223216                NaN                           NaN   \n223217                NaN                           NaN   \n223218                NaN                           NaN   \n\n       pedestrian_road_maintenance_worker  \\\n351                   No / Not applicable   \n352                   No / Not applicable   \n353                   No / Not applicable   \n354                   No / Not applicable   \n723                   No / Not applicable   \n...                                   ...   \n223214                                NaN   \n223215                                NaN   \n223216                                NaN   \n223217                                NaN   \n223218                                NaN   \n\n                                        casualty_type  \\\n351     Motorcycle 125cc and under rider or passenger   \n352                                           Cyclist   \n353     Motorcycle 125cc and under rider or passenger   \n354                                           Cyclist   \n723                                        Pedestrian   \n...                                               ...   \n223214                                            NaN   \n223215                                            NaN   \n223216                                            NaN   \n223217                                            NaN   \n223218                                            NaN   \n\n             casualty_home_area_type           casualty_imd_decile  \\\n351                       Urban area          More deprived 20-30%   \n352     Data missing or out of range  Data missing or out of range   \n353                       Urban area          More deprived 20-30%   \n354     Data missing or out of range  Data missing or out of range   \n723                       Urban area             Most deprived 10%   \n...                              ...                           ...   \n223214                           NaN                           NaN   \n223215                           NaN                           NaN   \n223216                           NaN                           NaN   \n223217                           NaN                           NaN   \n223218                           NaN                           NaN   \n\n       lsoa_of_casualty  \n351           E01000642  \n352                  -1  \n353           E01000642  \n354                  -1  \n723           E01033456  \n...                 ...  \n223214              NaN  \n223215              NaN  \n223216              NaN  \n223217              NaN  \n223218              NaN  \n\n[2048 rows x 81 columns]",
      "text/html": "<div>\n<style scoped>\n    .dataframe tbody tr th:only-of-type {\n        vertical-align: middle;\n    }\n\n    .dataframe tbody tr th {\n        vertical-align: top;\n    }\n\n    .dataframe thead th {\n        text-align: right;\n    }\n</style>\n<table border=\"1\" class=\"dataframe\">\n  <thead>\n    <tr style=\"text-align: right;\">\n      <th></th>\n      <th>accident_index</th>\n      <th>accident_year_x</th>\n      <th>accident_reference_x</th>\n      <th>location_easting_osgr</th>\n      <th>location_northing_osgr</th>\n      <th>longitude</th>\n      <th>latitude</th>\n      <th>police_force</th>\n      <th>accident_severity</th>\n      <th>number_of_vehicles</th>\n      <th>number_of_casualties</th>\n      <th>date</th>\n      <th>day_of_week</th>\n      <th>time</th>\n      <th>local_authority_district</th>\n      <th>local_authority_ons_district</th>\n      <th>local_authority_highway</th>\n      <th>first_road_class</th>\n      <th>first_road_number</th>\n      <th>road_type</th>\n      <th>speed_limit</th>\n      <th>junction_detail</th>\n      <th>junction_control</th>\n      <th>second_road_class</th>\n      <th>second_road_number</th>\n      <th>pedestrian_crossing_human_control</th>\n      <th>pedestrian_crossing_physical_facilities</th>\n      <th>light_conditions</th>\n      <th>weather_conditions</th>\n      <th>road_surface_conditions</th>\n      <th>special_conditions_at_site</th>\n      <th>carriageway_hazards</th>\n      <th>urban_or_rural_area</th>\n      <th>did_police_officer_attend_scene_of_accident</th>\n      <th>trunk_road_flag</th>\n      <th>lsoa_of_accident_location</th>\n      <th>accident_year_y</th>\n      <th>accident_reference_y</th>\n      <th>vehicle_reference_x</th>\n      <th>vehicle_type</th>\n      <th>towing_and_articulation</th>\n      <th>vehicle_manoeuvre</th>\n      <th>vehicle_direction_from</th>\n      <th>vehicle_direction_to</th>\n      <th>vehicle_location_restricted_lane</th>\n      <th>junction_location</th>\n      <th>skidding_and_overturning</th>\n      <th>hit_object_in_carriageway</th>\n      <th>vehicle_leaving_carriageway</th>\n      <th>hit_object_off_carriageway</th>\n      <th>first_point_of_impact</th>\n      <th>vehicle_left_hand_drive</th>\n      <th>journey_purpose_of_driver</th>\n      <th>sex_of_driver</th>\n      <th>age_of_driver</th>\n      <th>age_band_of_driver</th>\n      <th>engine_capacity_cc</th>\n      <th>propulsion_code</th>\n      <th>age_of_vehicle</th>\n      <th>generic_make_model</th>\n      <th>driver_imd_decile</th>\n      <th>driver_home_area_type</th>\n      <th>lsoa_of_driver</th>\n      <th>accident_year</th>\n      <th>accident_reference</th>\n      <th>vehicle_reference_y</th>\n      <th>casualty_reference</th>\n      <th>casualty_class</th>\n      <th>sex_of_casualty</th>\n      <th>age_of_casualty</th>\n      <th>age_band_of_casualty</th>\n      <th>casualty_severity</th>\n      <th>pedestrian_location</th>\n      <th>pedestrian_movement</th>\n      <th>car_passenger</th>\n      <th>bus_or_coach_passenger</th>\n      <th>pedestrian_road_maintenance_worker</th>\n      <th>casualty_type</th>\n      <th>casualty_home_area_type</th>\n      <th>casualty_imd_decile</th>\n      <th>lsoa_of_casualty</th>\n    </tr>\n  </thead>\n  <tbody>\n    <tr>\n      <th>351</th>\n      <td>2022010353008</td>\n      <td>2022</td>\n      <td>10353008</td>\n      <td>526252.0</td>\n      <td>182619.0</td>\n      <td>-0.181388</td>\n      <td>51.528378</td>\n      <td>Metropolitan Police</td>\n      <td>Slight</td>\n      <td>2</td>\n      <td>2</td>\n      <td>04/01/2022</td>\n      <td>Tuesday</td>\n      <td>19:30</td>\n      <td>-1</td>\n      <td>Westminster</td>\n      <td>Westminster</td>\n      <td>A</td>\n      <td>5</td>\n      <td>Single carriageway</td>\n      <td>20</td>\n      <td>Crossroads</td>\n      <td>Auto traffic signal</td>\n      <td>C</td>\n      <td>first_road_class is C or Unclassified. These r...</td>\n      <td>None within 50 metres</td>\n      <td>Pedestrian phase at traffic signal junction</td>\n      <td>Darkness - lights lit</td>\n      <td>Fine + high winds</td>\n      <td>Dry</td>\n      <td>None</td>\n      <td>None</td>\n      <td>Urban</td>\n      <td>Yes</td>\n      <td>Non-trunk</td>\n      <td>E01004726</td>\n      <td>2022.0</td>\n      <td>10353008</td>\n      <td>1.0</td>\n      <td>Motorcycle 125cc and under</td>\n      <td>No tow/articulation</td>\n      <td>Going ahead other</td>\n      <td>West</td>\n      <td>East</td>\n      <td>On main carriageway - not in restricted lane</td>\n      <td>Mid Junction - on roundabout or on main road</td>\n      <td>Skidded</td>\n      <td>None</td>\n      <td>Did not leave carriageway</td>\n      <td>None</td>\n      <td>Front</td>\n      <td>No</td>\n      <td>Not known</td>\n      <td>Male</td>\n      <td>36.0</td>\n      <td>36 - 45</td>\n      <td>125.0</td>\n      <td>Petrol</td>\n      <td>2.0</td>\n      <td>YAMAHA GPD</td>\n      <td>More deprived 20-30%</td>\n      <td>Urban area</td>\n      <td>E01000642</td>\n      <td>2022.0</td>\n      <td>10353008</td>\n      <td>1.0</td>\n      <td>1.0</td>\n      <td>Driver or rider</td>\n      <td>Male</td>\n      <td>36.0</td>\n      <td>36 - 45</td>\n      <td>Slight</td>\n      <td>Not a Pedestrian</td>\n      <td>Not a Pedestrian</td>\n      <td>Not car passenger</td>\n      <td>Not a bus or coach passenger</td>\n      <td>No / Not applicable</td>\n      <td>Motorcycle 125cc and under rider or passenger</td>\n      <td>Urban area</td>\n      <td>More deprived 20-30%</td>\n      <td>E01000642</td>\n    </tr>\n    <tr>\n      <th>352</th>\n      <td>2022010353008</td>\n      <td>2022</td>\n      <td>10353008</td>\n      <td>526252.0</td>\n      <td>182619.0</td>\n      <td>-0.181388</td>\n      <td>51.528378</td>\n      <td>Metropolitan Police</td>\n      <td>Slight</td>\n      <td>2</td>\n      <td>2</td>\n      <td>04/01/2022</td>\n      <td>Tuesday</td>\n      <td>19:30</td>\n      <td>-1</td>\n      <td>Westminster</td>\n      <td>Westminster</td>\n      <td>A</td>\n      <td>5</td>\n      <td>Single carriageway</td>\n      <td>20</td>\n      <td>Crossroads</td>\n      <td>Auto traffic signal</td>\n      <td>C</td>\n      <td>first_road_class is C or Unclassified. These r...</td>\n      <td>None within 50 metres</td>\n      <td>Pedestrian phase at traffic signal junction</td>\n      <td>Darkness - lights lit</td>\n      <td>Fine + high winds</td>\n      <td>Dry</td>\n      <td>None</td>\n      <td>None</td>\n      <td>Urban</td>\n      <td>Yes</td>\n      <td>Non-trunk</td>\n      <td>E01004726</td>\n      <td>2022.0</td>\n      <td>10353008</td>\n      <td>1.0</td>\n      <td>Motorcycle 125cc and under</td>\n      <td>No tow/articulation</td>\n      <td>Going ahead other</td>\n      <td>West</td>\n      <td>East</td>\n      <td>On main carriageway - not in restricted lane</td>\n      <td>Mid Junction - on roundabout or on main road</td>\n      <td>Skidded</td>\n      <td>None</td>\n      <td>Did not leave carriageway</td>\n      <td>None</td>\n      <td>Front</td>\n      <td>No</td>\n      <td>Not known</td>\n      <td>Male</td>\n      <td>36.0</td>\n      <td>36 - 45</td>\n      <td>125.0</td>\n      <td>Petrol</td>\n      <td>2.0</td>\n      <td>YAMAHA GPD</td>\n      <td>More deprived 20-30%</td>\n      <td>Urban area</td>\n      <td>E01000642</td>\n      <td>2022.0</td>\n      <td>10353008</td>\n      <td>2.0</td>\n      <td>2.0</td>\n      <td>Driver or rider</td>\n      <td>Male</td>\n      <td>26.0</td>\n      <td>26 - 35</td>\n      <td>Slight</td>\n      <td>Not a Pedestrian</td>\n      <td>Not a Pedestrian</td>\n      <td>Not car passenger</td>\n      <td>Not a bus or coach passenger</td>\n      <td>No / Not applicable</td>\n      <td>Cyclist</td>\n      <td>Data missing or out of range</td>\n      <td>Data missing or out of range</td>\n      <td>-1</td>\n    </tr>\n    <tr>\n      <th>353</th>\n      <td>2022010353008</td>\n      <td>2022</td>\n      <td>10353008</td>\n      <td>526252.0</td>\n      <td>182619.0</td>\n      <td>-0.181388</td>\n      <td>51.528378</td>\n      <td>Metropolitan Police</td>\n      <td>Slight</td>\n      <td>2</td>\n      <td>2</td>\n      <td>04/01/2022</td>\n      <td>Tuesday</td>\n      <td>19:30</td>\n      <td>-1</td>\n      <td>Westminster</td>\n      <td>Westminster</td>\n      <td>A</td>\n      <td>5</td>\n      <td>Single carriageway</td>\n      <td>20</td>\n      <td>Crossroads</td>\n      <td>Auto traffic signal</td>\n      <td>C</td>\n      <td>first_road_class is C or Unclassified. These r...</td>\n      <td>None within 50 metres</td>\n      <td>Pedestrian phase at traffic signal junction</td>\n      <td>Darkness - lights lit</td>\n      <td>Fine + high winds</td>\n      <td>Dry</td>\n      <td>None</td>\n      <td>None</td>\n      <td>Urban</td>\n      <td>Yes</td>\n      <td>Non-trunk</td>\n      <td>E01004726</td>\n      <td>2022.0</td>\n      <td>10353008</td>\n      <td>2.0</td>\n      <td>Pedal cycle</td>\n      <td>No tow/articulation</td>\n      <td>Turning right</td>\n      <td>North West</td>\n      <td>West</td>\n      <td>On main carriageway - not in restricted lane</td>\n      <td>Mid Junction - on roundabout or on main road</td>\n      <td>Skidded</td>\n      <td>None</td>\n      <td>Did not leave carriageway</td>\n      <td>None</td>\n      <td>Front</td>\n      <td>No</td>\n      <td>Commuting to/from work</td>\n      <td>Male</td>\n      <td>26.0</td>\n      <td>26 - 35</td>\n      <td>Data missing or out of range</td>\n      <td>Undefined</td>\n      <td>-1.0</td>\n      <td>-1</td>\n      <td>Data missing or out of range</td>\n      <td>Data missing or out of range</td>\n      <td>-1</td>\n      <td>2022.0</td>\n      <td>10353008</td>\n      <td>1.0</td>\n      <td>1.0</td>\n      <td>Driver or rider</td>\n      <td>Male</td>\n      <td>36.0</td>\n      <td>36 - 45</td>\n      <td>Slight</td>\n      <td>Not a Pedestrian</td>\n      <td>Not a Pedestrian</td>\n      <td>Not car passenger</td>\n      <td>Not a bus or coach passenger</td>\n      <td>No / Not applicable</td>\n      <td>Motorcycle 125cc and under rider or passenger</td>\n      <td>Urban area</td>\n      <td>More deprived 20-30%</td>\n      <td>E01000642</td>\n    </tr>\n    <tr>\n      <th>354</th>\n      <td>2022010353008</td>\n      <td>2022</td>\n      <td>10353008</td>\n      <td>526252.0</td>\n      <td>182619.0</td>\n      <td>-0.181388</td>\n      <td>51.528378</td>\n      <td>Metropolitan Police</td>\n      <td>Slight</td>\n      <td>2</td>\n      <td>2</td>\n      <td>04/01/2022</td>\n      <td>Tuesday</td>\n      <td>19:30</td>\n      <td>-1</td>\n      <td>Westminster</td>\n      <td>Westminster</td>\n      <td>A</td>\n      <td>5</td>\n      <td>Single carriageway</td>\n      <td>20</td>\n      <td>Crossroads</td>\n      <td>Auto traffic signal</td>\n      <td>C</td>\n      <td>first_road_class is C or Unclassified. These r...</td>\n      <td>None within 50 metres</td>\n      <td>Pedestrian phase at traffic signal junction</td>\n      <td>Darkness - lights lit</td>\n      <td>Fine + high winds</td>\n      <td>Dry</td>\n      <td>None</td>\n      <td>None</td>\n      <td>Urban</td>\n      <td>Yes</td>\n      <td>Non-trunk</td>\n      <td>E01004726</td>\n      <td>2022.0</td>\n      <td>10353008</td>\n      <td>2.0</td>\n      <td>Pedal cycle</td>\n      <td>No tow/articulation</td>\n      <td>Turning right</td>\n      <td>North West</td>\n      <td>West</td>\n      <td>On main carriageway - not in restricted lane</td>\n      <td>Mid Junction - on roundabout or on main road</td>\n      <td>Skidded</td>\n      <td>None</td>\n      <td>Did not leave carriageway</td>\n      <td>None</td>\n      <td>Front</td>\n      <td>No</td>\n      <td>Commuting to/from work</td>\n      <td>Male</td>\n      <td>26.0</td>\n      <td>26 - 35</td>\n      <td>Data missing or out of range</td>\n      <td>Undefined</td>\n      <td>-1.0</td>\n      <td>-1</td>\n      <td>Data missing or out of range</td>\n      <td>Data missing or out of range</td>\n      <td>-1</td>\n      <td>2022.0</td>\n      <td>10353008</td>\n      <td>2.0</td>\n      <td>2.0</td>\n      <td>Driver or rider</td>\n      <td>Male</td>\n      <td>26.0</td>\n      <td>26 - 35</td>\n      <td>Slight</td>\n      <td>Not a Pedestrian</td>\n      <td>Not a Pedestrian</td>\n      <td>Not car passenger</td>\n      <td>Not a bus or coach passenger</td>\n      <td>No / Not applicable</td>\n      <td>Cyclist</td>\n      <td>Data missing or out of range</td>\n      <td>Data missing or out of range</td>\n      <td>-1</td>\n    </tr>\n    <tr>\n      <th>723</th>\n      <td>2022010353490</td>\n      <td>2022</td>\n      <td>10353490</td>\n      <td>523149.0</td>\n      <td>184138.0</td>\n      <td>-0.225566</td>\n      <td>51.542714</td>\n      <td>Metropolitan Police</td>\n      <td>Serious</td>\n      <td>1</td>\n      <td>1</td>\n      <td>07/01/2022</td>\n      <td>Friday</td>\n      <td>19:15</td>\n      <td>-1</td>\n      <td>Brent</td>\n      <td>Brent</td>\n      <td>C</td>\n      <td>first_road_class is C or Unclassified. These r...</td>\n      <td>Slip road</td>\n      <td>30</td>\n      <td>T or staggered junction</td>\n      <td>Give way or uncontrolled</td>\n      <td>Unclassified</td>\n      <td>first_road_class is C or Unclassified. These r...</td>\n      <td>None within 50 metres</td>\n      <td>No physical crossing facilities within 50 metres</td>\n      <td>Darkness - lights lit</td>\n      <td>Fine + high winds</td>\n      <td>Wet or damp</td>\n      <td>None</td>\n      <td>None</td>\n      <td>Urban</td>\n      <td>Yes</td>\n      <td>Non-trunk</td>\n      <td>E01000489</td>\n      <td>2022.0</td>\n      <td>10353490</td>\n      <td>1.0</td>\n      <td>Bus or coach (17 or more pass seats)</td>\n      <td>No tow/articulation</td>\n      <td>Slowing or stopping</td>\n      <td>South West</td>\n      <td>North East</td>\n      <td>On main carriageway - not in restricted lane</td>\n      <td>Approaching junction or waiting/parked at junc...</td>\n      <td>None</td>\n      <td>None</td>\n      <td>Did not leave carriageway</td>\n      <td>None</td>\n      <td>Back</td>\n      <td>No</td>\n      <td>Not known</td>\n      <td>Female</td>\n      <td>48.0</td>\n      <td>46 - 55</td>\n      <td>5132.0</td>\n      <td>Heavy oil</td>\n      <td>5.0</td>\n      <td>VOLVO MODEL MISSING</td>\n      <td>More deprived 30-40%</td>\n      <td>Urban area</td>\n      <td>E01000580</td>\n      <td>2022.0</td>\n      <td>10353490</td>\n      <td>1.0</td>\n      <td>1.0</td>\n      <td>Pedestrian</td>\n      <td>Male</td>\n      <td>25.0</td>\n      <td>21 - 25</td>\n      <td>Serious</td>\n      <td>Unknown or other</td>\n      <td>Unknown or other</td>\n      <td>Not car passenger</td>\n      <td>Not a bus or coach passenger</td>\n      <td>No / Not applicable</td>\n      <td>Pedestrian</td>\n      <td>Urban area</td>\n      <td>Most deprived 10%</td>\n      <td>E01033456</td>\n    </tr>\n    <tr>\n      <th>...</th>\n      <td>...</td>\n      <td>...</td>\n      <td>...</td>\n      <td>...</td>\n      <td>...</td>\n      <td>...</td>\n      <td>...</td>\n      <td>...</td>\n      <td>...</td>\n      <td>...</td>\n      <td>...</td>\n      <td>...</td>\n      <td>...</td>\n      <td>...</td>\n      <td>...</td>\n      <td>...</td>\n      <td>...</td>\n      <td>...</td>\n      <td>...</td>\n      <td>...</td>\n      <td>...</td>\n      <td>...</td>\n      <td>...</td>\n      <td>...</td>\n      <td>...</td>\n      <td>...</td>\n      <td>...</td>\n      <td>...</td>\n      <td>...</td>\n      <td>...</td>\n      <td>...</td>\n      <td>...</td>\n      <td>...</td>\n      <td>...</td>\n      <td>...</td>\n      <td>...</td>\n      <td>...</td>\n      <td>...</td>\n      <td>...</td>\n      <td>...</td>\n      <td>...</td>\n      <td>...</td>\n      <td>...</td>\n      <td>...</td>\n      <td>...</td>\n      <td>...</td>\n      <td>...</td>\n      <td>...</td>\n      <td>...</td>\n      <td>...</td>\n      <td>...</td>\n      <td>...</td>\n      <td>...</td>\n      <td>...</td>\n      <td>...</td>\n      <td>...</td>\n      <td>...</td>\n      <td>...</td>\n      <td>...</td>\n      <td>...</td>\n      <td>...</td>\n      <td>...</td>\n      <td>...</td>\n      <td>...</td>\n      <td>...</td>\n      <td>...</td>\n      <td>...</td>\n      <td>...</td>\n      <td>...</td>\n      <td>...</td>\n      <td>...</td>\n      <td>...</td>\n      <td>...</td>\n      <td>...</td>\n      <td>...</td>\n      <td>...</td>\n      <td>...</td>\n      <td>...</td>\n      <td>...</td>\n      <td>...</td>\n      <td>...</td>\n    </tr>\n    <tr>\n      <th>223214</th>\n      <td>2022991296144</td>\n      <td>2022</td>\n      <td>991296144</td>\n      <td>281243.0</td>\n      <td>680495.0</td>\n      <td>-3.905923</td>\n      <td>56.002646</td>\n      <td>Police Scotland</td>\n      <td>Slight</td>\n      <td>6</td>\n      <td>1</td>\n      <td>17/12/2022</td>\n      <td>Saturday</td>\n      <td>09:44</td>\n      <td>-1</td>\n      <td>Falkirk</td>\n      <td>Falkirk</td>\n      <td>Motorway</td>\n      <td>876</td>\n      <td>Dual carriageway</td>\n      <td>70</td>\n      <td>Not at junction or within 20 metres</td>\n      <td>Data missing or out of range</td>\n      <td>Not at junction or within 20 metres</td>\n      <td>Unknown</td>\n      <td>None within 50 metres</td>\n      <td>No physical crossing facilities within 50 metres</td>\n      <td>Daylight</td>\n      <td>Fine + high winds</td>\n      <td>Frost or ice</td>\n      <td>None</td>\n      <td>Previous accident</td>\n      <td>Rural</td>\n      <td>Yes</td>\n      <td>Data missing or out of range</td>\n      <td>-1</td>\n      <td>2022.0</td>\n      <td>991296144</td>\n      <td>2.0</td>\n      <td>Car</td>\n      <td>No tow/articulation</td>\n      <td>Parked</td>\n      <td>East</td>\n      <td>East</td>\n      <td>On lay-by or hard shoulder</td>\n      <td>Not at or within 20 metres of junction</td>\n      <td>None</td>\n      <td>None</td>\n      <td>Did not leave carriageway</td>\n      <td>None</td>\n      <td>Back</td>\n      <td>No</td>\n      <td>Not known</td>\n      <td>Female</td>\n      <td>30.0</td>\n      <td>26 - 35</td>\n      <td>1395.0</td>\n      <td>Petrol</td>\n      <td>6.0</td>\n      <td>AUDI Q3</td>\n      <td>More deprived 20-30%</td>\n      <td>Small town</td>\n      <td>-1</td>\n      <td>NaN</td>\n      <td>NaN</td>\n      <td>NaN</td>\n      <td>NaN</td>\n      <td>NaN</td>\n      <td>NaN</td>\n      <td>NaN</td>\n      <td>NaN</td>\n      <td>NaN</td>\n      <td>NaN</td>\n      <td>NaN</td>\n      <td>NaN</td>\n      <td>NaN</td>\n      <td>NaN</td>\n      <td>NaN</td>\n      <td>NaN</td>\n      <td>NaN</td>\n      <td>NaN</td>\n    </tr>\n    <tr>\n      <th>223215</th>\n      <td>2022991296144</td>\n      <td>2022</td>\n      <td>991296144</td>\n      <td>281243.0</td>\n      <td>680495.0</td>\n      <td>-3.905923</td>\n      <td>56.002646</td>\n      <td>Police Scotland</td>\n      <td>Slight</td>\n      <td>6</td>\n      <td>1</td>\n      <td>17/12/2022</td>\n      <td>Saturday</td>\n      <td>09:44</td>\n      <td>-1</td>\n      <td>Falkirk</td>\n      <td>Falkirk</td>\n      <td>Motorway</td>\n      <td>876</td>\n      <td>Dual carriageway</td>\n      <td>70</td>\n      <td>Not at junction or within 20 metres</td>\n      <td>Data missing or out of range</td>\n      <td>Not at junction or within 20 metres</td>\n      <td>Unknown</td>\n      <td>None within 50 metres</td>\n      <td>No physical crossing facilities within 50 metres</td>\n      <td>Daylight</td>\n      <td>Fine + high winds</td>\n      <td>Frost or ice</td>\n      <td>None</td>\n      <td>Previous accident</td>\n      <td>Rural</td>\n      <td>Yes</td>\n      <td>Data missing or out of range</td>\n      <td>-1</td>\n      <td>2022.0</td>\n      <td>991296144</td>\n      <td>3.0</td>\n      <td>Car</td>\n      <td>No tow/articulation</td>\n      <td>Going ahead other</td>\n      <td>East</td>\n      <td>East</td>\n      <td>On main carriageway - not in restricted lane</td>\n      <td>Not at or within 20 metres of junction</td>\n      <td>None</td>\n      <td>Previous accident</td>\n      <td>Nearside</td>\n      <td>None</td>\n      <td>Front</td>\n      <td>No</td>\n      <td>Not known</td>\n      <td>Male</td>\n      <td>35.0</td>\n      <td>26 - 35</td>\n      <td>1968.0</td>\n      <td>Heavy oil</td>\n      <td>15.0</td>\n      <td>VOLKSWAGEN JETTA</td>\n      <td>Most deprived 10%</td>\n      <td>Urban area</td>\n      <td>-1</td>\n      <td>NaN</td>\n      <td>NaN</td>\n      <td>NaN</td>\n      <td>NaN</td>\n      <td>NaN</td>\n      <td>NaN</td>\n      <td>NaN</td>\n      <td>NaN</td>\n      <td>NaN</td>\n      <td>NaN</td>\n      <td>NaN</td>\n      <td>NaN</td>\n      <td>NaN</td>\n      <td>NaN</td>\n      <td>NaN</td>\n      <td>NaN</td>\n      <td>NaN</td>\n      <td>NaN</td>\n    </tr>\n    <tr>\n      <th>223216</th>\n      <td>2022991296144</td>\n      <td>2022</td>\n      <td>991296144</td>\n      <td>281243.0</td>\n      <td>680495.0</td>\n      <td>-3.905923</td>\n      <td>56.002646</td>\n      <td>Police Scotland</td>\n      <td>Slight</td>\n      <td>6</td>\n      <td>1</td>\n      <td>17/12/2022</td>\n      <td>Saturday</td>\n      <td>09:44</td>\n      <td>-1</td>\n      <td>Falkirk</td>\n      <td>Falkirk</td>\n      <td>Motorway</td>\n      <td>876</td>\n      <td>Dual carriageway</td>\n      <td>70</td>\n      <td>Not at junction or within 20 metres</td>\n      <td>Data missing or out of range</td>\n      <td>Not at junction or within 20 metres</td>\n      <td>Unknown</td>\n      <td>None within 50 metres</td>\n      <td>No physical crossing facilities within 50 metres</td>\n      <td>Daylight</td>\n      <td>Fine + high winds</td>\n      <td>Frost or ice</td>\n      <td>None</td>\n      <td>Previous accident</td>\n      <td>Rural</td>\n      <td>Yes</td>\n      <td>Data missing or out of range</td>\n      <td>-1</td>\n      <td>2022.0</td>\n      <td>991296144</td>\n      <td>4.0</td>\n      <td>Car</td>\n      <td>No tow/articulation</td>\n      <td>Going ahead other</td>\n      <td>East</td>\n      <td>East</td>\n      <td>On main carriageway - not in restricted lane</td>\n      <td>Not at or within 20 metres of junction</td>\n      <td>Skidded</td>\n      <td>None</td>\n      <td>Did not leave carriageway</td>\n      <td>None</td>\n      <td>Did not impact</td>\n      <td>No</td>\n      <td>Not known</td>\n      <td>Male</td>\n      <td>24.0</td>\n      <td>21 - 25</td>\n      <td>1242.0</td>\n      <td>Petrol</td>\n      <td>11.0</td>\n      <td>FORD FIESTA</td>\n      <td>More deprived 20-30%</td>\n      <td>Urban area</td>\n      <td>-1</td>\n      <td>NaN</td>\n      <td>NaN</td>\n      <td>NaN</td>\n      <td>NaN</td>\n      <td>NaN</td>\n      <td>NaN</td>\n      <td>NaN</td>\n      <td>NaN</td>\n      <td>NaN</td>\n      <td>NaN</td>\n      <td>NaN</td>\n      <td>NaN</td>\n      <td>NaN</td>\n      <td>NaN</td>\n      <td>NaN</td>\n      <td>NaN</td>\n      <td>NaN</td>\n      <td>NaN</td>\n    </tr>\n    <tr>\n      <th>223217</th>\n      <td>2022991296144</td>\n      <td>2022</td>\n      <td>991296144</td>\n      <td>281243.0</td>\n      <td>680495.0</td>\n      <td>-3.905923</td>\n      <td>56.002646</td>\n      <td>Police Scotland</td>\n      <td>Slight</td>\n      <td>6</td>\n      <td>1</td>\n      <td>17/12/2022</td>\n      <td>Saturday</td>\n      <td>09:44</td>\n      <td>-1</td>\n      <td>Falkirk</td>\n      <td>Falkirk</td>\n      <td>Motorway</td>\n      <td>876</td>\n      <td>Dual carriageway</td>\n      <td>70</td>\n      <td>Not at junction or within 20 metres</td>\n      <td>Data missing or out of range</td>\n      <td>Not at junction or within 20 metres</td>\n      <td>Unknown</td>\n      <td>None within 50 metres</td>\n      <td>No physical crossing facilities within 50 metres</td>\n      <td>Daylight</td>\n      <td>Fine + high winds</td>\n      <td>Frost or ice</td>\n      <td>None</td>\n      <td>Previous accident</td>\n      <td>Rural</td>\n      <td>Yes</td>\n      <td>Data missing or out of range</td>\n      <td>-1</td>\n      <td>2022.0</td>\n      <td>991296144</td>\n      <td>5.0</td>\n      <td>Car</td>\n      <td>Single trailer</td>\n      <td>Going ahead left-hand bend</td>\n      <td>East</td>\n      <td>East</td>\n      <td>On main carriageway - not in restricted lane</td>\n      <td>Not at or within 20 metres of junction</td>\n      <td>Skidded</td>\n      <td>Previous accident</td>\n      <td>Nearside</td>\n      <td>None</td>\n      <td>Front</td>\n      <td>No</td>\n      <td>Not known</td>\n      <td>Male</td>\n      <td>37.0</td>\n      <td>36 - 45</td>\n      <td>1910.0</td>\n      <td>Heavy oil</td>\n      <td>16.0</td>\n      <td>VAUXHALL VECTRA</td>\n      <td>Less deprived 40-50%</td>\n      <td>Rural</td>\n      <td>-1</td>\n      <td>NaN</td>\n      <td>NaN</td>\n      <td>NaN</td>\n      <td>NaN</td>\n      <td>NaN</td>\n      <td>NaN</td>\n      <td>NaN</td>\n      <td>NaN</td>\n      <td>NaN</td>\n      <td>NaN</td>\n      <td>NaN</td>\n      <td>NaN</td>\n      <td>NaN</td>\n      <td>NaN</td>\n      <td>NaN</td>\n      <td>NaN</td>\n      <td>NaN</td>\n      <td>NaN</td>\n    </tr>\n    <tr>\n      <th>223218</th>\n      <td>2022991296144</td>\n      <td>2022</td>\n      <td>991296144</td>\n      <td>281243.0</td>\n      <td>680495.0</td>\n      <td>-3.905923</td>\n      <td>56.002646</td>\n      <td>Police Scotland</td>\n      <td>Slight</td>\n      <td>6</td>\n      <td>1</td>\n      <td>17/12/2022</td>\n      <td>Saturday</td>\n      <td>09:44</td>\n      <td>-1</td>\n      <td>Falkirk</td>\n      <td>Falkirk</td>\n      <td>Motorway</td>\n      <td>876</td>\n      <td>Dual carriageway</td>\n      <td>70</td>\n      <td>Not at junction or within 20 metres</td>\n      <td>Data missing or out of range</td>\n      <td>Not at junction or within 20 metres</td>\n      <td>Unknown</td>\n      <td>None within 50 metres</td>\n      <td>No physical crossing facilities within 50 metres</td>\n      <td>Daylight</td>\n      <td>Fine + high winds</td>\n      <td>Frost or ice</td>\n      <td>None</td>\n      <td>Previous accident</td>\n      <td>Rural</td>\n      <td>Yes</td>\n      <td>Data missing or out of range</td>\n      <td>-1</td>\n      <td>2022.0</td>\n      <td>991296144</td>\n      <td>6.0</td>\n      <td>Van / Goods 3.5 tonnes mgw or under</td>\n      <td>No tow/articulation</td>\n      <td>Going ahead left-hand bend</td>\n      <td>East</td>\n      <td>East</td>\n      <td>On main carriageway - not in restricted lane</td>\n      <td>Not at or within 20 metres of junction</td>\n      <td>None</td>\n      <td>None</td>\n      <td>Did not leave carriageway</td>\n      <td>None</td>\n      <td>Nearside</td>\n      <td>No</td>\n      <td>Not known</td>\n      <td>Male</td>\n      <td>42.0</td>\n      <td>36 - 45</td>\n      <td>1995.0</td>\n      <td>Heavy oil</td>\n      <td>0.0</td>\n      <td>FORD TRANSIT</td>\n      <td>More deprived 20-30%</td>\n      <td>Urban area</td>\n      <td>-1</td>\n      <td>NaN</td>\n      <td>NaN</td>\n      <td>NaN</td>\n      <td>NaN</td>\n      <td>NaN</td>\n      <td>NaN</td>\n      <td>NaN</td>\n      <td>NaN</td>\n      <td>NaN</td>\n      <td>NaN</td>\n      <td>NaN</td>\n      <td>NaN</td>\n      <td>NaN</td>\n      <td>NaN</td>\n      <td>NaN</td>\n      <td>NaN</td>\n      <td>NaN</td>\n      <td>NaN</td>\n    </tr>\n  </tbody>\n</table>\n<p>2048 rows × 81 columns</p>\n</div>"
     },
     "execution_count": 155,
     "metadata": {},
     "output_type": "execute_result"
    }
   ],
   "source": [
    "df[df['weather_conditions'] == 'Fine + high winds']"
   ],
   "metadata": {
    "collapsed": false,
    "ExecuteTime": {
     "end_time": "2024-05-13T19:52:42.863957Z",
     "start_time": "2024-05-13T19:52:42.794821300Z"
    }
   },
   "id": "e8b589c8e0db1581"
  },
  {
   "cell_type": "code",
   "execution_count": 106,
   "id": "32264847",
   "metadata": {
    "ExecuteTime": {
     "end_time": "2024-05-11T10:43:57.742045500Z",
     "start_time": "2024-05-11T10:43:57.667883400Z"
    }
   },
   "outputs": [],
   "source": [
    "df[\"light_conditions\"].replace({\n",
    "    1: 'Daylight',\n",
    "    4: 'Darkness - lights lit',\n",
    "    5: 'Darkness - lights unlit',\n",
    "    6: 'Darkness - no lighting',\n",
    "    7: 'Darkness - lighting unknown',\n",
    "    -1: 'Data missing or out of range'\n",
    "}, inplace=True)\n"
   ]
  },
  {
   "cell_type": "code",
   "execution_count": 107,
   "id": "ff265d8b",
   "metadata": {
    "ExecuteTime": {
     "end_time": "2024-05-11T10:43:57.760137300Z",
     "start_time": "2024-05-11T10:43:57.697655600Z"
    }
   },
   "outputs": [],
   "source": [
    "df[\"weather_conditions\"].replace({\n",
    "    1: 'Fine no high winds',\n",
    "    2: 'Raining no high winds',\n",
    "    3: 'Snowing no high winds',\n",
    "    4: 'Fine + high winds',\n",
    "    5: 'Raining + high winds',\n",
    "    6: 'Snowing + high winds',\n",
    "    7: 'Fog or mist',\n",
    "    8: 'Other',\n",
    "    9: 'Unknown',\n",
    "    -1: 'Data missing or out of range'\n",
    "}, inplace=True)\n"
   ]
  },
  {
   "cell_type": "code",
   "execution_count": 108,
   "id": "ba94d679",
   "metadata": {
    "ExecuteTime": {
     "end_time": "2024-05-11T10:43:57.852721500Z",
     "start_time": "2024-05-11T10:43:57.727046300Z"
    }
   },
   "outputs": [],
   "source": [
    "df[\"road_surface_conditions\"].replace({\n",
    "    1: 'Dry',\n",
    "    2: 'Wet or damp',\n",
    "    3: 'Snow',\n",
    "    4: 'Frost or ice',\n",
    "    5: 'Flood over 3cm deep',\n",
    "    6: 'Oil or diesel',\n",
    "    7: 'Mud',\n",
    "    -1: 'Data missing or out of range',\n",
    "    9: 'Unknown (self-reported)'\n",
    "}, inplace=True)\n"
   ]
  },
  {
   "cell_type": "code",
   "execution_count": 109,
   "id": "f199ea32",
   "metadata": {
    "ExecuteTime": {
     "end_time": "2024-05-11T10:43:57.858719500Z",
     "start_time": "2024-05-11T10:43:57.777137100Z"
    }
   },
   "outputs": [],
   "source": [
    "df[\"special_conditions_at_site\"].replace({\n",
    "    0: 'None',\n",
    "    1: 'Auto traffic signal - out',\n",
    "    2: 'Auto signal part defective',\n",
    "    3: 'Road sign or marking defective or obscured',\n",
    "    4: 'Roadworks',\n",
    "    5: 'Road surface defective',\n",
    "    6: 'Oil or diesel',\n",
    "    7: 'Mud',\n",
    "    -1: 'Data missing or out of range',\n",
    "    9: 'Unknown (self-reported)'\n",
    "}, inplace=True)\n"
   ]
  },
  {
   "cell_type": "code",
   "execution_count": 110,
   "id": "39e4108e",
   "metadata": {
    "ExecuteTime": {
     "end_time": "2024-05-11T10:43:57.859721100Z",
     "start_time": "2024-05-11T10:43:57.807401Z"
    }
   },
   "outputs": [],
   "source": [
    "df[\"carriageway_hazards\"].replace({\n",
    "    0: 'None',\n",
    "    1: 'Vehicle load on road',\n",
    "    2: 'Other object on road',\n",
    "    3: 'Previous accident',\n",
    "    4: 'Dog on road',\n",
    "    5: 'Other animal on road',\n",
    "    6: 'Pedestrian in carriageway - not injured',\n",
    "    7: 'Any animal in carriageway (except ridden horse)',\n",
    "    -1: 'Data missing or out of range',\n",
    "    9: 'Unknown (self-reported)'\n",
    "}, inplace=True)\n"
   ]
  },
  {
   "cell_type": "code",
   "execution_count": 111,
   "id": "11c07a53",
   "metadata": {
    "ExecuteTime": {
     "end_time": "2024-05-11T10:43:57.861720900Z",
     "start_time": "2024-05-11T10:43:57.823472700Z"
    }
   },
   "outputs": [],
   "source": [
    "df[\"urban_or_rural_area\"].replace({\n",
    "    1: 'Urban',\n",
    "    2: 'Rural',\n",
    "    3: 'Unallocated',\n",
    "    -1: 'Data missing or out of range'\n",
    "}, inplace=True)\n"
   ]
  },
  {
   "cell_type": "code",
   "execution_count": 112,
   "id": "2fc028a9",
   "metadata": {
    "ExecuteTime": {
     "end_time": "2024-05-11T10:43:57.879050900Z",
     "start_time": "2024-05-11T10:43:57.837562900Z"
    }
   },
   "outputs": [],
   "source": [
    "df[\"did_police_officer_attend_scene_of_accident\"].replace({\n",
    "    1: 'Yes',\n",
    "    2: 'No',\n",
    "    3: 'No - accident was reported using a self completion form (self rep only)',\n",
    "    -1: 'Data missing or out of range'\n",
    "}, inplace=True)\n"
   ]
  },
  {
   "cell_type": "code",
   "execution_count": 113,
   "id": "34875e8a",
   "metadata": {
    "ExecuteTime": {
     "end_time": "2024-05-11T10:43:57.952644700Z",
     "start_time": "2024-05-11T10:43:57.853722800Z"
    }
   },
   "outputs": [],
   "source": [
    "df[\"trunk_road_flag\"].replace({\n",
    "    1: 'Trunk (Roads managed by Highways England)',\n",
    "    2: 'Non-trunk',\n",
    "    -1: 'Data missing or out of range'\n",
    "}, inplace=True)\n"
   ]
  },
  {
   "cell_type": "code",
   "execution_count": 114,
   "id": "33e462ce",
   "metadata": {
    "ExecuteTime": {
     "end_time": "2024-05-11T10:43:58.017090400Z",
     "start_time": "2024-05-11T10:43:57.872963200Z"
    }
   },
   "outputs": [],
   "source": [
    "df[\"vehicle_type\"].replace({\n",
    "    1: 'Pedal cycle',\n",
    "    2: 'Motorcycle 50cc and under',\n",
    "    3: 'Motorcycle 125cc and under',\n",
    "    4: 'Motorcycle over 125cc and up to 500cc',\n",
    "    5: 'Motorcycle over 500cc',\n",
    "    8: 'Taxi/Private hire car',\n",
    "    9: 'Car',\n",
    "    10: 'Minibus (8 - 16 passenger seats)',\n",
    "    11: 'Bus or coach (17 or more pass seats)',\n",
    "    16: 'Ridden horse',\n",
    "    17: 'Agricultural vehicle',\n",
    "    18: 'Tram',\n",
    "    19: 'Van / Goods 3.5 tonnes mgw or under',\n",
    "    20: 'Goods over 3.5t. and under 7.5t',\n",
    "    21: 'Goods 7.5 tonnes mgw and over',\n",
    "    22: 'Mobility scooter',\n",
    "    23: 'Electric motorcycle',\n",
    "    90: 'Other vehicle',\n",
    "    97: 'Motorcycle - unknown cc',\n",
    "    98: 'Goods vehicle - unknown weight',\n",
    "    99: 'Unknown vehicle type (self rep only)',\n",
    "    103: 'Motorcycle - Scooter (1979-1998)',\n",
    "    104: 'Motorcycle (1979-1998)',\n",
    "    105: 'Motorcycle - Combination (1979-1998)',\n",
    "    106: 'Motorcycle over 125cc (1999-2004)',\n",
    "    108: 'Taxi (excluding private hire cars) (1979-2004)',\n",
    "    109: 'Car (including private hire cars) (1979-2004)',\n",
    "    110: 'Minibus/Motor caravan (1979-1998)',\n",
    "    113: 'Goods over 3.5 tonnes (1979-1998)',\n",
    "    -1: 'Data missing or out of range'\n",
    "}, inplace=True)\n"
   ]
  },
  {
   "cell_type": "code",
   "execution_count": 115,
   "id": "89e463e7",
   "metadata": {
    "ExecuteTime": {
     "end_time": "2024-05-11T10:43:58.044259500Z",
     "start_time": "2024-05-11T10:43:57.917398700Z"
    }
   },
   "outputs": [],
   "source": [
    "df[\"towing_and_articulation\"].replace({\n",
    "    0: 'No tow/articulation',\n",
    "    1: 'Articulated vehicle',\n",
    "    2: 'Double or multiple trailer',\n",
    "    3: 'Caravan',\n",
    "    4: 'Single trailer',\n",
    "    5: 'Other tow',\n",
    "    9: 'Unknown (self reported)',\n",
    "    -1: 'Data missing or out of range'\n",
    "}, inplace=True)\n"
   ]
  },
  {
   "cell_type": "code",
   "execution_count": 116,
   "id": "88e5f8d5",
   "metadata": {
    "ExecuteTime": {
     "end_time": "2024-05-11T10:43:58.057265200Z",
     "start_time": "2024-05-11T10:43:57.964721700Z"
    }
   },
   "outputs": [],
   "source": [
    "df[\"vehicle_manoeuvre\"].replace({\n",
    "    1: 'Reversing',\n",
    "    2: 'Parked',\n",
    "    3: 'Waiting to go - held up',\n",
    "    4: 'Slowing or stopping',\n",
    "    5: 'Moving off',\n",
    "    6: 'U-turn',\n",
    "    7: 'Turning left',\n",
    "    8: 'Waiting to turn left',\n",
    "    9: 'Turning right',\n",
    "    10: 'Waiting to turn right',\n",
    "    11: 'Changing lane to left',\n",
    "    12: 'Changing lane to right',\n",
    "    13: 'Overtaking moving vehicle - offside',\n",
    "    14: 'Overtaking static vehicle - offside',\n",
    "    15: 'Overtaking - nearside',\n",
    "    16: 'Going ahead left-hand bend',\n",
    "    17: 'Going ahead right-hand bend',\n",
    "    18: 'Going ahead other',\n",
    "    99: 'Unknown (self reported)',\n",
    "    -1: 'Data missing or out of range'\n",
    "}, inplace=True)\n"
   ]
  },
  {
   "cell_type": "code",
   "execution_count": 117,
   "id": "86de3d03",
   "metadata": {
    "ExecuteTime": {
     "end_time": "2024-05-11T10:43:58.177685500Z",
     "start_time": "2024-05-11T10:43:58.018186300Z"
    }
   },
   "outputs": [],
   "source": [
    "df[\"vehicle_direction_from\"].replace({\n",
    "    0: 'Parked',\n",
    "    1: 'North',\n",
    "    2: 'North East',\n",
    "    3: 'East',\n",
    "    4: 'South East',\n",
    "    5: 'South',\n",
    "    6: 'South West',\n",
    "    7: 'West',\n",
    "    8: 'North West',\n",
    "    9: 'Unknown (self reported)'\n",
    "}, inplace=True)\n"
   ]
  },
  {
   "cell_type": "code",
   "execution_count": 118,
   "id": "fd0376cf",
   "metadata": {
    "ExecuteTime": {
     "end_time": "2024-05-11T10:43:58.188796300Z",
     "start_time": "2024-05-11T10:43:58.060258800Z"
    }
   },
   "outputs": [],
   "source": [
    "df[\"vehicle_direction_to\"].replace({\n",
    "    0: 'Parked',\n",
    "    1: 'North',\n",
    "    2: 'North East',\n",
    "    3: 'East',\n",
    "    4: 'South East',\n",
    "    5: 'South',\n",
    "    6: 'South West',\n",
    "    7: 'West',\n",
    "    8: 'North West',\n",
    "    9: 'Unknown (self reported)'\n",
    "}, inplace=True)\n"
   ]
  },
  {
   "cell_type": "code",
   "execution_count": 119,
   "id": "f6012335",
   "metadata": {
    "ExecuteTime": {
     "end_time": "2024-05-11T10:43:58.189791900Z",
     "start_time": "2024-05-11T10:43:58.107493900Z"
    }
   },
   "outputs": [],
   "source": [
    "df[\"vehicle_location_restricted_lane\"].replace({\n",
    "    0: 'On main carriageway - not in restricted lane',\n",
    "    1: 'Tram/Light rail track',\n",
    "    2: 'Bus lane',\n",
    "    3: 'Busway (including guided busway)',\n",
    "    4: 'Cycle lane (on main carriageway)',\n",
    "    5: 'Cycleway or shared use footway (not part of main carriageway)',\n",
    "    6: 'On lay-by or hard shoulder',\n",
    "    7: 'Entering lay-by or hard shoulder',\n",
    "    8: 'Leaving lay-by or hard shoulder',\n",
    "    9: 'Footway (pavement)',\n",
    "    10: 'Not on carriageway',\n",
    "    99: 'Unknown (self reported)'\n",
    "}, inplace=True)\n"
   ]
  },
  {
   "cell_type": "code",
   "execution_count": 119,
   "id": "5a499943",
   "metadata": {
    "ExecuteTime": {
     "end_time": "2024-05-11T10:43:58.189791900Z",
     "start_time": "2024-05-11T10:43:58.152495Z"
    }
   },
   "outputs": [],
   "source": []
  },
  {
   "cell_type": "code",
   "execution_count": 120,
   "id": "cf7a181d",
   "metadata": {
    "ExecuteTime": {
     "end_time": "2024-05-11T10:43:58.327777300Z",
     "start_time": "2024-05-11T10:43:58.170680300Z"
    }
   },
   "outputs": [],
   "source": [
    "df[\"junction_location\"].replace({\n",
    "    -1: 'Data missing or out of range',\n",
    "    0: 'Not at or within 20 metres of junction',\n",
    "    1: 'Approaching junction or waiting/parked at junction approach',\n",
    "    2: 'Cleared junction or waiting/parked at junction exit',\n",
    "    3: 'Leaving roundabout',\n",
    "    4: 'Entering roundabout',\n",
    "    5: 'Leaving main road',\n",
    "    6: 'Entering main road',\n",
    "    7: 'Entering from slip road',\n",
    "    8: 'Mid Junction - on roundabout or on main road',\n",
    "    9: 'Unknown (self reported)'\n",
    "}, inplace=True)\n"
   ]
  },
  {
   "cell_type": "code",
   "execution_count": 121,
   "id": "fbb8f087",
   "metadata": {
    "ExecuteTime": {
     "end_time": "2024-05-11T10:43:58.329778400Z",
     "start_time": "2024-05-11T10:43:58.230151800Z"
    }
   },
   "outputs": [],
   "source": [
    "df[\"skidding_and_overturning\"].replace({\n",
    "    -1: 'Data missing or out of range',\n",
    "    0: 'None',\n",
    "    1: 'Skidded',\n",
    "    2: 'Skidded and overturned',\n",
    "    3: 'Jackknifed',\n",
    "    4: 'Jackknifed and overturned',\n",
    "    5: 'Overturned',\n",
    "    9: 'Unknown (self reported)'\n",
    "}, inplace=True)\n"
   ]
  },
  {
   "cell_type": "code",
   "execution_count": 5,
   "id": "4c6fa240",
   "metadata": {
    "ExecuteTime": {
     "end_time": "2024-05-20T14:10:02.338324600Z",
     "start_time": "2024-05-20T14:10:02.297749800Z"
    }
   },
   "outputs": [],
   "source": [
    "df[\"hit_object_in_carriageway\"].replace({\n",
    "    -1: 'Data missing or out of range',\n",
    "    0: 'None',\n",
    "    1: 'Previous accident',\n",
    "    2: 'Road works',\n",
    "    4: 'Parked vehicle',\n",
    "    5: 'Bridge (roof)',\n",
    "    6: 'Bridge (side)',\n",
    "    7: 'Bollard or refuge',\n",
    "    8: 'Open door of vehicle',\n",
    "    9: 'Central island of roundabout',\n",
    "    10: 'Kerb',\n",
    "    11: 'Other object',\n",
    "    12: 'Any animal (except ridden horse)',\n",
    "    99: 'Unknown (self reported)'\n",
    "}, inplace=True)\n"
   ]
  },
  {
   "cell_type": "code",
   "execution_count": null,
   "outputs": [],
   "source": [],
   "metadata": {
    "collapsed": false
   },
   "id": "a8933ef5e170bba6"
  },
  {
   "cell_type": "code",
   "execution_count": 9,
   "outputs": [
    {
     "name": "stdout",
     "output_type": "stream",
     "text": [
      "       accident_index  accident_year_x accident_reference_x  \\\n",
      "22      2022010352588             2022             10352588   \n",
      "23      2022010352588             2022             10352588   \n",
      "24      2022010352588             2022             10352588   \n",
      "25      2022010352588             2022             10352588   \n",
      "26      2022010352588             2022             10352588   \n",
      "...               ...              ...                  ...   \n",
      "222655  2022991249624             2022            991249624   \n",
      "222702  2022991250569             2022            991250569   \n",
      "223026  2022991257052             2022            991257052   \n",
      "223144  2022991259274             2022            991259274   \n",
      "223157  2022991260785             2022            991260785   \n",
      "\n",
      "        location_easting_osgr  location_northing_osgr  longitude   latitude  \\\n",
      "22                   543159.0                181261.0   0.061626  51.512146   \n",
      "23                   543159.0                181261.0   0.061626  51.512146   \n",
      "24                   543159.0                181261.0   0.061626  51.512146   \n",
      "25                   543159.0                181261.0   0.061626  51.512146   \n",
      "26                   543159.0                181261.0   0.061626  51.512146   \n",
      "...                       ...                     ...        ...        ...   \n",
      "222655               261585.0                664672.0  -4.212790  55.855313   \n",
      "222702               255674.0                665567.0  -4.307612  55.861615   \n",
      "223026               361323.0                758841.0  -2.633537  56.719637   \n",
      "223144               289966.0                644967.0  -3.751709  55.685663   \n",
      "223157               394082.0                806003.0  -2.099432  57.144880   \n",
      "\n",
      "        police_force  accident_severity  number_of_vehicles  \\\n",
      "22                 1                  2                   1   \n",
      "23                 1                  2                   1   \n",
      "24                 1                  2                   1   \n",
      "25                 1                  2                   1   \n",
      "26                 1                  2                   1   \n",
      "...              ...                ...                 ...   \n",
      "222655            99                  2                   2   \n",
      "222702            99                  3                   1   \n",
      "223026            99                  3                   1   \n",
      "223144            99                  3                   1   \n",
      "223157            99                  1                   1   \n",
      "\n",
      "        number_of_casualties        date  day_of_week   time  \\\n",
      "22                         5  01/01/2022            7  02:55   \n",
      "23                         5  01/01/2022            7  02:55   \n",
      "24                         5  01/01/2022            7  02:55   \n",
      "25                         5  01/01/2022            7  02:55   \n",
      "26                         5  01/01/2022            7  02:55   \n",
      "...                      ...         ...          ...    ...   \n",
      "222655                     1  03/12/2022            7  12:31   \n",
      "222702                     1  05/12/2022            2  17:25   \n",
      "223026                     1  23/12/2022            6  17:00   \n",
      "223144                     1  26/12/2022            2  16:00   \n",
      "223157                     1  31/12/2022            7  00:46   \n",
      "\n",
      "        local_authority_district local_authority_ons_district  \\\n",
      "22                            -1                    E09000025   \n",
      "23                            -1                    E09000025   \n",
      "24                            -1                    E09000025   \n",
      "25                            -1                    E09000025   \n",
      "26                            -1                    E09000025   \n",
      "...                          ...                          ...   \n",
      "222655                        -1                    S12000049   \n",
      "222702                        -1                    S12000049   \n",
      "223026                        -1                    S12000041   \n",
      "223144                        -1                    S12000029   \n",
      "223157                        -1                    S12000033   \n",
      "\n",
      "       local_authority_highway  first_road_class  first_road_number  \\\n",
      "22                   E09000025                 3                117   \n",
      "23                   E09000025                 3                117   \n",
      "24                   E09000025                 3                117   \n",
      "25                   E09000025                 3                117   \n",
      "26                   E09000025                 3                117   \n",
      "...                        ...               ...                ...   \n",
      "222655               S12000049                 6                  0   \n",
      "222702               S12000049                 6                  0   \n",
      "223026               S12000041                 3                933   \n",
      "223144               S12000029                 6                  0   \n",
      "223157               S12000033                 4                986   \n",
      "\n",
      "        road_type  speed_limit  junction_detail  junction_control  \\\n",
      "22              6           30                3                 4   \n",
      "23              6           30                3                 4   \n",
      "24              6           30                3                 4   \n",
      "25              6           30                3                 4   \n",
      "26              6           30                3                 4   \n",
      "...           ...          ...              ...               ...   \n",
      "222655          7           30                0                -1   \n",
      "222702          6           30                0                -1   \n",
      "223026          6           60                0                -1   \n",
      "223144          3           30                0                -1   \n",
      "223157          6           30                3                 2   \n",
      "\n",
      "        second_road_class  second_road_number  \\\n",
      "22                      6                   0   \n",
      "23                      6                   0   \n",
      "24                      6                   0   \n",
      "25                      6                   0   \n",
      "26                      6                   0   \n",
      "...                   ...                 ...   \n",
      "222655                  0                  -1   \n",
      "222702                  0                  -1   \n",
      "223026                  0                  -1   \n",
      "223144                  0                  -1   \n",
      "223157                  6                   0   \n",
      "\n",
      "        pedestrian_crossing_human_control  \\\n",
      "22                                      0   \n",
      "23                                      0   \n",
      "24                                      0   \n",
      "25                                      0   \n",
      "26                                      0   \n",
      "...                                   ...   \n",
      "222655                                  0   \n",
      "222702                                  0   \n",
      "223026                                  0   \n",
      "223144                                  0   \n",
      "223157                                  0   \n",
      "\n",
      "        pedestrian_crossing_physical_facilities  light_conditions  \\\n",
      "22                                            0                 4   \n",
      "23                                            0                 4   \n",
      "24                                            0                 4   \n",
      "25                                            0                 4   \n",
      "26                                            0                 4   \n",
      "...                                         ...               ...   \n",
      "222655                                        0                 1   \n",
      "222702                                        0                 4   \n",
      "223026                                        0                 6   \n",
      "223144                                        0                 1   \n",
      "223157                                        5                 4   \n",
      "\n",
      "        weather_conditions  road_surface_conditions  \\\n",
      "22                       8                        1   \n",
      "23                       8                        1   \n",
      "24                       8                        1   \n",
      "25                       8                        1   \n",
      "26                       8                        1   \n",
      "...                    ...                      ...   \n",
      "222655                   1                        1   \n",
      "222702                   1                        1   \n",
      "223026                   2                        2   \n",
      "223144                   9                        4   \n",
      "223157                   1                        1   \n",
      "\n",
      "        special_conditions_at_site  carriageway_hazards  urban_or_rural_area  \\\n",
      "22                               0                    0                    1   \n",
      "23                               0                    0                    1   \n",
      "24                               0                    0                    1   \n",
      "25                               0                    0                    1   \n",
      "26                               0                    0                    1   \n",
      "...                            ...                  ...                  ...   \n",
      "222655                           0                    2                    1   \n",
      "222702                           0                    0                    1   \n",
      "223026                           0                    0                    2   \n",
      "223144                           0                    0                    2   \n",
      "223157                           0                    0                    1   \n",
      "\n",
      "        did_police_officer_attend_scene_of_accident  trunk_road_flag  \\\n",
      "22                                                1                2   \n",
      "23                                                1                2   \n",
      "24                                                1                2   \n",
      "25                                                1                2   \n",
      "26                                                1                2   \n",
      "...                                             ...              ...   \n",
      "222655                                            1               -1   \n",
      "222702                                            1               -1   \n",
      "223026                                            1               -1   \n",
      "223144                                            2               -1   \n",
      "223157                                            1               -1   \n",
      "\n",
      "       lsoa_of_accident_location  accident_year_y accident_reference_y  \\\n",
      "22                     E01003481           2022.0             10352588   \n",
      "23                     E01003481           2022.0             10352588   \n",
      "24                     E01003481           2022.0             10352588   \n",
      "25                     E01003481           2022.0             10352588   \n",
      "26                     E01003481           2022.0             10352588   \n",
      "...                          ...              ...                  ...   \n",
      "222655                        -1           2022.0            991249624   \n",
      "222702                        -1           2022.0            991250569   \n",
      "223026                        -1           2022.0            991257052   \n",
      "223144                        -1           2022.0            991259274   \n",
      "223157                        -1           2022.0            991260785   \n",
      "\n",
      "        vehicle_reference_x  vehicle_type  towing_and_articulation  \\\n",
      "22                      1.0           9.0                      0.0   \n",
      "23                      1.0           9.0                      0.0   \n",
      "24                      1.0           9.0                      0.0   \n",
      "25                      1.0           9.0                      0.0   \n",
      "26                      1.0           9.0                      0.0   \n",
      "...                     ...           ...                      ...   \n",
      "222655                  1.0           9.0                      0.0   \n",
      "222702                  1.0           9.0                      0.0   \n",
      "223026                  1.0           9.0                      0.0   \n",
      "223144                  1.0           9.0                      0.0   \n",
      "223157                  1.0           9.0                      0.0   \n",
      "\n",
      "        vehicle_manoeuvre  vehicle_direction_from  vehicle_direction_to  \\\n",
      "22                   17.0                     5.0                   1.0   \n",
      "23                   17.0                     5.0                   1.0   \n",
      "24                   17.0                     5.0                   1.0   \n",
      "25                   17.0                     5.0                   1.0   \n",
      "26                   17.0                     5.0                   1.0   \n",
      "...                   ...                     ...                   ...   \n",
      "222655               18.0                     7.0                   2.0   \n",
      "222702               18.0                     8.0                   4.0   \n",
      "223026               16.0                     5.0                   1.0   \n",
      "223144               16.0                     2.0                   6.0   \n",
      "223157               16.0                     8.0                   2.0   \n",
      "\n",
      "        vehicle_location_restricted_lane  junction_location  \\\n",
      "22                                   0.0                6.0   \n",
      "23                                   0.0                6.0   \n",
      "24                                   0.0                6.0   \n",
      "25                                   0.0                6.0   \n",
      "26                                   0.0                6.0   \n",
      "...                                  ...                ...   \n",
      "222655                               0.0                0.0   \n",
      "222702                               0.0                0.0   \n",
      "223026                               9.0                0.0   \n",
      "223144                               0.0                0.0   \n",
      "223157                               0.0                1.0   \n",
      "\n",
      "        skidding_and_overturning hit_object_in_carriageway  \\\n",
      "22                           0.0                      Kerb   \n",
      "23                           0.0                      Kerb   \n",
      "24                           0.0                      Kerb   \n",
      "25                           0.0                      Kerb   \n",
      "26                           0.0                      Kerb   \n",
      "...                          ...                       ...   \n",
      "222655                       0.0                      Kerb   \n",
      "222702                       0.0                      Kerb   \n",
      "223026                       1.0                      Kerb   \n",
      "223144                       1.0                      Kerb   \n",
      "223157                       0.0                      Kerb   \n",
      "\n",
      "        vehicle_leaving_carriageway  hit_object_off_carriageway  \\\n",
      "22                              2.0                         4.0   \n",
      "23                              2.0                         4.0   \n",
      "24                              2.0                         4.0   \n",
      "25                              2.0                         4.0   \n",
      "26                              2.0                         4.0   \n",
      "...                             ...                         ...   \n",
      "222655                          0.0                         0.0   \n",
      "222702                          1.0                        10.0   \n",
      "223026                          7.0                         0.0   \n",
      "223144                          0.0                         0.0   \n",
      "223157                          8.0                         0.0   \n",
      "\n",
      "        first_point_of_impact  vehicle_left_hand_drive  \\\n",
      "22                        1.0                      1.0   \n",
      "23                        1.0                      1.0   \n",
      "24                        1.0                      1.0   \n",
      "25                        1.0                      1.0   \n",
      "26                        1.0                      1.0   \n",
      "...                       ...                      ...   \n",
      "222655                    3.0                      1.0   \n",
      "222702                    4.0                      1.0   \n",
      "223026                    1.0                      1.0   \n",
      "223144                    4.0                      1.0   \n",
      "223157                    1.0                      1.0   \n",
      "\n",
      "        journey_purpose_of_driver  sex_of_driver  age_of_driver  \\\n",
      "22                            2.0            1.0           32.0   \n",
      "23                            2.0            1.0           32.0   \n",
      "24                            2.0            1.0           32.0   \n",
      "25                            2.0            1.0           32.0   \n",
      "26                            2.0            1.0           32.0   \n",
      "...                           ...            ...            ...   \n",
      "222655                        6.0            1.0           21.0   \n",
      "222702                        6.0            2.0           54.0   \n",
      "223026                        2.0            2.0           33.0   \n",
      "223144                        5.0            1.0           47.0   \n",
      "223157                        6.0            1.0           24.0   \n",
      "\n",
      "        age_band_of_driver  engine_capacity_cc  propulsion_code  \\\n",
      "22                     6.0              1496.0              1.0   \n",
      "23                     6.0              1496.0              1.0   \n",
      "24                     6.0              1496.0              1.0   \n",
      "25                     6.0              1496.0              1.0   \n",
      "26                     6.0              1496.0              1.0   \n",
      "...                    ...                 ...              ...   \n",
      "222655                 5.0              1242.0              1.0   \n",
      "222702                 8.0               999.0              1.0   \n",
      "223026                 6.0              1598.0              2.0   \n",
      "223144                 8.0              1968.0              2.0   \n",
      "223157                 5.0              1596.0              1.0   \n",
      "\n",
      "        age_of_vehicle generic_make_model  driver_imd_decile  \\\n",
      "22                 4.0       TOYOTA YARIS                4.0   \n",
      "23                 4.0       TOYOTA YARIS                4.0   \n",
      "24                 4.0       TOYOTA YARIS                4.0   \n",
      "25                 4.0       TOYOTA YARIS                4.0   \n",
      "26                 4.0       TOYOTA YARIS                4.0   \n",
      "...                ...                ...                ...   \n",
      "222655            12.0        FORD FIESTA                6.0   \n",
      "222702             6.0    VOLKSWAGEN POLO                1.0   \n",
      "223026             6.0     VAUXHALL ASTRA               -1.0   \n",
      "223144             9.0            AUDI A5                3.0   \n",
      "223157             9.0        FORD FIESTA               10.0   \n",
      "\n",
      "        driver_home_area_type lsoa_of_driver  accident_year  \\\n",
      "22                        1.0      E01003482         2022.0   \n",
      "23                        1.0      E01003482         2022.0   \n",
      "24                        1.0      E01003482         2022.0   \n",
      "25                        1.0      E01003482         2022.0   \n",
      "26                        1.0      E01003482         2022.0   \n",
      "...                       ...            ...            ...   \n",
      "222655                    1.0             -1            NaN   \n",
      "222702                    1.0             -1            NaN   \n",
      "223026                   -1.0             -1            NaN   \n",
      "223144                    2.0             -1            NaN   \n",
      "223157                    1.0             -1            NaN   \n",
      "\n",
      "       accident_reference  vehicle_reference_y  casualty_reference  \\\n",
      "22               10352588                  1.0                 1.0   \n",
      "23               10352588                  1.0                 2.0   \n",
      "24               10352588                  1.0                 3.0   \n",
      "25               10352588                  1.0                 4.0   \n",
      "26               10352588                  1.0                 5.0   \n",
      "...                   ...                  ...                 ...   \n",
      "222655                NaN                  NaN                 NaN   \n",
      "222702                NaN                  NaN                 NaN   \n",
      "223026                NaN                  NaN                 NaN   \n",
      "223144                NaN                  NaN                 NaN   \n",
      "223157                NaN                  NaN                 NaN   \n",
      "\n",
      "        casualty_class  sex_of_casualty  age_of_casualty  \\\n",
      "22                 1.0              1.0             32.0   \n",
      "23                 2.0              1.0             33.0   \n",
      "24                 2.0              2.0             24.0   \n",
      "25                 2.0              1.0             25.0   \n",
      "26                 2.0              1.0             24.0   \n",
      "...                ...              ...              ...   \n",
      "222655             NaN              NaN              NaN   \n",
      "222702             NaN              NaN              NaN   \n",
      "223026             NaN              NaN              NaN   \n",
      "223144             NaN              NaN              NaN   \n",
      "223157             NaN              NaN              NaN   \n",
      "\n",
      "        age_band_of_casualty  casualty_severity  pedestrian_location  \\\n",
      "22                       6.0                2.0                  0.0   \n",
      "23                       6.0                2.0                  0.0   \n",
      "24                       5.0                2.0                  0.0   \n",
      "25                       5.0                2.0                  0.0   \n",
      "26                       5.0                3.0                  0.0   \n",
      "...                      ...                ...                  ...   \n",
      "222655                   NaN                NaN                  NaN   \n",
      "222702                   NaN                NaN                  NaN   \n",
      "223026                   NaN                NaN                  NaN   \n",
      "223144                   NaN                NaN                  NaN   \n",
      "223157                   NaN                NaN                  NaN   \n",
      "\n",
      "        pedestrian_movement  car_passenger  bus_or_coach_passenger  \\\n",
      "22                      0.0            0.0                     0.0   \n",
      "23                      0.0            1.0                     0.0   \n",
      "24                      0.0            2.0                     0.0   \n",
      "25                      0.0            2.0                     0.0   \n",
      "26                      0.0            2.0                     0.0   \n",
      "...                     ...            ...                     ...   \n",
      "222655                  NaN            NaN                     NaN   \n",
      "222702                  NaN            NaN                     NaN   \n",
      "223026                  NaN            NaN                     NaN   \n",
      "223144                  NaN            NaN                     NaN   \n",
      "223157                  NaN            NaN                     NaN   \n",
      "\n",
      "        pedestrian_road_maintenance_worker  casualty_type  \\\n",
      "22                                     0.0            9.0   \n",
      "23                                     0.0            9.0   \n",
      "24                                     0.0            9.0   \n",
      "25                                     0.0            9.0   \n",
      "26                                     0.0            9.0   \n",
      "...                                    ...            ...   \n",
      "222655                                 NaN            NaN   \n",
      "222702                                 NaN            NaN   \n",
      "223026                                 NaN            NaN   \n",
      "223144                                 NaN            NaN   \n",
      "223157                                 NaN            NaN   \n",
      "\n",
      "        casualty_home_area_type  casualty_imd_decile lsoa_of_casualty  \n",
      "22                          1.0                  4.0        E01003482  \n",
      "23                          1.0                  4.0        E01003482  \n",
      "24                          1.0                  4.0        E01003482  \n",
      "25                          1.0                  4.0        E01003482  \n",
      "26                          1.0                  4.0        E01003482  \n",
      "...                         ...                  ...              ...  \n",
      "222655                      NaN                  NaN              NaN  \n",
      "222702                      NaN                  NaN              NaN  \n",
      "223026                      NaN                  NaN              NaN  \n",
      "223144                      NaN                  NaN              NaN  \n",
      "223157                      NaN                  NaN              NaN  \n",
      "\n",
      "[3340 rows x 81 columns]\n"
     ]
    }
   ],
   "source": [
    "print(df[df['hit_object_in_carriageway'] == 'Kerb'])"
   ],
   "metadata": {
    "collapsed": false,
    "ExecuteTime": {
     "end_time": "2024-05-20T14:12:02.341809300Z",
     "start_time": "2024-05-20T14:12:02.289229200Z"
    }
   },
   "id": "848d2862cdc2e007"
  },
  {
   "cell_type": "code",
   "execution_count": 123,
   "id": "ba7c34be",
   "metadata": {
    "ExecuteTime": {
     "end_time": "2024-05-11T10:43:58.434134400Z",
     "start_time": "2024-05-11T10:43:58.325776600Z"
    }
   },
   "outputs": [],
   "source": [
    "df[\"vehicle_leaving_carriageway\"].replace({\n",
    "    -1: 'Data missing or out of range',\n",
    "    0: 'Did not leave carriageway',\n",
    "    1: 'Nearside',\n",
    "    2: 'Nearside and rebounded',\n",
    "    3: 'Straight ahead at junction',\n",
    "    4: 'Offside on to central reservation',\n",
    "    5: 'Offside on to central reservation + rebounded',\n",
    "    6: 'Offside - crossed central reservation',\n",
    "    7: 'Offside',\n",
    "    8: 'Offside and rebounded',\n",
    "    9: 'Unknown (self reported)'\n",
    "}, inplace=True)\n"
   ]
  },
  {
   "cell_type": "code",
   "execution_count": 124,
   "id": "089f1edb",
   "metadata": {
    "ExecuteTime": {
     "end_time": "2024-05-11T10:43:58.435134400Z",
     "start_time": "2024-05-11T10:43:58.372986Z"
    }
   },
   "outputs": [],
   "source": [
    "df[\"hit_object_off_carriageway\"].replace({\n",
    "    -1: 'Data missing or out of range',\n",
    "    0: 'None',\n",
    "    1: 'Road sign or traffic signal',\n",
    "    2: 'Lamp post',\n",
    "    3: 'Telegraph or electricity pole',\n",
    "    4: 'Tree',\n",
    "    5: 'Bus stop or bus shelter',\n",
    "    6: 'Central crash barrier',\n",
    "    7: 'Near/Offside crash barrier',\n",
    "    8: 'Submerged in water',\n",
    "    9: 'Entered ditch',\n",
    "    10: 'Other permanent object',\n",
    "    11: 'Wall or fence',\n",
    "    99: 'Unknown (self reported)'\n",
    "}, inplace=True)\n"
   ]
  },
  {
   "cell_type": "code",
   "execution_count": 125,
   "id": "7d4418e3",
   "metadata": {
    "ExecuteTime": {
     "end_time": "2024-05-11T10:43:58.484646700Z",
     "start_time": "2024-05-11T10:43:58.420134600Z"
    }
   },
   "outputs": [],
   "source": [
    "df[\"first_point_of_impact\"].replace({\n",
    "    -1: 'Data missing or out of range',\n",
    "    0: 'Did not impact',\n",
    "    1: 'Front',\n",
    "    2: 'Back',\n",
    "    3: 'Offside',\n",
    "    4: 'Nearside',\n",
    "    9: 'Unknown (self reported)'\n",
    "}, inplace=True)\n"
   ]
  },
  {
   "cell_type": "code",
   "execution_count": 126,
   "id": "f8ad8709",
   "metadata": {
    "ExecuteTime": {
     "end_time": "2024-05-11T10:43:58.515652400Z",
     "start_time": "2024-05-11T10:43:58.453289900Z"
    }
   },
   "outputs": [],
   "source": [
    "df[\"vehicle_left_hand_drive\"].replace({\n",
    "    -1: 'Data missing or out of range',\n",
    "    1: 'No',\n",
    "    2: 'Yes',\n",
    "    9: 'Unknown'\n",
    "}, inplace=True)\n"
   ]
  },
  {
   "cell_type": "code",
   "execution_count": 127,
   "id": "84cb961c",
   "metadata": {
    "ExecuteTime": {
     "end_time": "2024-05-11T10:43:58.536892Z",
     "start_time": "2024-05-11T10:43:58.484646700Z"
    }
   },
   "outputs": [],
   "source": [
    "df[\"journey_purpose_of_driver\"].replace({\n",
    "    -1: 'Data missing or out of range',\n",
    "    1: 'Journey as part of work',\n",
    "    2: 'Commuting to/from work',\n",
    "    3: 'Taking pupil to/from school',\n",
    "    4: 'Pupil riding to/from school',\n",
    "    5: 'Other',\n",
    "    6: 'Not known',\n",
    "    15: 'Other/Not known'\n",
    "}, inplace=True)\n"
   ]
  },
  {
   "cell_type": "code",
   "execution_count": 128,
   "id": "d63c8551",
   "metadata": {
    "ExecuteTime": {
     "end_time": "2024-05-11T10:43:58.616131Z",
     "start_time": "2024-05-11T10:43:58.516648300Z"
    }
   },
   "outputs": [],
   "source": [
    "df[\"sex_of_driver\"].replace({\n",
    "    -1: 'Data missing or out of range',\n",
    "    1: 'Male',\n",
    "    2: 'Female',\n",
    "    3: 'Not known'\n",
    "}, inplace=True)\n"
   ]
  },
  {
   "cell_type": "code",
   "execution_count": 129,
   "id": "c990921a",
   "metadata": {
    "ExecuteTime": {
     "end_time": "2024-05-11T10:43:58.619129900Z",
     "start_time": "2024-05-11T10:43:58.548895400Z"
    }
   },
   "outputs": [],
   "source": [
    "df[\"age_of_driver\"].replace({\n",
    "    -1: 'Data missing or out of range'\n",
    "}, inplace=True)\n"
   ]
  },
  {
   "cell_type": "code",
   "execution_count": 130,
   "id": "89378c2d",
   "metadata": {
    "ExecuteTime": {
     "end_time": "2024-05-11T10:43:58.665451400Z",
     "start_time": "2024-05-11T10:43:58.579981500Z"
    }
   },
   "outputs": [],
   "source": [
    "df[\"age_band_of_driver\"].replace({\n",
    "    1: '0 - 5',\n",
    "    2: '6 - 10',\n",
    "    3: '11 - 15',\n",
    "    4: '16 - 20',\n",
    "    5: '21 - 25',\n",
    "    6: '26 - 35',\n",
    "    7: '36 - 45',\n",
    "    8: '46 - 55',\n",
    "    9: '56 - 65',\n",
    "    10: '66 - 75',\n",
    "    11: 'Over 75',\n",
    "    -1: 'Data missing or out of range'\n",
    "}, inplace=True)\n"
   ]
  },
  {
   "cell_type": "code",
   "execution_count": 131,
   "id": "7fed34e2",
   "metadata": {
    "ExecuteTime": {
     "end_time": "2024-05-11T10:43:58.702586Z",
     "start_time": "2024-05-11T10:43:58.628195300Z"
    }
   },
   "outputs": [],
   "source": [
    "df[\"engine_capacity_cc\"].replace({\n",
    "    -1: 'Data missing or out of range'\n",
    "}, inplace=True)\n"
   ]
  },
  {
   "cell_type": "code",
   "execution_count": 132,
   "id": "fed4c196",
   "metadata": {
    "ExecuteTime": {
     "end_time": "2024-05-11T10:43:58.730514400Z",
     "start_time": "2024-05-11T10:43:58.658382900Z"
    }
   },
   "outputs": [],
   "source": [
    "df[\"propulsion_code\"].replace({\n",
    "    1: 'Petrol',\n",
    "    2: 'Heavy oil',\n",
    "    3: 'Electric',\n",
    "    4: 'Steam',\n",
    "    5: 'Gas',\n",
    "    6: 'Petrol/Gas (LPG)',\n",
    "    7: 'Gas/Bi-fuel',\n",
    "    8: 'Hybrid electric',\n",
    "    9: 'Gas Diesel',\n",
    "    10: 'New fuel technology',\n",
    "    11: 'Fuel cells',\n",
    "    12: 'Electric diesel',\n",
    "    -1: 'Undefined'\n",
    "}, inplace=True)\n"
   ]
  },
  {
   "cell_type": "code",
   "execution_count": 133,
   "id": "fb7963dc",
   "metadata": {
    "ExecuteTime": {
     "end_time": "2024-05-11T10:43:58.748666200Z",
     "start_time": "2024-05-11T10:43:58.690584600Z"
    }
   },
   "outputs": [],
   "source": [
    "df[\"generic_make_model\"].replace({\n",
    "    -1: 'Data missing or out of range'\n",
    "}, inplace=True)\n"
   ]
  },
  {
   "cell_type": "code",
   "execution_count": 134,
   "id": "6f030bb1",
   "metadata": {
    "ExecuteTime": {
     "end_time": "2024-05-11T10:43:58.800840200Z",
     "start_time": "2024-05-11T10:43:58.720332200Z"
    }
   },
   "outputs": [],
   "source": [
    "df[\"driver_imd_decile\"].replace({\n",
    "    -1: 'Data missing or out of range'\n",
    "}, inplace=True)\n"
   ]
  },
  {
   "cell_type": "code",
   "execution_count": 135,
   "id": "f1a9bdff",
   "metadata": {
    "ExecuteTime": {
     "end_time": "2024-05-11T10:43:58.881425500Z",
     "start_time": "2024-05-11T10:43:58.735587700Z"
    }
   },
   "outputs": [],
   "source": [
    "df[\"driver_imd_decile\"].replace({\n",
    "    1: 'Most deprived 10%',\n",
    "    2: 'More deprived 10-20%',\n",
    "    3: 'More deprived 20-30%',\n",
    "    4: 'More deprived 30-40%',\n",
    "    5: 'More deprived 40-50%',\n",
    "    6: 'Less deprived 40-50%',\n",
    "    7: 'Less deprived 30-40%',\n",
    "    8: 'Less deprived 20-30%',\n",
    "    9: 'Less deprived 10-20%',\n",
    "    10: 'Least deprived 10%',\n",
    "    -1: 'Data missing or out of range'\n",
    "}, inplace=True)\n"
   ]
  },
  {
   "cell_type": "code",
   "execution_count": 136,
   "id": "ab148b01",
   "metadata": {
    "ExecuteTime": {
     "end_time": "2024-05-11T10:43:58.885420Z",
     "start_time": "2024-05-11T10:43:58.846301500Z"
    }
   },
   "outputs": [],
   "source": [
    "df[\"driver_home_area_type\"].replace({\n",
    "    1: 'Urban area',\n",
    "    2: 'Small town',\n",
    "    3: 'Rural',\n",
    "    -1: 'Data missing or out of range'\n",
    "}, inplace=True)\n"
   ]
  },
  {
   "cell_type": "code",
   "execution_count": 137,
   "id": "97d19487",
   "metadata": {
    "ExecuteTime": {
     "end_time": "2024-05-11T10:43:58.955560800Z",
     "start_time": "2024-05-11T10:43:58.878420300Z"
    }
   },
   "outputs": [],
   "source": [
    "df[\"casualty_class\"].replace({\n",
    "   1: 'Driver or rider',\n",
    "   2: 'Passenger',\n",
    "   3:'Pedestrian', \n",
    "}, inplace=True)\n"
   ]
  },
  {
   "cell_type": "code",
   "execution_count": 138,
   "id": "079e051b",
   "metadata": {
    "ExecuteTime": {
     "end_time": "2024-05-11T10:43:58.966631400Z",
     "start_time": "2024-05-11T10:43:58.910481800Z"
    }
   },
   "outputs": [],
   "source": [
    "df[\"sex_of_casualty\"].replace({\n",
    "    1: 'Male',\n",
    "    2: 'Female',\n",
    "    9: 'unknown (self reported)',\n",
    "    -1: 'Data missing or out of range'\n",
    "}, inplace=True)\n"
   ]
  },
  {
   "cell_type": "code",
   "execution_count": 139,
   "id": "2ee28b52",
   "metadata": {
    "ExecuteTime": {
     "end_time": "2024-05-11T10:43:59.013696Z",
     "start_time": "2024-05-11T10:43:58.941480200Z"
    }
   },
   "outputs": [],
   "source": [
    "df[\"age_of_casualty\"].replace({\n",
    "    -1: 'Data missing or out of range'\n",
    "}, inplace=True)\n"
   ]
  },
  {
   "cell_type": "code",
   "execution_count": 140,
   "id": "6847c690",
   "metadata": {
    "ExecuteTime": {
     "end_time": "2024-05-11T10:43:59.050873100Z",
     "start_time": "2024-05-11T10:43:58.973698800Z"
    }
   },
   "outputs": [],
   "source": [
    "df[\"age_band_of_casualty\"].replace({\n",
    "    1: '0 - 5',\n",
    "    2: '6 - 10',\n",
    "    3: '11 - 15',\n",
    "    4: '16 - 20',\n",
    "    5: '21 - 25',\n",
    "    6: '26 - 35',\n",
    "    7: '36 - 45',\n",
    "    8: '46 - 55',\n",
    "    9: '56 - 65',\n",
    "    10: '66 - 75',\n",
    "    11: 'Over 75',\n",
    "    -1: 'Data missing or out of range'\n",
    "}, inplace=True)\n"
   ]
  },
  {
   "cell_type": "code",
   "execution_count": 141,
   "id": "43d183d7",
   "metadata": {
    "ExecuteTime": {
     "end_time": "2024-05-11T10:43:59.071965300Z",
     "start_time": "2024-05-11T10:43:59.004698300Z"
    }
   },
   "outputs": [],
   "source": [
    "df[\"casualty_severity\"].replace({\n",
    "    1: 'Fatal',\n",
    "    2: 'Serious',\n",
    "    3: 'Slight'\n",
    "}, inplace=True)\n"
   ]
  },
  {
   "cell_type": "code",
   "execution_count": 142,
   "id": "3ab9730d",
   "metadata": {
    "ExecuteTime": {
     "end_time": "2024-05-11T10:43:59.098067300Z",
     "start_time": "2024-05-11T10:43:59.036777900Z"
    }
   },
   "outputs": [],
   "source": [
    "df[\"pedestrian_location\"].replace({\n",
    "    0: 'Not a Pedestrian',\n",
    "    1: 'Crossing on pedestrian crossing facility',\n",
    "    2: 'Crossing in zig-zag approach lines',\n",
    "    3: 'Crossing in zig-zag exit lines',\n",
    "    4: 'Crossing elsewhere within 50m. of pedestrian crossing',\n",
    "    5: 'In carriageway, crossing elsewhere',\n",
    "    6: 'On footway or verge',\n",
    "    7: 'On refuge, central island or central reservation',\n",
    "    8: 'In centre of carriageway - not on refuge, island or central reservation',\n",
    "    9: 'In carriageway, not crossing',\n",
    "    10: 'Unknown or other'\n",
    "}, inplace=True)\n"
   ]
  },
  {
   "cell_type": "code",
   "execution_count": 143,
   "id": "8e32b238",
   "metadata": {
    "ExecuteTime": {
     "end_time": "2024-05-11T10:43:59.186514900Z",
     "start_time": "2024-05-11T10:43:59.067967500Z"
    }
   },
   "outputs": [],
   "source": [
    "df[\"pedestrian_location\"].replace({\n",
    "    0: 'Not a Pedestrian',\n",
    "    1: 'Crossing on pedestrian crossing facility',\n",
    "    2: 'Crossing in zig-zag approach lines',\n",
    "    3: 'Crossing in zig-zag exit lines',\n",
    "    4: 'Crossing elsewhere within 50m. of pedestrian crossing',\n",
    "    5: 'In carriageway, crossing elsewhere',\n",
    "    6: 'On footway or verge',\n",
    "    7: 'On refuge, central island or central reservation',\n",
    "    8: 'In centre of carriageway - not on refuge, island or central reservation',\n",
    "    9: 'In carriageway, not crossing',\n",
    "    10: 'Unknown or other',\n",
    "    -1: 'Data missing or out of range'\n",
    "}, inplace=True)\n"
   ]
  },
  {
   "cell_type": "code",
   "execution_count": 144,
   "id": "8ac87698",
   "metadata": {
    "ExecuteTime": {
     "end_time": "2024-05-11T10:43:59.188515700Z",
     "start_time": "2024-05-11T10:43:59.134123100Z"
    }
   },
   "outputs": [],
   "source": [
    "df[\"pedestrian_movement\"].replace({\n",
    "    0: 'Not a Pedestrian',\n",
    "    1: \"Crossing from driver's nearside\",\n",
    "    2: 'Crossing from nearside - masked by parked or stationary vehicle',\n",
    "    3: \"Crossing from driver's offside\",\n",
    "    4: 'Crossing from offside - masked by parked or stationary vehicle',\n",
    "    5: 'In carriageway, stationary - not crossing  (standing or playing)',\n",
    "    6: 'In carriageway, stationary - not crossing  (standing or playing) - masked by parked or stationary vehicle',\n",
    "    7: 'Walking along in carriageway, facing traffic',\n",
    "    8: 'Walking along in carriageway, back to traffic',\n",
    "    9: 'Unknown or other',\n",
    "    -1: 'Data missing or out of range'\n",
    "}, inplace=True)\n"
   ]
  },
  {
   "cell_type": "code",
   "execution_count": 145,
   "id": "5f9026cf",
   "metadata": {
    "ExecuteTime": {
     "end_time": "2024-05-11T10:43:59.226783100Z",
     "start_time": "2024-05-11T10:43:59.163512900Z"
    }
   },
   "outputs": [],
   "source": [
    "df[\"car_passenger\"].replace({\n",
    "    0: 'Not car passenger',\n",
    "    1: 'Front seat passenger',\n",
    "    2: 'Rear seat passenger',\n",
    "    9: 'unknown (self reported)',\n",
    "    -1: 'Data missing or out of range'\n",
    "}, inplace=True)\n"
   ]
  },
  {
   "cell_type": "code",
   "execution_count": 146,
   "id": "f29ed1ff",
   "metadata": {
    "ExecuteTime": {
     "end_time": "2024-05-11T10:43:59.266781400Z",
     "start_time": "2024-05-11T10:43:59.194513500Z"
    }
   },
   "outputs": [],
   "source": [
    "df[\"bus_or_coach_passenger\"].replace({\n",
    "    0: 'Not a bus or coach passenger',\n",
    "    1: 'Boarding',\n",
    "    2: 'Alighting',\n",
    "    3: 'Standing passenger',\n",
    "    4: 'Seated passenger',\n",
    "    9: 'unknown (self reported)',\n",
    "    -1: 'Data missing or out of range'\n",
    "}, inplace=True)\n"
   ]
  },
  {
   "cell_type": "code",
   "execution_count": 147,
   "id": "56d9ba33",
   "metadata": {
    "ExecuteTime": {
     "end_time": "2024-05-11T10:43:59.287028200Z",
     "start_time": "2024-05-11T10:43:59.226783100Z"
    }
   },
   "outputs": [],
   "source": [
    "df[\"pedestrian_road_maintenance_worker\"].replace({\n",
    "    0: 'No / Not applicable',\n",
    "    1: 'Yes',\n",
    "    2: 'Not Known',\n",
    "    3: 'Probable',\n",
    "    -1: 'Data missing or out of range'\n",
    "}, inplace=True)\n"
   ]
  },
  {
   "cell_type": "code",
   "execution_count": 148,
   "id": "3ebfe32d",
   "metadata": {
    "ExecuteTime": {
     "end_time": "2024-05-11T10:43:59.357302400Z",
     "start_time": "2024-05-11T10:43:59.256781300Z"
    }
   },
   "outputs": [],
   "source": [
    "df[\"casualty_type\"].replace({\n",
    "    0: 'Pedestrian',\n",
    "    1: 'Cyclist',\n",
    "    2: 'Motorcycle 50cc and under rider or passenger',\n",
    "    3: 'Motorcycle 125cc and under rider or passenger',\n",
    "    4: 'Motorcycle over 125cc and up to 500cc rider or passenger',\n",
    "    5: 'Motorcycle over 500cc rider or passenger',\n",
    "    8: 'Taxi/Private hire car occupant',\n",
    "    9: 'Car occupant',\n",
    "    10: 'Minibus (8 - 16 passenger seats) occupant',\n",
    "    11: 'Bus or coach occupant (17 or more pass seats)',\n",
    "    16: 'Horse rider',\n",
    "    17: 'Agricultural vehicle occupant',\n",
    "    18: 'Tram occupant',\n",
    "    19: 'Van / Goods vehicle (3.5 tonnes mgw or under) occupant',\n",
    "    20: 'Goods vehicle (over 3.5t. and under 7.5t.) occupant',\n",
    "    21: 'Goods vehicle (7.5 tonnes mgw and over) occupant',\n",
    "    22: 'Mobility scooter rider',\n",
    "    23: 'Electric motorcycle rider or passenger',\n",
    "    90: 'Other vehicle occupant',\n",
    "    97: 'Motorcycle - unknown cc rider or passenger',\n",
    "    98: 'Goods vehicle (unknown weight) occupant',\n",
    "    99: 'Unknown vehicle type (self rep only)',\n",
    "    103: 'Motorcycle - Scooter (1979-1998)',\n",
    "    104: 'Motorcycle (1979-1998)',\n",
    "    105: 'Motorcycle - Combination (1979-1998)',\n",
    "    106: 'Motorcycle over 125cc (1999-2004)',\n",
    "    108: 'Taxi (excluding private hire cars) (1979-2004)',\n",
    "    109: 'Car (including private hire cars) (1979-2004)',\n",
    "    110: 'Minibus/Motor caravan (1979-1998)',\n",
    "    113: 'Goods over 3.5 tonnes (1979-1998)'\n",
    "}, inplace=True)\n"
   ]
  },
  {
   "cell_type": "code",
   "execution_count": 149,
   "id": "9973460e",
   "metadata": {
    "ExecuteTime": {
     "end_time": "2024-05-11T10:43:59.358302200Z",
     "start_time": "2024-05-11T10:43:59.306042600Z"
    }
   },
   "outputs": [],
   "source": [
    "df[\"casualty_imd_decile\"].replace({\n",
    "    1: 'Most deprived 10%',\n",
    "    2: 'More deprived 10-20%',\n",
    "    3: 'More deprived 20-30%',\n",
    "    4: 'More deprived 30-40%',\n",
    "    5: 'More deprived 40-50%',\n",
    "    6: 'Less deprived 40-50%',\n",
    "    7: 'Less deprived 30-40%',\n",
    "    8: 'Less deprived 20-30%',\n",
    "    9: 'Less deprived 10-20%',\n",
    "    10: 'Least deprived 10%',\n",
    "    -1: 'Data missing or out of range'\n",
    "}, inplace=True)\n"
   ]
  },
  {
   "cell_type": "code",
   "execution_count": 150,
   "id": "c83a098d",
   "metadata": {
    "ExecuteTime": {
     "end_time": "2024-05-11T10:43:59.401534700Z",
     "start_time": "2024-05-11T10:43:59.338304100Z"
    }
   },
   "outputs": [],
   "source": [
    "df[\"casualty_home_area_type\"].replace({\n",
    "    1: 'Urban area',\n",
    "    2: 'Small town',\n",
    "    3: 'Rural',\n",
    "    -1: 'Data missing or out of range'\n",
    "}, inplace=True)\n"
   ]
  },
  {
   "cell_type": "code",
   "execution_count": 151,
   "id": "3b4d56cd",
   "metadata": {
    "ExecuteTime": {
     "end_time": "2024-05-11T10:43:59.461117200Z",
     "start_time": "2024-05-11T10:43:59.368469200Z"
    }
   },
   "outputs": [
    {
     "data": {
      "text/plain": "       accident_index  accident_year_x accident_reference_x  \\\n0       2022010352073             2022             10352073   \n1       2022010352073             2022             10352073   \n2       2022010352573             2022             10352573   \n3       2022010352573             2022             10352573   \n4       2022010352575             2022             10352575   \n...               ...              ...                  ...   \n223235  2022991312498             2022            991312498   \n223236  2022991312498             2022            991312498   \n223237  2022991315177             2022            991315177   \n223238  2022991321308             2022            991321308   \n223239  2022991322411             2022            991322411   \n\n        location_easting_osgr  location_northing_osgr  longitude   latitude  \\\n0                    525199.0                177928.0  -0.198224  51.486454   \n1                    525199.0                177928.0  -0.198224  51.486454   \n2                    546214.0                179866.0   0.105042  51.498830   \n3                    546214.0                179866.0   0.105042  51.498830   \n4                    551119.0                174789.0   0.173482  51.451924   \n...                       ...                     ...        ...        ...   \n223235               127459.0                663067.0  -6.348650  55.783849   \n223236               127459.0                663067.0  -6.348650  55.783849   \n223237               254396.0                663549.0  -4.326930  55.843114   \n223238               325409.0                677054.0  -3.196963  55.980648   \n223239               324745.0                673696.0  -3.206662  55.950381   \n\n               police_force accident_severity  number_of_vehicles  \\\n0       Metropolitan Police            Slight                   2   \n1       Metropolitan Police            Slight                   2   \n2       Metropolitan Police            Slight                   2   \n3       Metropolitan Police            Slight                   2   \n4       Metropolitan Police            Slight                   2   \n...                     ...               ...                 ...   \n223235      Police Scotland           Serious                   3   \n223236      Police Scotland           Serious                   3   \n223237      Police Scotland            Slight                   1   \n223238      Police Scotland           Serious                   1   \n223239      Police Scotland           Serious                   1   \n\n        number_of_casualties        date day_of_week   time  \\\n0                          1  05/01/2022   Wednesday  16:40   \n1                          1  05/01/2022   Wednesday  16:40   \n2                          1  01/01/2022    Saturday  01:17   \n3                          1  01/01/2022    Saturday  01:17   \n4                          1  01/01/2022    Saturday  01:15   \n...                      ...         ...         ...    ...   \n223235                     1  12/11/2022    Saturday  21:35   \n223236                     1  12/11/2022    Saturday  21:35   \n223237                     1  01/07/2022      Friday  11:44   \n223238                     1  02/12/2022      Friday  16:45   \n223239                     1  23/11/2022   Wednesday  19:05   \n\n        local_authority_district local_authority_ons_district  \\\n0                             -1       Hammersmith and Fulham   \n1                             -1       Hammersmith and Fulham   \n2                             -1                    Greenwich   \n3                             -1                    Greenwich   \n4                             -1                       Bexley   \n...                          ...                          ...   \n223235                        -1              Argyll and Bute   \n223236                        -1              Argyll and Bute   \n223237                        -1                    S12000049   \n223238                        -1            City of Edinburgh   \n223239                        -1            City of Edinburgh   \n\n       local_authority_highway first_road_class  \\\n0       Hammersmith and Fulham                A   \n1       Hammersmith and Fulham                A   \n2                    Greenwich                A   \n3                    Greenwich                A   \n4                       Bexley                A   \n...                        ...              ...   \n223235           Argyll & Bute                A   \n223236           Argyll & Bute                A   \n223237               S12000049     Unclassified   \n223238      Edinburgh, City of                A   \n223239      Edinburgh, City of                A   \n\n                                        first_road_number           road_type  \\\n0                                                    3218  Single carriageway   \n1                                                    3218  Single carriageway   \n2                                                    2016    Dual carriageway   \n3                                                    2016    Dual carriageway   \n4                                                     207  Single carriageway   \n...                                                   ...                 ...   \n223235                                                847  Single carriageway   \n223236                                                847  Single carriageway   \n223237  first_road_class is C or Unclassified. These r...  Single carriageway   \n223238                                                901  Single carriageway   \n223239                                                  8    Dual carriageway   \n\n        speed_limit                      junction_detail  \\\n0                30                           Crossroads   \n1                30                           Crossroads   \n2                50                           Crossroads   \n3                50                           Crossroads   \n4                30                       Other junction   \n...             ...                                  ...   \n223235           60  Not at junction or within 20 metres   \n223236           60  Not at junction or within 20 metres   \n223237           30                           Crossroads   \n223238           30              T or staggered junction   \n223239           20  Not at junction or within 20 metres   \n\n                    junction_control                    second_road_class  \\\n0           Give way or uncontrolled                         Unclassified   \n1           Give way or uncontrolled                         Unclassified   \n2                Auto traffic signal                         Unclassified   \n3                Auto traffic signal                         Unclassified   \n4           Give way or uncontrolled                         Unclassified   \n...                              ...                                  ...   \n223235  Data missing or out of range  Not at junction or within 20 metres   \n223236  Data missing or out of range  Not at junction or within 20 metres   \n223237           Auto traffic signal                         Unclassified   \n223238      Give way or uncontrolled                                    A   \n223239  Data missing or out of range  Not at junction or within 20 metres   \n\n                                       second_road_number  \\\n0       first_road_class is C or Unclassified. These r...   \n1       first_road_class is C or Unclassified. These r...   \n2       first_road_class is C or Unclassified. These r...   \n3       first_road_class is C or Unclassified. These r...   \n4       first_road_class is C or Unclassified. These r...   \n...                                                   ...   \n223235                                            Unknown   \n223236                                            Unknown   \n223237  first_road_class is C or Unclassified. These r...   \n223238                                                901   \n223239                                            Unknown   \n\n       pedestrian_crossing_human_control  \\\n0                  None within 50 metres   \n1                  None within 50 metres   \n2                  None within 50 metres   \n3                  None within 50 metres   \n4                  None within 50 metres   \n...                                  ...   \n223235             None within 50 metres   \n223236             None within 50 metres   \n223237             None within 50 metres   \n223238             None within 50 metres   \n223239             None within 50 metres   \n\n                  pedestrian_crossing_physical_facilities  \\\n0        No physical crossing facilities within 50 metres   \n1        No physical crossing facilities within 50 metres   \n2       Pelican, puffin, toucan or similar non-junctio...   \n3       Pelican, puffin, toucan or similar non-junctio...   \n4        No physical crossing facilities within 50 metres   \n...                                                   ...   \n223235   No physical crossing facilities within 50 metres   \n223236   No physical crossing facilities within 50 metres   \n223237        Pedestrian phase at traffic signal junction   \n223238                                     Central refuge   \n223239   No physical crossing facilities within 50 metres   \n\n              light_conditions  weather_conditions road_surface_conditions  \\\n0        Darkness - lights lit  Fine no high winds                     Dry   \n1        Darkness - lights lit  Fine no high winds                     Dry   \n2        Darkness - lights lit  Fine no high winds                     Dry   \n3        Darkness - lights lit  Fine no high winds                     Dry   \n4        Darkness - lights lit  Fine no high winds                     Dry   \n...                        ...                 ...                     ...   \n223235  Darkness - no lighting  Fine no high winds                     Dry   \n223236  Darkness - no lighting  Fine no high winds                     Dry   \n223237                Daylight  Fine no high winds                     Dry   \n223238   Darkness - lights lit  Fine no high winds                     Dry   \n223239   Darkness - lights lit  Fine no high winds             Wet or damp   \n\n       special_conditions_at_site carriageway_hazards urban_or_rural_area  \\\n0                            None                None               Urban   \n1                            None                None               Urban   \n2                            None                None               Rural   \n3                            None                None               Rural   \n4                            None                None               Urban   \n...                           ...                 ...                 ...   \n223235                       None                None               Rural   \n223236                       None                None               Rural   \n223237                       None                None               Urban   \n223238                       None                None               Urban   \n223239                       None                None               Urban   \n\n       did_police_officer_attend_scene_of_accident  \\\n0                                              Yes   \n1                                              Yes   \n2                                              Yes   \n3                                              Yes   \n4                                              Yes   \n...                                            ...   \n223235                                         Yes   \n223236                                         Yes   \n223237                                          No   \n223238                                         Yes   \n223239                                         Yes   \n\n                     trunk_road_flag lsoa_of_accident_location  \\\n0                          Non-trunk                 E01001883   \n1                          Non-trunk                 E01001883   \n2                          Non-trunk                 E01033745   \n3                          Non-trunk                 E01033745   \n4                          Non-trunk                 E01000378   \n...                              ...                       ...   \n223235  Data missing or out of range                        -1   \n223236  Data missing or out of range                        -1   \n223237  Data missing or out of range                        -1   \n223238  Data missing or out of range                        -1   \n223239  Data missing or out of range                        -1   \n\n        accident_year_y accident_reference_y  vehicle_reference_x  \\\n0                2022.0             10352073                  1.0   \n1                2022.0             10352073                  2.0   \n2                2022.0             10352573                  1.0   \n3                2022.0             10352573                  2.0   \n4                2022.0             10352575                  1.0   \n...                 ...                  ...                  ...   \n223235           2022.0            991312498                  2.0   \n223236           2022.0            991312498                  3.0   \n223237           2022.0            991315177                  1.0   \n223238           2022.0            991321308                  1.0   \n223239           2022.0            991322411                  1.0   \n\n                               vehicle_type towing_and_articulation  \\\n0       Van / Goods 3.5 tonnes mgw or under     No tow/articulation   \n1                Motorcycle 125cc and under     No tow/articulation   \n2                                       Car     No tow/articulation   \n3                                       Car     No tow/articulation   \n4                                       Car     No tow/articulation   \n...                                     ...                     ...   \n223235  Van / Goods 3.5 tonnes mgw or under     No tow/articulation   \n223236                                  Car     No tow/articulation   \n223237                                  Car     No tow/articulation   \n223238                                  Car     No tow/articulation   \n223239                Taxi/Private hire car     No tow/articulation   \n\n                          vehicle_manoeuvre vehicle_direction_from  \\\n0                             Turning right                   East   \n1                         Going ahead other                  North   \n2                         Going ahead other                   West   \n3       Overtaking moving vehicle - offside                   West   \n4                         Going ahead other             South East   \n...                                     ...                    ...   \n223235                    Going ahead other             North West   \n223236                               Parked             North West   \n223237                           Moving off             North West   \n223238                    Going ahead other                   East   \n223239                    Going ahead other                   West   \n\n       vehicle_direction_to              vehicle_location_restricted_lane  \\\n0                North West  On main carriageway - not in restricted lane   \n1                     South  On main carriageway - not in restricted lane   \n2                      East  On main carriageway - not in restricted lane   \n3                      East  On main carriageway - not in restricted lane   \n4                North West  On main carriageway - not in restricted lane   \n...                     ...                                           ...   \n223235                North  On main carriageway - not in restricted lane   \n223236                North  On main carriageway - not in restricted lane   \n223237           South East  On main carriageway - not in restricted lane   \n223238                 West  On main carriageway - not in restricted lane   \n223239                 East  On main carriageway - not in restricted lane   \n\n                                        junction_location  \\\n0       Approaching junction or waiting/parked at junc...   \n1       Approaching junction or waiting/parked at junc...   \n2                                      Entering main road   \n3                                      Entering main road   \n4       Cleared junction or waiting/parked at junction...   \n...                                                   ...   \n223235             Not at or within 20 metres of junction   \n223236             Not at or within 20 metres of junction   \n223237  Cleared junction or waiting/parked at junction...   \n223238  Approaching junction or waiting/parked at junc...   \n223239             Not at or within 20 metres of junction   \n\n            skidding_and_overturning     hit_object_in_carriageway  \\\n0                               None                          None   \n1                               None                          None   \n2                               None                          None   \n3                               None                          None   \n4                               None                          None   \n...                              ...                           ...   \n223235                          None                          None   \n223236                          None                          None   \n223237                          None                          None   \n223238  Data missing or out of range  Data missing or out of range   \n223239                          None                          None   \n\n         vehicle_leaving_carriageway   hit_object_off_carriageway  \\\n0          Did not leave carriageway                         None   \n1          Did not leave carriageway                         None   \n2                           Nearside  Road sign or traffic signal   \n3          Did not leave carriageway                         None   \n4          Did not leave carriageway                         None   \n...                              ...                          ...   \n223235     Did not leave carriageway                         None   \n223236     Did not leave carriageway                         None   \n223237     Did not leave carriageway                         None   \n223238  Data missing or out of range                         None   \n223239     Did not leave carriageway                         None   \n\n       first_point_of_impact vehicle_left_hand_drive  \\\n0                      Front                     Yes   \n1                      Front                      No   \n2                      Front                      No   \n3                      Front                      No   \n4                      Front                      No   \n...                      ...                     ...   \n223235                 Front                      No   \n223236                 Front                      No   \n223237              Nearside                      No   \n223238                 Front                      No   \n223239              Nearside                      No   \n\n       journey_purpose_of_driver sex_of_driver                 age_of_driver  \\\n0         Commuting to/from work          Male                          48.0   \n1         Commuting to/from work          Male                          17.0   \n2                      Not known        Female                          42.0   \n3                      Not known     Not known  Data missing or out of range   \n4                      Not known          Male                          20.0   \n...                          ...           ...                           ...   \n223235                     Other          Male                          43.0   \n223236                     Other          Male                          62.0   \n223237                 Not known          Male                          61.0   \n223238                     Other          Male                          77.0   \n223239   Journey as part of work          Male                          60.0   \n\n                  age_band_of_driver            engine_capacity_cc  \\\n0                            46 - 55                        1461.0   \n1                            16 - 20                         125.0   \n2                            36 - 45  Data missing or out of range   \n3       Data missing or out of range  Data missing or out of range   \n4                            16 - 20                        1896.0   \n...                              ...                           ...   \n223235                       36 - 45                        1968.0   \n223236                       56 - 65                        1229.0   \n223237                       56 - 65                        1497.0   \n223238                       Over 75                        1794.0   \n223239                       56 - 65                        1997.0   \n\n        propulsion_code  age_of_vehicle  generic_make_model  \\\n0             Heavy oil             4.0      RENAULT KANGOO   \n1                Petrol             1.0        HONDA FSH125   \n2             Undefined            -1.0                  -1   \n3             Undefined            -1.0                  -1   \n4             Heavy oil            15.0     VOLKSWAGEN GOLF   \n...                 ...             ...                 ...   \n223235        Heavy oil             0.0  VOLKSWAGEN CRAFTER   \n223236           Petrol            12.0      VAUXHALL CORSA   \n223237  Hybrid electric            10.0        TOYOTA YARIS   \n223238           Petrol            17.0      TOYOTA AVENSIS   \n223239        Heavy oil             7.0          PEUGEOT E7   \n\n                   driver_imd_decile         driver_home_area_type  \\\n0               Less deprived 30-40%                    Urban area   \n1                  Most deprived 10%                    Urban area   \n2               More deprived 40-50%                    Urban area   \n3       Data missing or out of range  Data missing or out of range   \n4               Less deprived 20-30%                    Urban area   \n...                              ...                           ...   \n223235          Less deprived 40-50%                         Rural   \n223236          Less deprived 40-50%                         Rural   \n223237          More deprived 20-30%                    Urban area   \n223238            Least deprived 10%                    Urban area   \n223239  Data missing or out of range  Data missing or out of range   \n\n       lsoa_of_driver  accident_year accident_reference  vehicle_reference_y  \\\n0           E01002687         2022.0           10352073                  2.0   \n1           E01001364         2022.0           10352073                  2.0   \n2           E01000338         2022.0           10352573                  1.0   \n3                  -1         2022.0           10352573                  1.0   \n4           E01000390         2022.0           10352575                  1.0   \n...               ...            ...                ...                  ...   \n223235             -1            NaN                NaN                  NaN   \n223236             -1            NaN                NaN                  NaN   \n223237             -1            NaN                NaN                  NaN   \n223238             -1            NaN                NaN                  NaN   \n223239             -1            NaN                NaN                  NaN   \n\n        casualty_reference   casualty_class sex_of_casualty age_of_casualty  \\\n0                      1.0  Driver or rider            Male            17.0   \n1                      1.0  Driver or rider            Male            17.0   \n2                      1.0  Driver or rider          Female            42.0   \n3                      1.0  Driver or rider          Female            42.0   \n4                      1.0  Driver or rider            Male            20.0   \n...                    ...              ...             ...             ...   \n223235                 NaN              NaN             NaN             NaN   \n223236                 NaN              NaN             NaN             NaN   \n223237                 NaN              NaN             NaN             NaN   \n223238                 NaN              NaN             NaN             NaN   \n223239                 NaN              NaN             NaN             NaN   \n\n       age_band_of_casualty casualty_severity pedestrian_location  \\\n0                   16 - 20            Slight    Not a Pedestrian   \n1                   16 - 20            Slight    Not a Pedestrian   \n2                   36 - 45            Slight    Not a Pedestrian   \n3                   36 - 45            Slight    Not a Pedestrian   \n4                   16 - 20            Slight    Not a Pedestrian   \n...                     ...               ...                 ...   \n223235                  NaN               NaN                 NaN   \n223236                  NaN               NaN                 NaN   \n223237                  NaN               NaN                 NaN   \n223238                  NaN               NaN                 NaN   \n223239                  NaN               NaN                 NaN   \n\n       pedestrian_movement      car_passenger        bus_or_coach_passenger  \\\n0         Not a Pedestrian  Not car passenger  Not a bus or coach passenger   \n1         Not a Pedestrian  Not car passenger  Not a bus or coach passenger   \n2         Not a Pedestrian  Not car passenger  Not a bus or coach passenger   \n3         Not a Pedestrian  Not car passenger  Not a bus or coach passenger   \n4         Not a Pedestrian  Not car passenger  Not a bus or coach passenger   \n...                    ...                ...                           ...   \n223235                 NaN                NaN                           NaN   \n223236                 NaN                NaN                           NaN   \n223237                 NaN                NaN                           NaN   \n223238                 NaN                NaN                           NaN   \n223239                 NaN                NaN                           NaN   \n\n       pedestrian_road_maintenance_worker  \\\n0                     No / Not applicable   \n1                     No / Not applicable   \n2                     No / Not applicable   \n3                     No / Not applicable   \n4                     No / Not applicable   \n...                                   ...   \n223235                                NaN   \n223236                                NaN   \n223237                                NaN   \n223238                                NaN   \n223239                                NaN   \n\n                                        casualty_type casualty_home_area_type  \\\n0       Motorcycle 125cc and under rider or passenger              Urban area   \n1       Motorcycle 125cc and under rider or passenger              Urban area   \n2                                        Car occupant              Urban area   \n3                                        Car occupant              Urban area   \n4                                        Car occupant              Urban area   \n...                                               ...                     ...   \n223235                                            NaN                     NaN   \n223236                                            NaN                     NaN   \n223237                                            NaN                     NaN   \n223238                                            NaN                     NaN   \n223239                                            NaN                     NaN   \n\n         casualty_imd_decile lsoa_of_casualty  \n0          Most deprived 10%        E01001364  \n1          Most deprived 10%        E01001364  \n2       More deprived 40-50%        E01000338  \n3       More deprived 40-50%        E01000338  \n4       Less deprived 20-30%        E01000390  \n...                      ...              ...  \n223235                   NaN              NaN  \n223236                   NaN              NaN  \n223237                   NaN              NaN  \n223238                   NaN              NaN  \n223239                   NaN              NaN  \n\n[223240 rows x 81 columns]",
      "text/html": "<div>\n<style scoped>\n    .dataframe tbody tr th:only-of-type {\n        vertical-align: middle;\n    }\n\n    .dataframe tbody tr th {\n        vertical-align: top;\n    }\n\n    .dataframe thead th {\n        text-align: right;\n    }\n</style>\n<table border=\"1\" class=\"dataframe\">\n  <thead>\n    <tr style=\"text-align: right;\">\n      <th></th>\n      <th>accident_index</th>\n      <th>accident_year_x</th>\n      <th>accident_reference_x</th>\n      <th>location_easting_osgr</th>\n      <th>location_northing_osgr</th>\n      <th>longitude</th>\n      <th>latitude</th>\n      <th>police_force</th>\n      <th>accident_severity</th>\n      <th>number_of_vehicles</th>\n      <th>number_of_casualties</th>\n      <th>date</th>\n      <th>day_of_week</th>\n      <th>time</th>\n      <th>local_authority_district</th>\n      <th>local_authority_ons_district</th>\n      <th>local_authority_highway</th>\n      <th>first_road_class</th>\n      <th>first_road_number</th>\n      <th>road_type</th>\n      <th>speed_limit</th>\n      <th>junction_detail</th>\n      <th>junction_control</th>\n      <th>second_road_class</th>\n      <th>second_road_number</th>\n      <th>pedestrian_crossing_human_control</th>\n      <th>pedestrian_crossing_physical_facilities</th>\n      <th>light_conditions</th>\n      <th>weather_conditions</th>\n      <th>road_surface_conditions</th>\n      <th>special_conditions_at_site</th>\n      <th>carriageway_hazards</th>\n      <th>urban_or_rural_area</th>\n      <th>did_police_officer_attend_scene_of_accident</th>\n      <th>trunk_road_flag</th>\n      <th>lsoa_of_accident_location</th>\n      <th>accident_year_y</th>\n      <th>accident_reference_y</th>\n      <th>vehicle_reference_x</th>\n      <th>vehicle_type</th>\n      <th>towing_and_articulation</th>\n      <th>vehicle_manoeuvre</th>\n      <th>vehicle_direction_from</th>\n      <th>vehicle_direction_to</th>\n      <th>vehicle_location_restricted_lane</th>\n      <th>junction_location</th>\n      <th>skidding_and_overturning</th>\n      <th>hit_object_in_carriageway</th>\n      <th>vehicle_leaving_carriageway</th>\n      <th>hit_object_off_carriageway</th>\n      <th>first_point_of_impact</th>\n      <th>vehicle_left_hand_drive</th>\n      <th>journey_purpose_of_driver</th>\n      <th>sex_of_driver</th>\n      <th>age_of_driver</th>\n      <th>age_band_of_driver</th>\n      <th>engine_capacity_cc</th>\n      <th>propulsion_code</th>\n      <th>age_of_vehicle</th>\n      <th>generic_make_model</th>\n      <th>driver_imd_decile</th>\n      <th>driver_home_area_type</th>\n      <th>lsoa_of_driver</th>\n      <th>accident_year</th>\n      <th>accident_reference</th>\n      <th>vehicle_reference_y</th>\n      <th>casualty_reference</th>\n      <th>casualty_class</th>\n      <th>sex_of_casualty</th>\n      <th>age_of_casualty</th>\n      <th>age_band_of_casualty</th>\n      <th>casualty_severity</th>\n      <th>pedestrian_location</th>\n      <th>pedestrian_movement</th>\n      <th>car_passenger</th>\n      <th>bus_or_coach_passenger</th>\n      <th>pedestrian_road_maintenance_worker</th>\n      <th>casualty_type</th>\n      <th>casualty_home_area_type</th>\n      <th>casualty_imd_decile</th>\n      <th>lsoa_of_casualty</th>\n    </tr>\n  </thead>\n  <tbody>\n    <tr>\n      <th>0</th>\n      <td>2022010352073</td>\n      <td>2022</td>\n      <td>10352073</td>\n      <td>525199.0</td>\n      <td>177928.0</td>\n      <td>-0.198224</td>\n      <td>51.486454</td>\n      <td>Metropolitan Police</td>\n      <td>Slight</td>\n      <td>2</td>\n      <td>1</td>\n      <td>05/01/2022</td>\n      <td>Wednesday</td>\n      <td>16:40</td>\n      <td>-1</td>\n      <td>Hammersmith and Fulham</td>\n      <td>Hammersmith and Fulham</td>\n      <td>A</td>\n      <td>3218</td>\n      <td>Single carriageway</td>\n      <td>30</td>\n      <td>Crossroads</td>\n      <td>Give way or uncontrolled</td>\n      <td>Unclassified</td>\n      <td>first_road_class is C or Unclassified. These r...</td>\n      <td>None within 50 metres</td>\n      <td>No physical crossing facilities within 50 metres</td>\n      <td>Darkness - lights lit</td>\n      <td>Fine no high winds</td>\n      <td>Dry</td>\n      <td>None</td>\n      <td>None</td>\n      <td>Urban</td>\n      <td>Yes</td>\n      <td>Non-trunk</td>\n      <td>E01001883</td>\n      <td>2022.0</td>\n      <td>10352073</td>\n      <td>1.0</td>\n      <td>Van / Goods 3.5 tonnes mgw or under</td>\n      <td>No tow/articulation</td>\n      <td>Turning right</td>\n      <td>East</td>\n      <td>North West</td>\n      <td>On main carriageway - not in restricted lane</td>\n      <td>Approaching junction or waiting/parked at junc...</td>\n      <td>None</td>\n      <td>None</td>\n      <td>Did not leave carriageway</td>\n      <td>None</td>\n      <td>Front</td>\n      <td>Yes</td>\n      <td>Commuting to/from work</td>\n      <td>Male</td>\n      <td>48.0</td>\n      <td>46 - 55</td>\n      <td>1461.0</td>\n      <td>Heavy oil</td>\n      <td>4.0</td>\n      <td>RENAULT KANGOO</td>\n      <td>Less deprived 30-40%</td>\n      <td>Urban area</td>\n      <td>E01002687</td>\n      <td>2022.0</td>\n      <td>10352073</td>\n      <td>2.0</td>\n      <td>1.0</td>\n      <td>Driver or rider</td>\n      <td>Male</td>\n      <td>17.0</td>\n      <td>16 - 20</td>\n      <td>Slight</td>\n      <td>Not a Pedestrian</td>\n      <td>Not a Pedestrian</td>\n      <td>Not car passenger</td>\n      <td>Not a bus or coach passenger</td>\n      <td>No / Not applicable</td>\n      <td>Motorcycle 125cc and under rider or passenger</td>\n      <td>Urban area</td>\n      <td>Most deprived 10%</td>\n      <td>E01001364</td>\n    </tr>\n    <tr>\n      <th>1</th>\n      <td>2022010352073</td>\n      <td>2022</td>\n      <td>10352073</td>\n      <td>525199.0</td>\n      <td>177928.0</td>\n      <td>-0.198224</td>\n      <td>51.486454</td>\n      <td>Metropolitan Police</td>\n      <td>Slight</td>\n      <td>2</td>\n      <td>1</td>\n      <td>05/01/2022</td>\n      <td>Wednesday</td>\n      <td>16:40</td>\n      <td>-1</td>\n      <td>Hammersmith and Fulham</td>\n      <td>Hammersmith and Fulham</td>\n      <td>A</td>\n      <td>3218</td>\n      <td>Single carriageway</td>\n      <td>30</td>\n      <td>Crossroads</td>\n      <td>Give way or uncontrolled</td>\n      <td>Unclassified</td>\n      <td>first_road_class is C or Unclassified. These r...</td>\n      <td>None within 50 metres</td>\n      <td>No physical crossing facilities within 50 metres</td>\n      <td>Darkness - lights lit</td>\n      <td>Fine no high winds</td>\n      <td>Dry</td>\n      <td>None</td>\n      <td>None</td>\n      <td>Urban</td>\n      <td>Yes</td>\n      <td>Non-trunk</td>\n      <td>E01001883</td>\n      <td>2022.0</td>\n      <td>10352073</td>\n      <td>2.0</td>\n      <td>Motorcycle 125cc and under</td>\n      <td>No tow/articulation</td>\n      <td>Going ahead other</td>\n      <td>North</td>\n      <td>South</td>\n      <td>On main carriageway - not in restricted lane</td>\n      <td>Approaching junction or waiting/parked at junc...</td>\n      <td>None</td>\n      <td>None</td>\n      <td>Did not leave carriageway</td>\n      <td>None</td>\n      <td>Front</td>\n      <td>No</td>\n      <td>Commuting to/from work</td>\n      <td>Male</td>\n      <td>17.0</td>\n      <td>16 - 20</td>\n      <td>125.0</td>\n      <td>Petrol</td>\n      <td>1.0</td>\n      <td>HONDA FSH125</td>\n      <td>Most deprived 10%</td>\n      <td>Urban area</td>\n      <td>E01001364</td>\n      <td>2022.0</td>\n      <td>10352073</td>\n      <td>2.0</td>\n      <td>1.0</td>\n      <td>Driver or rider</td>\n      <td>Male</td>\n      <td>17.0</td>\n      <td>16 - 20</td>\n      <td>Slight</td>\n      <td>Not a Pedestrian</td>\n      <td>Not a Pedestrian</td>\n      <td>Not car passenger</td>\n      <td>Not a bus or coach passenger</td>\n      <td>No / Not applicable</td>\n      <td>Motorcycle 125cc and under rider or passenger</td>\n      <td>Urban area</td>\n      <td>Most deprived 10%</td>\n      <td>E01001364</td>\n    </tr>\n    <tr>\n      <th>2</th>\n      <td>2022010352573</td>\n      <td>2022</td>\n      <td>10352573</td>\n      <td>546214.0</td>\n      <td>179866.0</td>\n      <td>0.105042</td>\n      <td>51.498830</td>\n      <td>Metropolitan Police</td>\n      <td>Slight</td>\n      <td>2</td>\n      <td>1</td>\n      <td>01/01/2022</td>\n      <td>Saturday</td>\n      <td>01:17</td>\n      <td>-1</td>\n      <td>Greenwich</td>\n      <td>Greenwich</td>\n      <td>A</td>\n      <td>2016</td>\n      <td>Dual carriageway</td>\n      <td>50</td>\n      <td>Crossroads</td>\n      <td>Auto traffic signal</td>\n      <td>Unclassified</td>\n      <td>first_road_class is C or Unclassified. These r...</td>\n      <td>None within 50 metres</td>\n      <td>Pelican, puffin, toucan or similar non-junctio...</td>\n      <td>Darkness - lights lit</td>\n      <td>Fine no high winds</td>\n      <td>Dry</td>\n      <td>None</td>\n      <td>None</td>\n      <td>Rural</td>\n      <td>Yes</td>\n      <td>Non-trunk</td>\n      <td>E01033745</td>\n      <td>2022.0</td>\n      <td>10352573</td>\n      <td>1.0</td>\n      <td>Car</td>\n      <td>No tow/articulation</td>\n      <td>Going ahead other</td>\n      <td>West</td>\n      <td>East</td>\n      <td>On main carriageway - not in restricted lane</td>\n      <td>Entering main road</td>\n      <td>None</td>\n      <td>None</td>\n      <td>Nearside</td>\n      <td>Road sign or traffic signal</td>\n      <td>Front</td>\n      <td>No</td>\n      <td>Not known</td>\n      <td>Female</td>\n      <td>42.0</td>\n      <td>36 - 45</td>\n      <td>Data missing or out of range</td>\n      <td>Undefined</td>\n      <td>-1.0</td>\n      <td>-1</td>\n      <td>More deprived 40-50%</td>\n      <td>Urban area</td>\n      <td>E01000338</td>\n      <td>2022.0</td>\n      <td>10352573</td>\n      <td>1.0</td>\n      <td>1.0</td>\n      <td>Driver or rider</td>\n      <td>Female</td>\n      <td>42.0</td>\n      <td>36 - 45</td>\n      <td>Slight</td>\n      <td>Not a Pedestrian</td>\n      <td>Not a Pedestrian</td>\n      <td>Not car passenger</td>\n      <td>Not a bus or coach passenger</td>\n      <td>No / Not applicable</td>\n      <td>Car occupant</td>\n      <td>Urban area</td>\n      <td>More deprived 40-50%</td>\n      <td>E01000338</td>\n    </tr>\n    <tr>\n      <th>3</th>\n      <td>2022010352573</td>\n      <td>2022</td>\n      <td>10352573</td>\n      <td>546214.0</td>\n      <td>179866.0</td>\n      <td>0.105042</td>\n      <td>51.498830</td>\n      <td>Metropolitan Police</td>\n      <td>Slight</td>\n      <td>2</td>\n      <td>1</td>\n      <td>01/01/2022</td>\n      <td>Saturday</td>\n      <td>01:17</td>\n      <td>-1</td>\n      <td>Greenwich</td>\n      <td>Greenwich</td>\n      <td>A</td>\n      <td>2016</td>\n      <td>Dual carriageway</td>\n      <td>50</td>\n      <td>Crossroads</td>\n      <td>Auto traffic signal</td>\n      <td>Unclassified</td>\n      <td>first_road_class is C or Unclassified. These r...</td>\n      <td>None within 50 metres</td>\n      <td>Pelican, puffin, toucan or similar non-junctio...</td>\n      <td>Darkness - lights lit</td>\n      <td>Fine no high winds</td>\n      <td>Dry</td>\n      <td>None</td>\n      <td>None</td>\n      <td>Rural</td>\n      <td>Yes</td>\n      <td>Non-trunk</td>\n      <td>E01033745</td>\n      <td>2022.0</td>\n      <td>10352573</td>\n      <td>2.0</td>\n      <td>Car</td>\n      <td>No tow/articulation</td>\n      <td>Overtaking moving vehicle - offside</td>\n      <td>West</td>\n      <td>East</td>\n      <td>On main carriageway - not in restricted lane</td>\n      <td>Entering main road</td>\n      <td>None</td>\n      <td>None</td>\n      <td>Did not leave carriageway</td>\n      <td>None</td>\n      <td>Front</td>\n      <td>No</td>\n      <td>Not known</td>\n      <td>Not known</td>\n      <td>Data missing or out of range</td>\n      <td>Data missing or out of range</td>\n      <td>Data missing or out of range</td>\n      <td>Undefined</td>\n      <td>-1.0</td>\n      <td>-1</td>\n      <td>Data missing or out of range</td>\n      <td>Data missing or out of range</td>\n      <td>-1</td>\n      <td>2022.0</td>\n      <td>10352573</td>\n      <td>1.0</td>\n      <td>1.0</td>\n      <td>Driver or rider</td>\n      <td>Female</td>\n      <td>42.0</td>\n      <td>36 - 45</td>\n      <td>Slight</td>\n      <td>Not a Pedestrian</td>\n      <td>Not a Pedestrian</td>\n      <td>Not car passenger</td>\n      <td>Not a bus or coach passenger</td>\n      <td>No / Not applicable</td>\n      <td>Car occupant</td>\n      <td>Urban area</td>\n      <td>More deprived 40-50%</td>\n      <td>E01000338</td>\n    </tr>\n    <tr>\n      <th>4</th>\n      <td>2022010352575</td>\n      <td>2022</td>\n      <td>10352575</td>\n      <td>551119.0</td>\n      <td>174789.0</td>\n      <td>0.173482</td>\n      <td>51.451924</td>\n      <td>Metropolitan Police</td>\n      <td>Slight</td>\n      <td>2</td>\n      <td>1</td>\n      <td>01/01/2022</td>\n      <td>Saturday</td>\n      <td>01:15</td>\n      <td>-1</td>\n      <td>Bexley</td>\n      <td>Bexley</td>\n      <td>A</td>\n      <td>207</td>\n      <td>Single carriageway</td>\n      <td>30</td>\n      <td>Other junction</td>\n      <td>Give way or uncontrolled</td>\n      <td>Unclassified</td>\n      <td>first_road_class is C or Unclassified. These r...</td>\n      <td>None within 50 metres</td>\n      <td>No physical crossing facilities within 50 metres</td>\n      <td>Darkness - lights lit</td>\n      <td>Fine no high winds</td>\n      <td>Dry</td>\n      <td>None</td>\n      <td>None</td>\n      <td>Urban</td>\n      <td>Yes</td>\n      <td>Non-trunk</td>\n      <td>E01000378</td>\n      <td>2022.0</td>\n      <td>10352575</td>\n      <td>1.0</td>\n      <td>Car</td>\n      <td>No tow/articulation</td>\n      <td>Going ahead other</td>\n      <td>South East</td>\n      <td>North West</td>\n      <td>On main carriageway - not in restricted lane</td>\n      <td>Cleared junction or waiting/parked at junction...</td>\n      <td>None</td>\n      <td>None</td>\n      <td>Did not leave carriageway</td>\n      <td>None</td>\n      <td>Front</td>\n      <td>No</td>\n      <td>Not known</td>\n      <td>Male</td>\n      <td>20.0</td>\n      <td>16 - 20</td>\n      <td>1896.0</td>\n      <td>Heavy oil</td>\n      <td>15.0</td>\n      <td>VOLKSWAGEN GOLF</td>\n      <td>Less deprived 20-30%</td>\n      <td>Urban area</td>\n      <td>E01000390</td>\n      <td>2022.0</td>\n      <td>10352575</td>\n      <td>1.0</td>\n      <td>1.0</td>\n      <td>Driver or rider</td>\n      <td>Male</td>\n      <td>20.0</td>\n      <td>16 - 20</td>\n      <td>Slight</td>\n      <td>Not a Pedestrian</td>\n      <td>Not a Pedestrian</td>\n      <td>Not car passenger</td>\n      <td>Not a bus or coach passenger</td>\n      <td>No / Not applicable</td>\n      <td>Car occupant</td>\n      <td>Urban area</td>\n      <td>Less deprived 20-30%</td>\n      <td>E01000390</td>\n    </tr>\n    <tr>\n      <th>...</th>\n      <td>...</td>\n      <td>...</td>\n      <td>...</td>\n      <td>...</td>\n      <td>...</td>\n      <td>...</td>\n      <td>...</td>\n      <td>...</td>\n      <td>...</td>\n      <td>...</td>\n      <td>...</td>\n      <td>...</td>\n      <td>...</td>\n      <td>...</td>\n      <td>...</td>\n      <td>...</td>\n      <td>...</td>\n      <td>...</td>\n      <td>...</td>\n      <td>...</td>\n      <td>...</td>\n      <td>...</td>\n      <td>...</td>\n      <td>...</td>\n      <td>...</td>\n      <td>...</td>\n      <td>...</td>\n      <td>...</td>\n      <td>...</td>\n      <td>...</td>\n      <td>...</td>\n      <td>...</td>\n      <td>...</td>\n      <td>...</td>\n      <td>...</td>\n      <td>...</td>\n      <td>...</td>\n      <td>...</td>\n      <td>...</td>\n      <td>...</td>\n      <td>...</td>\n      <td>...</td>\n      <td>...</td>\n      <td>...</td>\n      <td>...</td>\n      <td>...</td>\n      <td>...</td>\n      <td>...</td>\n      <td>...</td>\n      <td>...</td>\n      <td>...</td>\n      <td>...</td>\n      <td>...</td>\n      <td>...</td>\n      <td>...</td>\n      <td>...</td>\n      <td>...</td>\n      <td>...</td>\n      <td>...</td>\n      <td>...</td>\n      <td>...</td>\n      <td>...</td>\n      <td>...</td>\n      <td>...</td>\n      <td>...</td>\n      <td>...</td>\n      <td>...</td>\n      <td>...</td>\n      <td>...</td>\n      <td>...</td>\n      <td>...</td>\n      <td>...</td>\n      <td>...</td>\n      <td>...</td>\n      <td>...</td>\n      <td>...</td>\n      <td>...</td>\n      <td>...</td>\n      <td>...</td>\n      <td>...</td>\n      <td>...</td>\n    </tr>\n    <tr>\n      <th>223235</th>\n      <td>2022991312498</td>\n      <td>2022</td>\n      <td>991312498</td>\n      <td>127459.0</td>\n      <td>663067.0</td>\n      <td>-6.348650</td>\n      <td>55.783849</td>\n      <td>Police Scotland</td>\n      <td>Serious</td>\n      <td>3</td>\n      <td>1</td>\n      <td>12/11/2022</td>\n      <td>Saturday</td>\n      <td>21:35</td>\n      <td>-1</td>\n      <td>Argyll and Bute</td>\n      <td>Argyll &amp; Bute</td>\n      <td>A</td>\n      <td>847</td>\n      <td>Single carriageway</td>\n      <td>60</td>\n      <td>Not at junction or within 20 metres</td>\n      <td>Data missing or out of range</td>\n      <td>Not at junction or within 20 metres</td>\n      <td>Unknown</td>\n      <td>None within 50 metres</td>\n      <td>No physical crossing facilities within 50 metres</td>\n      <td>Darkness - no lighting</td>\n      <td>Fine no high winds</td>\n      <td>Dry</td>\n      <td>None</td>\n      <td>None</td>\n      <td>Rural</td>\n      <td>Yes</td>\n      <td>Data missing or out of range</td>\n      <td>-1</td>\n      <td>2022.0</td>\n      <td>991312498</td>\n      <td>2.0</td>\n      <td>Van / Goods 3.5 tonnes mgw or under</td>\n      <td>No tow/articulation</td>\n      <td>Going ahead other</td>\n      <td>North West</td>\n      <td>North</td>\n      <td>On main carriageway - not in restricted lane</td>\n      <td>Not at or within 20 metres of junction</td>\n      <td>None</td>\n      <td>None</td>\n      <td>Did not leave carriageway</td>\n      <td>None</td>\n      <td>Front</td>\n      <td>No</td>\n      <td>Other</td>\n      <td>Male</td>\n      <td>43.0</td>\n      <td>36 - 45</td>\n      <td>1968.0</td>\n      <td>Heavy oil</td>\n      <td>0.0</td>\n      <td>VOLKSWAGEN CRAFTER</td>\n      <td>Less deprived 40-50%</td>\n      <td>Rural</td>\n      <td>-1</td>\n      <td>NaN</td>\n      <td>NaN</td>\n      <td>NaN</td>\n      <td>NaN</td>\n      <td>NaN</td>\n      <td>NaN</td>\n      <td>NaN</td>\n      <td>NaN</td>\n      <td>NaN</td>\n      <td>NaN</td>\n      <td>NaN</td>\n      <td>NaN</td>\n      <td>NaN</td>\n      <td>NaN</td>\n      <td>NaN</td>\n      <td>NaN</td>\n      <td>NaN</td>\n      <td>NaN</td>\n    </tr>\n    <tr>\n      <th>223236</th>\n      <td>2022991312498</td>\n      <td>2022</td>\n      <td>991312498</td>\n      <td>127459.0</td>\n      <td>663067.0</td>\n      <td>-6.348650</td>\n      <td>55.783849</td>\n      <td>Police Scotland</td>\n      <td>Serious</td>\n      <td>3</td>\n      <td>1</td>\n      <td>12/11/2022</td>\n      <td>Saturday</td>\n      <td>21:35</td>\n      <td>-1</td>\n      <td>Argyll and Bute</td>\n      <td>Argyll &amp; Bute</td>\n      <td>A</td>\n      <td>847</td>\n      <td>Single carriageway</td>\n      <td>60</td>\n      <td>Not at junction or within 20 metres</td>\n      <td>Data missing or out of range</td>\n      <td>Not at junction or within 20 metres</td>\n      <td>Unknown</td>\n      <td>None within 50 metres</td>\n      <td>No physical crossing facilities within 50 metres</td>\n      <td>Darkness - no lighting</td>\n      <td>Fine no high winds</td>\n      <td>Dry</td>\n      <td>None</td>\n      <td>None</td>\n      <td>Rural</td>\n      <td>Yes</td>\n      <td>Data missing or out of range</td>\n      <td>-1</td>\n      <td>2022.0</td>\n      <td>991312498</td>\n      <td>3.0</td>\n      <td>Car</td>\n      <td>No tow/articulation</td>\n      <td>Parked</td>\n      <td>North West</td>\n      <td>North</td>\n      <td>On main carriageway - not in restricted lane</td>\n      <td>Not at or within 20 metres of junction</td>\n      <td>None</td>\n      <td>None</td>\n      <td>Did not leave carriageway</td>\n      <td>None</td>\n      <td>Front</td>\n      <td>No</td>\n      <td>Other</td>\n      <td>Male</td>\n      <td>62.0</td>\n      <td>56 - 65</td>\n      <td>1229.0</td>\n      <td>Petrol</td>\n      <td>12.0</td>\n      <td>VAUXHALL CORSA</td>\n      <td>Less deprived 40-50%</td>\n      <td>Rural</td>\n      <td>-1</td>\n      <td>NaN</td>\n      <td>NaN</td>\n      <td>NaN</td>\n      <td>NaN</td>\n      <td>NaN</td>\n      <td>NaN</td>\n      <td>NaN</td>\n      <td>NaN</td>\n      <td>NaN</td>\n      <td>NaN</td>\n      <td>NaN</td>\n      <td>NaN</td>\n      <td>NaN</td>\n      <td>NaN</td>\n      <td>NaN</td>\n      <td>NaN</td>\n      <td>NaN</td>\n      <td>NaN</td>\n    </tr>\n    <tr>\n      <th>223237</th>\n      <td>2022991315177</td>\n      <td>2022</td>\n      <td>991315177</td>\n      <td>254396.0</td>\n      <td>663549.0</td>\n      <td>-4.326930</td>\n      <td>55.843114</td>\n      <td>Police Scotland</td>\n      <td>Slight</td>\n      <td>1</td>\n      <td>1</td>\n      <td>01/07/2022</td>\n      <td>Friday</td>\n      <td>11:44</td>\n      <td>-1</td>\n      <td>S12000049</td>\n      <td>S12000049</td>\n      <td>Unclassified</td>\n      <td>first_road_class is C or Unclassified. These r...</td>\n      <td>Single carriageway</td>\n      <td>30</td>\n      <td>Crossroads</td>\n      <td>Auto traffic signal</td>\n      <td>Unclassified</td>\n      <td>first_road_class is C or Unclassified. These r...</td>\n      <td>None within 50 metres</td>\n      <td>Pedestrian phase at traffic signal junction</td>\n      <td>Daylight</td>\n      <td>Fine no high winds</td>\n      <td>Dry</td>\n      <td>None</td>\n      <td>None</td>\n      <td>Urban</td>\n      <td>No</td>\n      <td>Data missing or out of range</td>\n      <td>-1</td>\n      <td>2022.0</td>\n      <td>991315177</td>\n      <td>1.0</td>\n      <td>Car</td>\n      <td>No tow/articulation</td>\n      <td>Moving off</td>\n      <td>North West</td>\n      <td>South East</td>\n      <td>On main carriageway - not in restricted lane</td>\n      <td>Cleared junction or waiting/parked at junction...</td>\n      <td>None</td>\n      <td>None</td>\n      <td>Did not leave carriageway</td>\n      <td>None</td>\n      <td>Nearside</td>\n      <td>No</td>\n      <td>Not known</td>\n      <td>Male</td>\n      <td>61.0</td>\n      <td>56 - 65</td>\n      <td>1497.0</td>\n      <td>Hybrid electric</td>\n      <td>10.0</td>\n      <td>TOYOTA YARIS</td>\n      <td>More deprived 20-30%</td>\n      <td>Urban area</td>\n      <td>-1</td>\n      <td>NaN</td>\n      <td>NaN</td>\n      <td>NaN</td>\n      <td>NaN</td>\n      <td>NaN</td>\n      <td>NaN</td>\n      <td>NaN</td>\n      <td>NaN</td>\n      <td>NaN</td>\n      <td>NaN</td>\n      <td>NaN</td>\n      <td>NaN</td>\n      <td>NaN</td>\n      <td>NaN</td>\n      <td>NaN</td>\n      <td>NaN</td>\n      <td>NaN</td>\n      <td>NaN</td>\n    </tr>\n    <tr>\n      <th>223238</th>\n      <td>2022991321308</td>\n      <td>2022</td>\n      <td>991321308</td>\n      <td>325409.0</td>\n      <td>677054.0</td>\n      <td>-3.196963</td>\n      <td>55.980648</td>\n      <td>Police Scotland</td>\n      <td>Serious</td>\n      <td>1</td>\n      <td>1</td>\n      <td>02/12/2022</td>\n      <td>Friday</td>\n      <td>16:45</td>\n      <td>-1</td>\n      <td>City of Edinburgh</td>\n      <td>Edinburgh, City of</td>\n      <td>A</td>\n      <td>901</td>\n      <td>Single carriageway</td>\n      <td>30</td>\n      <td>T or staggered junction</td>\n      <td>Give way or uncontrolled</td>\n      <td>A</td>\n      <td>901</td>\n      <td>None within 50 metres</td>\n      <td>Central refuge</td>\n      <td>Darkness - lights lit</td>\n      <td>Fine no high winds</td>\n      <td>Dry</td>\n      <td>None</td>\n      <td>None</td>\n      <td>Urban</td>\n      <td>Yes</td>\n      <td>Data missing or out of range</td>\n      <td>-1</td>\n      <td>2022.0</td>\n      <td>991321308</td>\n      <td>1.0</td>\n      <td>Car</td>\n      <td>No tow/articulation</td>\n      <td>Going ahead other</td>\n      <td>East</td>\n      <td>West</td>\n      <td>On main carriageway - not in restricted lane</td>\n      <td>Approaching junction or waiting/parked at junc...</td>\n      <td>Data missing or out of range</td>\n      <td>Data missing or out of range</td>\n      <td>Data missing or out of range</td>\n      <td>None</td>\n      <td>Front</td>\n      <td>No</td>\n      <td>Other</td>\n      <td>Male</td>\n      <td>77.0</td>\n      <td>Over 75</td>\n      <td>1794.0</td>\n      <td>Petrol</td>\n      <td>17.0</td>\n      <td>TOYOTA AVENSIS</td>\n      <td>Least deprived 10%</td>\n      <td>Urban area</td>\n      <td>-1</td>\n      <td>NaN</td>\n      <td>NaN</td>\n      <td>NaN</td>\n      <td>NaN</td>\n      <td>NaN</td>\n      <td>NaN</td>\n      <td>NaN</td>\n      <td>NaN</td>\n      <td>NaN</td>\n      <td>NaN</td>\n      <td>NaN</td>\n      <td>NaN</td>\n      <td>NaN</td>\n      <td>NaN</td>\n      <td>NaN</td>\n      <td>NaN</td>\n      <td>NaN</td>\n      <td>NaN</td>\n    </tr>\n    <tr>\n      <th>223239</th>\n      <td>2022991322411</td>\n      <td>2022</td>\n      <td>991322411</td>\n      <td>324745.0</td>\n      <td>673696.0</td>\n      <td>-3.206662</td>\n      <td>55.950381</td>\n      <td>Police Scotland</td>\n      <td>Serious</td>\n      <td>1</td>\n      <td>1</td>\n      <td>23/11/2022</td>\n      <td>Wednesday</td>\n      <td>19:05</td>\n      <td>-1</td>\n      <td>City of Edinburgh</td>\n      <td>Edinburgh, City of</td>\n      <td>A</td>\n      <td>8</td>\n      <td>Dual carriageway</td>\n      <td>20</td>\n      <td>Not at junction or within 20 metres</td>\n      <td>Data missing or out of range</td>\n      <td>Not at junction or within 20 metres</td>\n      <td>Unknown</td>\n      <td>None within 50 metres</td>\n      <td>No physical crossing facilities within 50 metres</td>\n      <td>Darkness - lights lit</td>\n      <td>Fine no high winds</td>\n      <td>Wet or damp</td>\n      <td>None</td>\n      <td>None</td>\n      <td>Urban</td>\n      <td>Yes</td>\n      <td>Data missing or out of range</td>\n      <td>-1</td>\n      <td>2022.0</td>\n      <td>991322411</td>\n      <td>1.0</td>\n      <td>Taxi/Private hire car</td>\n      <td>No tow/articulation</td>\n      <td>Going ahead other</td>\n      <td>West</td>\n      <td>East</td>\n      <td>On main carriageway - not in restricted lane</td>\n      <td>Not at or within 20 metres of junction</td>\n      <td>None</td>\n      <td>None</td>\n      <td>Did not leave carriageway</td>\n      <td>None</td>\n      <td>Nearside</td>\n      <td>No</td>\n      <td>Journey as part of work</td>\n      <td>Male</td>\n      <td>60.0</td>\n      <td>56 - 65</td>\n      <td>1997.0</td>\n      <td>Heavy oil</td>\n      <td>7.0</td>\n      <td>PEUGEOT E7</td>\n      <td>Data missing or out of range</td>\n      <td>Data missing or out of range</td>\n      <td>-1</td>\n      <td>NaN</td>\n      <td>NaN</td>\n      <td>NaN</td>\n      <td>NaN</td>\n      <td>NaN</td>\n      <td>NaN</td>\n      <td>NaN</td>\n      <td>NaN</td>\n      <td>NaN</td>\n      <td>NaN</td>\n      <td>NaN</td>\n      <td>NaN</td>\n      <td>NaN</td>\n      <td>NaN</td>\n      <td>NaN</td>\n      <td>NaN</td>\n      <td>NaN</td>\n      <td>NaN</td>\n    </tr>\n  </tbody>\n</table>\n<p>223240 rows × 81 columns</p>\n</div>"
     },
     "execution_count": 151,
     "metadata": {},
     "output_type": "execute_result"
    }
   ],
   "source": [
    "df"
   ]
  },
  {
   "cell_type": "code",
   "execution_count": 152,
   "id": "0dc7d37a",
   "metadata": {
    "ExecuteTime": {
     "end_time": "2024-05-11T10:44:08.963069500Z",
     "start_time": "2024-05-11T10:43:59.433533200Z"
    }
   },
   "outputs": [],
   "source": [
    "df.to_csv('merged_collision_data.csv', index=False)"
   ]
  }
 ],
 "metadata": {
  "kernelspec": {
   "display_name": "Python 3",
   "language": "python",
   "name": "python3"
  },
  "language_info": {
   "codemirror_mode": {
    "name": "ipython",
    "version": 3
   },
   "file_extension": ".py",
   "mimetype": "text/x-python",
   "name": "python",
   "nbconvert_exporter": "python",
   "pygments_lexer": "ipython3",
   "version": "3.8.8"
  }
 },
 "nbformat": 4,
 "nbformat_minor": 5
}
